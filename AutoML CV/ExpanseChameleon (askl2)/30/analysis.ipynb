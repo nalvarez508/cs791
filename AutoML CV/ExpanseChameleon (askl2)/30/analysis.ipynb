{
 "cells": [
  {
   "cell_type": "code",
   "execution_count": 2,
   "metadata": {},
   "outputs": [],
   "source": [
    "import warnings\n",
    "warnings.filterwarnings(\"ignore\")"
   ]
  },
  {
   "cell_type": "code",
   "execution_count": 3,
   "metadata": {},
   "outputs": [],
   "source": [
    "import pandas as pd\n",
    "import numpy as np\n",
    "from imblearn.under_sampling import RandomUnderSampler\n",
    "from sklearn.ensemble import RandomForestClassifier\n",
    "from sklearn.model_selection import train_test_split\n",
    "from sklearn import metrics\n",
    "from sklearn.pipeline import make_pipeline\n",
    "from sklearn.preprocessing import StandardScaler, PowerTransformer\n",
    "from sklearn.model_selection import cross_val_score\n",
    "\n",
    "from autosklearn.classification import AutoSklearnClassifier\n",
    "from autosklearn.experimental.askl2 import AutoSklearn2Classifier"
   ]
  },
  {
   "cell_type": "code",
   "execution_count": 12,
   "metadata": {},
   "outputs": [],
   "source": [
    "root = \"../../data/other/\"\n",
    "data_root = \"../../data/other/\"\n",
    "models = [AutoSklearnClassifier(time_left_for_this_task=30, n_jobs=-1, memory_limit=4096), AutoSklearn2Classifier(time_left_for_this_task=30, n_jobs=-1, memory_limit=4096)]"
   ]
  },
  {
   "cell_type": "code",
   "execution_count": 5,
   "metadata": {},
   "outputs": [],
   "source": [
    "\"\"\"\n",
    "Expanse >>  From TACC to SDSC (rtt: 58ms)\n",
    "Chameleon >>  From TACC to UC (rtt: 32ms)\n",
    "Labels \n",
    "Code <> Name\n",
    "1    <> Normal\n",
    "2    <> Duplicate\n",
    "3    <> Reorder\n",
    "4    <> Corrupt\n",
    "5    <> Loss\n",
    "6    <> Jitter\n",
    "\"\"\"\n",
    "\n",
    "bws = {\n",
    "    \"expanse\": [1000],\n",
    "    \"chameleon\": [1000],\n",
    "}\n",
    "\n",
    "\n",
    "rtts = {\n",
    "    \"expanse\": [60],\n",
    "    \"chameleon\": [35],\n",
    "}\n",
    "\n",
    "cc_algos = [\"cubic\", \"htcp\", \"bbr\"]\n",
    "feature_file = root+\"ss_7_features.csv\"\n",
    "labels = [1,2,3,4,5,6]\n",
    "\n",
    "features = pd.read_csv(feature_file)\n",
    "feature_list = list(features.feature.values)"
   ]
  },
  {
   "cell_type": "code",
   "execution_count": 6,
   "metadata": {},
   "outputs": [],
   "source": [
    "def read_file(env, transform=True):\n",
    "    global data\n",
    "    \n",
    "    for cc_algo in cc_algos:      \n",
    "        folder = \"{0}/sslog_ps/{1}/\".format(env, cc_algo)\n",
    "\n",
    "        for bw in bws[env]:\n",
    "            for rtt in rtts[env]:\n",
    "                combo = \"b{0}d{1}\".format(bw,rtt)\n",
    "                df = pd.read_csv(data_root+\"{0}/{1}.csv\".format(folder, combo))\n",
    "                df = df.sort_values(by=['label']).reset_index().drop(columns=[\"index\"])\n",
    "                df = df[df.label.isin(labels)] \n",
    "                df.fillna(df.groupby(['label'], as_index=False).mean(), inplace=True)\n",
    "    \n",
    "                if transform:\n",
    "                    for index, row in features.iterrows():\n",
    "#                         if \"rtt\" in row['normalizer']:\n",
    "#                             df[row['feature']] = df[row['feature']] / rtt\n",
    "\n",
    "#                         else:\n",
    "                        df[row['feature']] = df[row['feature']] / df[row['normalizer']]\n",
    "\n",
    "                df.replace([np.inf, -np.inf, np.nan], 0, inplace=True)\n",
    "                if cc_algo not in data[env]:\n",
    "                    data[env][cc_algo] = {}\n",
    "                \n",
    "                data[env][cc_algo][combo] = df"
   ]
  },
  {
   "cell_type": "code",
   "execution_count": 7,
   "metadata": {},
   "outputs": [],
   "source": [
    "def feature_score(env, transform=True, size=0.8):\n",
    "    clfs = []\n",
    "    read_file(env, transform)\n",
    "    for cc_algo in cc_algos:\n",
    "        print(\"CC Algorithms: {0}\".format(cc_algo))\n",
    "        results = []\n",
    "        score = {}\n",
    "        for bw in bws[env]:\n",
    "            for rtt in rtts[env]:\n",
    "                combo = \"b{0}d{1}\".format(bw,rtt)\n",
    "                df = data[env][cc_algo][combo].copy()\n",
    "                df = df[df.report_sec == 10]\n",
    "                y = df.label\n",
    "                X = df[feature_list]#.drop(columns=\"label\") # \n",
    "                X_train, X_test, y_train, y_test = train_test_split(X,y, train_size=size)\n",
    "                X_train, y_train = RandomUnderSampler(sampling_strategy=\"all\").fit_resample(X_train, y_train)\n",
    "#                 clf = make_pipeline(PowerTransformer(), RandomForestClassifier(n_estimators=100))\n",
    "                for model in models:\n",
    "                    score[str(model)] = {}\n",
    "                    clf = model\n",
    "                    clf.fit(X_train, y_train)\n",
    "                    clfs.append(clf)\n",
    "                    y_pred = clf.predict(X_test)\n",
    "                    accuracy = np.round(metrics.accuracy_score(y_test, y_pred) * 100, 2)\n",
    "                    f1_score = np.round(metrics.f1_score(y_test, y_pred, average='micro')* 100,2)\n",
    "                    results.append(f1_score)\n",
    "    #                 print(metrics.confusion_matrix(y_test, y_pred))\n",
    "                    imp = np.round(clf.feature_importances_,2)\n",
    "                    columns = X.columns\n",
    "\n",
    "                    for i in range(len(columns)):\n",
    "                        score[model][columns[i]] = [imp[i]]\n",
    "\n",
    "        print(\"Sample Size: {0}, Average: {1}, Stdv: {2}\".format(size, np.round(np.mean(results), 2),\n",
    "                                                                 np.round(np.std(results), 2)))\n",
    "        print(\"Importance Score:\")\n",
    "        for model in score:\n",
    "            print('\\t', model)\n",
    "            for key in score[model]:\n",
    "                print(\"\\t\\t{0}: {1}\".format(key, np.round(np.mean(score[key]), 2)))\n",
    "        print()\n",
    "#     return clfs"
   ]
  },
  {
   "cell_type": "code",
   "execution_count": 8,
   "metadata": {},
   "outputs": [],
   "source": [
    "from copy import deepcopy\n",
    "output = {}\n",
    "def tl_evaluate(env1, env2, model, t_limit=10, verbose=True, file=None):\n",
    "    for cc_algo in cc_algos:\n",
    "        print(\"CC Algorithms: {0}\".format(cc_algo), end='\\t')\n",
    "        output[cc_algo] = {f\"{env1} -> {env2}\" : {}}\n",
    "        for bw in bws[env1]:\n",
    "\n",
    "            for rtt in rtts[env1]:\n",
    "                train = \"b{0}d{1}\".format(bw,rtt)\n",
    "                df = data[env1][cc_algo][train].copy()\n",
    "                df = df[df.report_sec == 10]\n",
    "                y = df.label\n",
    "                X = df[feature_list]\n",
    "                output[cc_algo][f\"{env1} -> {env2}\"] = {}\n",
    "                clf = make_pipeline(PowerTransformer(), model)\n",
    "                clf.fit(X, y)\n",
    "                results = []\n",
    "                total = []\n",
    "\n",
    "                for bw1 in bws[env2]:\n",
    "                    for rtt1 in rtts[env2]:\n",
    "                        combo = \"b{0}d{1}\".format(bw1,rtt1)\n",
    "                        if train == combo:\n",
    "                            continue\n",
    "\n",
    "                        if rtt1 != 0:\n",
    "                            df = data[env2][cc_algo][combo].copy()\n",
    "                            df = df[df.report_sec == t_limit]\n",
    "                            y = df.label\n",
    "                            X = df[feature_list]\n",
    "                            y_pred = clf.predict(X)\n",
    "                            accuracy = np.round(metrics.accuracy_score(y, y_pred)* 100,2)\n",
    "                            f_score = np.round(metrics.f1_score(y, y_pred, average='micro')* 100,2)\n",
    "                            precision = np.round(metrics.precision_score(y, y_pred, average='weighted')* 100,2)\n",
    "                            recall = np.round(metrics.recall_score(y, y_pred, average='weighted')* 100,2) \n",
    "\n",
    "                            results.append(accuracy)\n",
    "                            total.append(results[-1])\n",
    "                            if file is not None:\n",
    "                                msg = \"{0},{1},{2},{3},{4},{5},{6}\\n\".format(env1,env2,train,combo,cc_algo,\n",
    "                                                                                t_limit,f_score)\n",
    "                                file.write(msg)\n",
    "#                             print(\"{0},{1},{2},{3},{4},{5}\".format(train, combo, accuracy, f_score, precision, recall))\n",
    "            \n",
    "                if verbose:\n",
    "                    print(model, train, np.round(np.mean(results), 2), np.round(np.std(results), 2), results)\n",
    "                output[cc_algo][f\"{env1} -> {env2}\"][\"Scores\"] = deepcopy(total)\n",
    "                output[cc_algo][f\"{env1} -> {env2}\"][\"Average\"] = np.mean(total)\n",
    "                output[cc_algo][f\"{env1} -> {env2}\"][\"Std Dev\"] = np.std(total)\n",
    "                try: output[cc_algo][f\"{env1} -> {env2}\"][\"Final Ensemble\"] = str(clf[1].show_models())\n",
    "                except Exception as e: print(e)\n",
    "                try: output[cc_algo][f\"{env1} -> {env2}\"][\"Leaderboard\"] = str(clf[1].leaderboard())\n",
    "                except Exception as e: print(e)\n",
    "\n",
    "    if verbose == False:\n",
    "        for cc in output:\n",
    "            for transfer in output[cc]:\n",
    "                for model in output[cc][transfer]:\n",
    "                    print('\\t', model, end='')\n",
    "                    print(\"\\tAverage:{0}\\n\\tStd Dev: {1}\\n\".format(output[cc][transfer][\"Average\"], output[cc][transfer][\"Std Dev\"]))\n",
    "    \n",
    "    return output"
   ]
  },
  {
   "cell_type": "markdown",
   "metadata": {},
   "source": [
    "# Before Transformation Applied"
   ]
  },
  {
   "cell_type": "code",
   "execution_count": 13,
   "metadata": {},
   "outputs": [],
   "source": [
    "data = {\n",
    "    \"chameleon\": {},\n",
    "    \"expanse\": {}\n",
    "}\n",
    "read_file(\"chameleon\", transform=False)\n",
    "read_file(\"expanse\", transform=False)"
   ]
  },
  {
   "cell_type": "markdown",
   "metadata": {},
   "source": [
    "### Chameleon"
   ]
  },
  {
   "cell_type": "code",
   "execution_count": null,
   "metadata": {},
   "outputs": [],
   "source": [
    "testbed = \"chameleon\"\n",
    "#feature_score(testbed, transform=False)"
   ]
  },
  {
   "cell_type": "markdown",
   "metadata": {},
   "source": [
    "### Expanse"
   ]
  },
  {
   "cell_type": "code",
   "execution_count": null,
   "metadata": {},
   "outputs": [],
   "source": [
    "testbed = \"expanse\"\n",
    "#feature_score(testbed, transform=False)"
   ]
  },
  {
   "cell_type": "markdown",
   "metadata": {},
   "source": [
    "## Same Network"
   ]
  },
  {
   "cell_type": "code",
   "execution_count": 9,
   "metadata": {},
   "outputs": [
    {
     "name": "stdout",
     "output_type": "stream",
     "text": [
      "expanse cubic\n",
      "\t AutoSklearnClassifier(memory_limit=4096, n_jobs=-1, time_left_for_this_task=30)\n",
      "\t\t b1000d60 [0.97 0.97 0.98]\n",
      "\t\t Average: 0.97, Std dev: 0.0\n",
      "\t AutoSklearn2Classifier(memory_limit=4096, n_jobs=-1, time_left_for_this_task=30)\n",
      "\t\t b1000d60 [0.97 0.97 0.98]\n",
      "\t\t Average: 0.97, Std dev: 0.0\n",
      "expanse htcp\n",
      "\t AutoSklearnClassifier(memory_limit=4096, n_jobs=-1, time_left_for_this_task=30)\n",
      "\t\t b1000d60 [0.93 0.94 0.97]\n",
      "\t\t Average: 0.95, Std dev: 0.02\n",
      "\t AutoSklearn2Classifier(memory_limit=4096, n_jobs=-1, time_left_for_this_task=30)\n",
      "\t\t b1000d60 [0.95 0.95 0.97]\n",
      "\t\t Average: 0.96, Std dev: 0.01\n",
      "expanse bbr\n",
      "\t AutoSklearnClassifier(memory_limit=4096, n_jobs=-1, time_left_for_this_task=30)\n",
      "\t\t b1000d60 [0.98 0.99 0.99]\n",
      "\t\t Average: 0.99, Std dev: 0.0\n",
      "\t AutoSklearn2Classifier(memory_limit=4096, n_jobs=-1, time_left_for_this_task=30)\n",
      "\t\t b1000d60 [0.99 0.99 0.99]\n",
      "\t\t Average: 0.99, Std dev: 0.0\n",
      "chameleon cubic\n",
      "\t AutoSklearnClassifier(memory_limit=4096, n_jobs=-1, time_left_for_this_task=30)\n",
      "\t\t b1000d35 [0.98 0.97 0.97]\n",
      "\t\t Average: 0.97, Std dev: 0.0\n",
      "\t AutoSklearn2Classifier(memory_limit=4096, n_jobs=-1, time_left_for_this_task=30)\n",
      "\t\t b1000d35 [0.98 0.98 0.96]\n",
      "\t\t Average: 0.97, Std dev: 0.01\n",
      "chameleon htcp\n",
      "\t AutoSklearnClassifier(memory_limit=4096, n_jobs=-1, time_left_for_this_task=30)\n",
      "\t\t b1000d35 [0.96 0.97 0.98]\n",
      "\t\t Average: 0.97, Std dev: 0.01\n",
      "\t AutoSklearn2Classifier(memory_limit=4096, n_jobs=-1, time_left_for_this_task=30)\n",
      "\t\t b1000d35 [0.98 0.98 0.99]\n",
      "\t\t Average: 0.98, Std dev: 0.0\n",
      "chameleon bbr\n",
      "\t AutoSklearnClassifier(memory_limit=4096, n_jobs=-1, time_left_for_this_task=30)\n",
      "\t\t b1000d35 [0.98 0.99 0.99]\n",
      "\t\t Average: 0.99, Std dev: 0.0\n",
      "\t AutoSklearn2Classifier(memory_limit=4096, n_jobs=-1, time_left_for_this_task=30)\n",
      "\t\t b1000d35 [0.99 0.99 1.  ]\n",
      "\t\t Average: 0.99, Std dev: 0.0\n"
     ]
    }
   ],
   "source": [
    "mySameNetworkNoTransformation = dict()\n",
    "for env in bws:\n",
    "    mySameNetworkNoTransformation[env] = dict()\n",
    "    for cc_algo in cc_algos:\n",
    "        mySameNetworkNoTransformation[env][cc_algo] = dict()\n",
    "        print(env, cc_algo)\n",
    "        for bw in bws[env]:\n",
    "            for rtt in rtts[env]:\n",
    "                train = \"b{0}d{1}\".format(bw,rtt)\n",
    "                mySameNetworkNoTransformation[env][cc_algo][train] = dict()\n",
    "                df = data[env][cc_algo][train].copy()\n",
    "                df = df[df.report_sec == 10]\n",
    "                y = df.label\n",
    "                X = df[feature_list]\n",
    "                for model in models:\n",
    "                    print('\\t', model)\n",
    "                    clf = make_pipeline(PowerTransformer(), model)\n",
    "                    cv_res = np.round(cross_val_score(clf, X, y, cv=3),2)\n",
    "                    mySameNetworkNoTransformation[env][cc_algo][train][str(model)] = {\"Accuracy\": np.mean(cv_res), \"Std Dev\": np.std(cv_res)}\n",
    "                            \n",
    "                    print(\"\\t\\t\", train, cv_res)\n",
    "                    print(\"\\t\\t Average: {0}, Std dev: {1}\".format(np.round(np.mean(cv_res), 2),\n",
    "                                                                np.round(np.std(cv_res), 2)))\n",
    "                      "
   ]
  },
  {
   "cell_type": "code",
   "execution_count": 10,
   "metadata": {},
   "outputs": [],
   "source": [
    "import json\n",
    "with open(\"Same Network No Transformation.json\", \"w\") as f:\n",
    "  f.write(json.dumps(mySameNetworkNoTransformation))"
   ]
  },
  {
   "cell_type": "markdown",
   "metadata": {},
   "source": [
    "## Transfer Learning "
   ]
  },
  {
   "cell_type": "markdown",
   "metadata": {},
   "source": [
    "### Expanse to Chameleon"
   ]
  },
  {
   "cell_type": "code",
   "execution_count": 14,
   "metadata": {},
   "outputs": [
    {
     "name": "stdout",
     "output_type": "stream",
     "text": [
      "CC Algorithms: cubic\tAutoSklearnClassifier(memory_limit=4096, n_jobs=-1, per_run_time_limit=120,\n",
      "                      time_left_for_this_task=300) b1000d60 58.1 0.0 [58.1]\n",
      "CC Algorithms: htcp\tAutoSklearnClassifier(memory_limit=4096, n_jobs=-1, per_run_time_limit=120,\n",
      "                      time_left_for_this_task=300) b1000d60 33.11 0.0 [33.11]\n",
      "CC Algorithms: bbr\t"
     ]
    },
    {
     "name": "stderr",
     "output_type": "stream",
     "text": [
      "Process ForkServerProcess-650:\n",
      "Traceback (most recent call last):\n",
      "  File \"/usr/lib/python3.8/multiprocessing/process.py\", line 315, in _bootstrap\n",
      "    self.run()\n",
      "  File \"/usr/lib/python3.8/multiprocessing/process.py\", line 108, in run\n",
      "    self._target(*self._args, **self._kwargs)\n",
      "  File \"/home/nick/.local/lib/python3.8/site-packages/autosklearn/util/logging_.py\", line 320, in start_log_server\n",
      "    receiver.serve_until_stopped()\n",
      "  File \"/home/nick/.local/lib/python3.8/site-packages/autosklearn/util/logging_.py\", line 350, in serve_until_stopped\n",
      "    rd, wr, ex = select.select([self.socket.fileno()],\n",
      "KeyboardInterrupt\n"
     ]
    },
    {
     "ename": "KeyboardInterrupt",
     "evalue": "",
     "output_type": "error",
     "traceback": [
      "\u001b[0;31m---------------------------------------------------------------------------\u001b[0m",
      "\u001b[0;31mKeyboardInterrupt\u001b[0m                         Traceback (most recent call last)",
      "\u001b[1;32m/home/nick/Documents/cs791/AutoML/ExpanseChameleon (askl2)/analysis.ipynb Cell 19'\u001b[0m in \u001b[0;36m<cell line: 2>\u001b[0;34m()\u001b[0m\n\u001b[1;32m      <a href='vscode-notebook-cell:/home/nick/Documents/cs791/AutoML/ExpanseChameleon%20%28askl2%29/analysis.ipynb#ch0000018?line=0'>1</a>\u001b[0m expanseToChameleon \u001b[39m=\u001b[39m \u001b[39mdict\u001b[39m()\n\u001b[1;32m      <a href='vscode-notebook-cell:/home/nick/Documents/cs791/AutoML/ExpanseChameleon%20%28askl2%29/analysis.ipynb#ch0000018?line=1'>2</a>\u001b[0m \u001b[39mfor\u001b[39;00m model \u001b[39min\u001b[39;00m models:\n\u001b[1;32m      <a href='vscode-notebook-cell:/home/nick/Documents/cs791/AutoML/ExpanseChameleon%20%28askl2%29/analysis.ipynb#ch0000018?line=2'>3</a>\u001b[0m     \u001b[39m#print(\"Repeat: {0}\".format(i+1))\u001b[39;00m\n\u001b[0;32m----> <a href='vscode-notebook-cell:/home/nick/Documents/cs791/AutoML/ExpanseChameleon%20%28askl2%29/analysis.ipynb#ch0000018?line=3'>4</a>\u001b[0m     expanseToChameleon[\u001b[39mstr\u001b[39m(model)] \u001b[39m=\u001b[39m deepcopy(tl_evaluate(\u001b[39m\"\u001b[39m\u001b[39mexpanse\u001b[39m\u001b[39m\"\u001b[39m, \u001b[39m\"\u001b[39m\u001b[39mchameleon\u001b[39m\u001b[39m\"\u001b[39m, model))\n",
      "\u001b[1;32m/home/nick/Documents/cs791/AutoML/ExpanseChameleon (askl2)/analysis.ipynb Cell 7'\u001b[0m in \u001b[0;36mtl_evaluate\u001b[0;34m(env1, env2, model, t_limit, verbose, file)\u001b[0m\n\u001b[1;32m     <a href='vscode-notebook-cell:/home/nick/Documents/cs791/AutoML/ExpanseChameleon%20%28askl2%29/analysis.ipynb#ch0000006?line=14'>15</a>\u001b[0m output[cc_algo][\u001b[39mf\u001b[39m\u001b[39m\"\u001b[39m\u001b[39m{\u001b[39;00menv1\u001b[39m}\u001b[39;00m\u001b[39m -> \u001b[39m\u001b[39m{\u001b[39;00menv2\u001b[39m}\u001b[39;00m\u001b[39m\"\u001b[39m] \u001b[39m=\u001b[39m {}\n\u001b[1;32m     <a href='vscode-notebook-cell:/home/nick/Documents/cs791/AutoML/ExpanseChameleon%20%28askl2%29/analysis.ipynb#ch0000006?line=15'>16</a>\u001b[0m clf \u001b[39m=\u001b[39m make_pipeline(PowerTransformer(), model)\n\u001b[0;32m---> <a href='vscode-notebook-cell:/home/nick/Documents/cs791/AutoML/ExpanseChameleon%20%28askl2%29/analysis.ipynb#ch0000006?line=16'>17</a>\u001b[0m clf\u001b[39m.\u001b[39;49mfit(X, y)\n\u001b[1;32m     <a href='vscode-notebook-cell:/home/nick/Documents/cs791/AutoML/ExpanseChameleon%20%28askl2%29/analysis.ipynb#ch0000006?line=17'>18</a>\u001b[0m results \u001b[39m=\u001b[39m []\n\u001b[1;32m     <a href='vscode-notebook-cell:/home/nick/Documents/cs791/AutoML/ExpanseChameleon%20%28askl2%29/analysis.ipynb#ch0000006?line=18'>19</a>\u001b[0m total \u001b[39m=\u001b[39m []\n",
      "File \u001b[0;32m~/.local/lib/python3.8/site-packages/sklearn/pipeline.py:394\u001b[0m, in \u001b[0;36mPipeline.fit\u001b[0;34m(self, X, y, **fit_params)\u001b[0m\n\u001b[1;32m    <a href='file:///home/nick/.local/lib/python3.8/site-packages/sklearn/pipeline.py?line=391'>392</a>\u001b[0m     \u001b[39mif\u001b[39;00m \u001b[39mself\u001b[39m\u001b[39m.\u001b[39m_final_estimator \u001b[39m!=\u001b[39m \u001b[39m\"\u001b[39m\u001b[39mpassthrough\u001b[39m\u001b[39m\"\u001b[39m:\n\u001b[1;32m    <a href='file:///home/nick/.local/lib/python3.8/site-packages/sklearn/pipeline.py?line=392'>393</a>\u001b[0m         fit_params_last_step \u001b[39m=\u001b[39m fit_params_steps[\u001b[39mself\u001b[39m\u001b[39m.\u001b[39msteps[\u001b[39m-\u001b[39m\u001b[39m1\u001b[39m][\u001b[39m0\u001b[39m]]\n\u001b[0;32m--> <a href='file:///home/nick/.local/lib/python3.8/site-packages/sklearn/pipeline.py?line=393'>394</a>\u001b[0m         \u001b[39mself\u001b[39;49m\u001b[39m.\u001b[39;49m_final_estimator\u001b[39m.\u001b[39;49mfit(Xt, y, \u001b[39m*\u001b[39;49m\u001b[39m*\u001b[39;49mfit_params_last_step)\n\u001b[1;32m    <a href='file:///home/nick/.local/lib/python3.8/site-packages/sklearn/pipeline.py?line=395'>396</a>\u001b[0m \u001b[39mreturn\u001b[39;00m \u001b[39mself\u001b[39m\n",
      "File \u001b[0;32m~/.local/lib/python3.8/site-packages/autosklearn/estimators.py:1045\u001b[0m, in \u001b[0;36mAutoSklearnClassifier.fit\u001b[0;34m(self, X, y, X_test, y_test, feat_type, dataset_name)\u001b[0m\n\u001b[1;32m   <a href='file:///home/nick/.local/lib/python3.8/site-packages/autosklearn/estimators.py?line=1041'>1042</a>\u001b[0m \u001b[39m# remember target type for using in predict_proba later.\u001b[39;00m\n\u001b[1;32m   <a href='file:///home/nick/.local/lib/python3.8/site-packages/autosklearn/estimators.py?line=1042'>1043</a>\u001b[0m \u001b[39mself\u001b[39m\u001b[39m.\u001b[39mtarget_type \u001b[39m=\u001b[39m target_type\n\u001b[0;32m-> <a href='file:///home/nick/.local/lib/python3.8/site-packages/autosklearn/estimators.py?line=1044'>1045</a>\u001b[0m \u001b[39msuper\u001b[39;49m()\u001b[39m.\u001b[39;49mfit(\n\u001b[1;32m   <a href='file:///home/nick/.local/lib/python3.8/site-packages/autosklearn/estimators.py?line=1045'>1046</a>\u001b[0m     X\u001b[39m=\u001b[39;49mX,\n\u001b[1;32m   <a href='file:///home/nick/.local/lib/python3.8/site-packages/autosklearn/estimators.py?line=1046'>1047</a>\u001b[0m     y\u001b[39m=\u001b[39;49my,\n\u001b[1;32m   <a href='file:///home/nick/.local/lib/python3.8/site-packages/autosklearn/estimators.py?line=1047'>1048</a>\u001b[0m     X_test\u001b[39m=\u001b[39;49mX_test,\n\u001b[1;32m   <a href='file:///home/nick/.local/lib/python3.8/site-packages/autosklearn/estimators.py?line=1048'>1049</a>\u001b[0m     y_test\u001b[39m=\u001b[39;49my_test,\n\u001b[1;32m   <a href='file:///home/nick/.local/lib/python3.8/site-packages/autosklearn/estimators.py?line=1049'>1050</a>\u001b[0m     feat_type\u001b[39m=\u001b[39;49mfeat_type,\n\u001b[1;32m   <a href='file:///home/nick/.local/lib/python3.8/site-packages/autosklearn/estimators.py?line=1050'>1051</a>\u001b[0m     dataset_name\u001b[39m=\u001b[39;49mdataset_name,\n\u001b[1;32m   <a href='file:///home/nick/.local/lib/python3.8/site-packages/autosklearn/estimators.py?line=1051'>1052</a>\u001b[0m )\n\u001b[1;32m   <a href='file:///home/nick/.local/lib/python3.8/site-packages/autosklearn/estimators.py?line=1053'>1054</a>\u001b[0m \u001b[39m# After fit, a classifier is expected to define classes_\u001b[39;00m\n\u001b[1;32m   <a href='file:///home/nick/.local/lib/python3.8/site-packages/autosklearn/estimators.py?line=1054'>1055</a>\u001b[0m \u001b[39m# A list of class labels known to the classifier, mapping each label\u001b[39;00m\n\u001b[1;32m   <a href='file:///home/nick/.local/lib/python3.8/site-packages/autosklearn/estimators.py?line=1055'>1056</a>\u001b[0m \u001b[39m# to a numerical index used in the model representation our output.\u001b[39;00m\n\u001b[1;32m   <a href='file:///home/nick/.local/lib/python3.8/site-packages/autosklearn/estimators.py?line=1056'>1057</a>\u001b[0m \u001b[39mself\u001b[39m\u001b[39m.\u001b[39mclasses_ \u001b[39m=\u001b[39m \u001b[39mself\u001b[39m\u001b[39m.\u001b[39mautoml_\u001b[39m.\u001b[39mInputValidator\u001b[39m.\u001b[39mtarget_validator\u001b[39m.\u001b[39mclasses_\n",
      "File \u001b[0;32m~/.local/lib/python3.8/site-packages/autosklearn/estimators.py:375\u001b[0m, in \u001b[0;36mAutoSklearnEstimator.fit\u001b[0;34m(self, **kwargs)\u001b[0m\n\u001b[1;32m    <a href='file:///home/nick/.local/lib/python3.8/site-packages/autosklearn/estimators.py?line=372'>373</a>\u001b[0m \u001b[39mif\u001b[39;00m \u001b[39mself\u001b[39m\u001b[39m.\u001b[39mautoml_ \u001b[39mis\u001b[39;00m \u001b[39mNone\u001b[39;00m:\n\u001b[1;32m    <a href='file:///home/nick/.local/lib/python3.8/site-packages/autosklearn/estimators.py?line=373'>374</a>\u001b[0m     \u001b[39mself\u001b[39m\u001b[39m.\u001b[39mautoml_ \u001b[39m=\u001b[39m \u001b[39mself\u001b[39m\u001b[39m.\u001b[39mbuild_automl()\n\u001b[0;32m--> <a href='file:///home/nick/.local/lib/python3.8/site-packages/autosklearn/estimators.py?line=374'>375</a>\u001b[0m \u001b[39mself\u001b[39;49m\u001b[39m.\u001b[39;49mautoml_\u001b[39m.\u001b[39;49mfit(load_models\u001b[39m=\u001b[39;49m\u001b[39mself\u001b[39;49m\u001b[39m.\u001b[39;49mload_models, \u001b[39m*\u001b[39;49m\u001b[39m*\u001b[39;49mkwargs)\n\u001b[1;32m    <a href='file:///home/nick/.local/lib/python3.8/site-packages/autosklearn/estimators.py?line=376'>377</a>\u001b[0m \u001b[39mreturn\u001b[39;00m \u001b[39mself\u001b[39m\n",
      "File \u001b[0;32m~/.local/lib/python3.8/site-packages/autosklearn/automl.py:2056\u001b[0m, in \u001b[0;36mAutoMLClassifier.fit\u001b[0;34m(self, X, y, X_test, y_test, feat_type, dataset_name, only_return_configuration_space, load_models)\u001b[0m\n\u001b[1;32m   <a href='file:///home/nick/.local/lib/python3.8/site-packages/autosklearn/automl.py?line=2044'>2045</a>\u001b[0m \u001b[39mdef\u001b[39;00m \u001b[39mfit\u001b[39m(\n\u001b[1;32m   <a href='file:///home/nick/.local/lib/python3.8/site-packages/autosklearn/automl.py?line=2045'>2046</a>\u001b[0m     \u001b[39mself\u001b[39m,\n\u001b[1;32m   <a href='file:///home/nick/.local/lib/python3.8/site-packages/autosklearn/automl.py?line=2046'>2047</a>\u001b[0m     X: SUPPORTED_FEAT_TYPES,\n\u001b[0;32m   (...)\u001b[0m\n\u001b[1;32m   <a href='file:///home/nick/.local/lib/python3.8/site-packages/autosklearn/automl.py?line=2053'>2054</a>\u001b[0m     load_models: \u001b[39mbool\u001b[39m \u001b[39m=\u001b[39m \u001b[39mTrue\u001b[39;00m,\n\u001b[1;32m   <a href='file:///home/nick/.local/lib/python3.8/site-packages/autosklearn/automl.py?line=2054'>2055</a>\u001b[0m ):\n\u001b[0;32m-> <a href='file:///home/nick/.local/lib/python3.8/site-packages/autosklearn/automl.py?line=2055'>2056</a>\u001b[0m     \u001b[39mreturn\u001b[39;00m \u001b[39msuper\u001b[39;49m()\u001b[39m.\u001b[39;49mfit(\n\u001b[1;32m   <a href='file:///home/nick/.local/lib/python3.8/site-packages/autosklearn/automl.py?line=2056'>2057</a>\u001b[0m         X, y,\n\u001b[1;32m   <a href='file:///home/nick/.local/lib/python3.8/site-packages/autosklearn/automl.py?line=2057'>2058</a>\u001b[0m         X_test\u001b[39m=\u001b[39;49mX_test,\n\u001b[1;32m   <a href='file:///home/nick/.local/lib/python3.8/site-packages/autosklearn/automl.py?line=2058'>2059</a>\u001b[0m         y_test\u001b[39m=\u001b[39;49my_test,\n\u001b[1;32m   <a href='file:///home/nick/.local/lib/python3.8/site-packages/autosklearn/automl.py?line=2059'>2060</a>\u001b[0m         feat_type\u001b[39m=\u001b[39;49mfeat_type,\n\u001b[1;32m   <a href='file:///home/nick/.local/lib/python3.8/site-packages/autosklearn/automl.py?line=2060'>2061</a>\u001b[0m         dataset_name\u001b[39m=\u001b[39;49mdataset_name,\n\u001b[1;32m   <a href='file:///home/nick/.local/lib/python3.8/site-packages/autosklearn/automl.py?line=2061'>2062</a>\u001b[0m         only_return_configuration_space\u001b[39m=\u001b[39;49monly_return_configuration_space,\n\u001b[1;32m   <a href='file:///home/nick/.local/lib/python3.8/site-packages/autosklearn/automl.py?line=2062'>2063</a>\u001b[0m         load_models\u001b[39m=\u001b[39;49mload_models,\n\u001b[1;32m   <a href='file:///home/nick/.local/lib/python3.8/site-packages/autosklearn/automl.py?line=2063'>2064</a>\u001b[0m         is_classification\u001b[39m=\u001b[39;49m\u001b[39mTrue\u001b[39;49;00m,\n\u001b[1;32m   <a href='file:///home/nick/.local/lib/python3.8/site-packages/autosklearn/automl.py?line=2064'>2065</a>\u001b[0m     )\n",
      "File \u001b[0;32m~/.local/lib/python3.8/site-packages/autosklearn/automl.py:931\u001b[0m, in \u001b[0;36mAutoML.fit\u001b[0;34m(self, X, y, task, X_test, y_test, feat_type, dataset_name, only_return_configuration_space, load_models, is_classification)\u001b[0m\n\u001b[1;32m    <a href='file:///home/nick/.local/lib/python3.8/site-packages/autosklearn/automl.py?line=897'>898</a>\u001b[0m _proc_smac \u001b[39m=\u001b[39m AutoMLSMBO(\n\u001b[1;32m    <a href='file:///home/nick/.local/lib/python3.8/site-packages/autosklearn/automl.py?line=898'>899</a>\u001b[0m     config_space\u001b[39m=\u001b[39m\u001b[39mself\u001b[39m\u001b[39m.\u001b[39mconfiguration_space,\n\u001b[1;32m    <a href='file:///home/nick/.local/lib/python3.8/site-packages/autosklearn/automl.py?line=899'>900</a>\u001b[0m     dataset_name\u001b[39m=\u001b[39m\u001b[39mself\u001b[39m\u001b[39m.\u001b[39m_dataset_name,\n\u001b[0;32m   (...)\u001b[0m\n\u001b[1;32m    <a href='file:///home/nick/.local/lib/python3.8/site-packages/autosklearn/automl.py?line=925'>926</a>\u001b[0m     trials_callback\u001b[39m=\u001b[39m\u001b[39mself\u001b[39m\u001b[39m.\u001b[39m_get_trials_callback\n\u001b[1;32m    <a href='file:///home/nick/.local/lib/python3.8/site-packages/autosklearn/automl.py?line=926'>927</a>\u001b[0m )\n\u001b[1;32m    <a href='file:///home/nick/.local/lib/python3.8/site-packages/autosklearn/automl.py?line=928'>929</a>\u001b[0m \u001b[39mtry\u001b[39;00m:\n\u001b[1;32m    <a href='file:///home/nick/.local/lib/python3.8/site-packages/autosklearn/automl.py?line=929'>930</a>\u001b[0m     \u001b[39mself\u001b[39m\u001b[39m.\u001b[39mrunhistory_, \u001b[39mself\u001b[39m\u001b[39m.\u001b[39mtrajectory_, \u001b[39mself\u001b[39m\u001b[39m.\u001b[39m_budget_type \u001b[39m=\u001b[39m \\\n\u001b[0;32m--> <a href='file:///home/nick/.local/lib/python3.8/site-packages/autosklearn/automl.py?line=930'>931</a>\u001b[0m         _proc_smac\u001b[39m.\u001b[39;49mrun_smbo()\n\u001b[1;32m    <a href='file:///home/nick/.local/lib/python3.8/site-packages/autosklearn/automl.py?line=931'>932</a>\u001b[0m     trajectory_filename \u001b[39m=\u001b[39m os\u001b[39m.\u001b[39mpath\u001b[39m.\u001b[39mjoin(\n\u001b[1;32m    <a href='file:///home/nick/.local/lib/python3.8/site-packages/autosklearn/automl.py?line=932'>933</a>\u001b[0m         \u001b[39mself\u001b[39m\u001b[39m.\u001b[39m_backend\u001b[39m.\u001b[39mget_smac_output_directory_for_run(\u001b[39mself\u001b[39m\u001b[39m.\u001b[39m_seed),\n\u001b[1;32m    <a href='file:///home/nick/.local/lib/python3.8/site-packages/autosklearn/automl.py?line=933'>934</a>\u001b[0m         \u001b[39m'\u001b[39m\u001b[39mtrajectory.json\u001b[39m\u001b[39m'\u001b[39m)\n\u001b[1;32m    <a href='file:///home/nick/.local/lib/python3.8/site-packages/autosklearn/automl.py?line=934'>935</a>\u001b[0m     saveable_trajectory \u001b[39m=\u001b[39m \\\n\u001b[1;32m    <a href='file:///home/nick/.local/lib/python3.8/site-packages/autosklearn/automl.py?line=935'>936</a>\u001b[0m         [\u001b[39mlist\u001b[39m(entry[:\u001b[39m2\u001b[39m]) \u001b[39m+\u001b[39m [entry[\u001b[39m2\u001b[39m]\u001b[39m.\u001b[39mget_dictionary()] \u001b[39m+\u001b[39m \u001b[39mlist\u001b[39m(entry[\u001b[39m3\u001b[39m:])\n\u001b[1;32m    <a href='file:///home/nick/.local/lib/python3.8/site-packages/autosklearn/automl.py?line=936'>937</a>\u001b[0m          \u001b[39mfor\u001b[39;00m entry \u001b[39min\u001b[39;00m \u001b[39mself\u001b[39m\u001b[39m.\u001b[39mtrajectory_]\n",
      "File \u001b[0;32m~/.local/lib/python3.8/site-packages/autosklearn/smbo.py:498\u001b[0m, in \u001b[0;36mAutoMLSMBO.run_smbo\u001b[0;34m(self)\u001b[0m\n\u001b[1;32m    <a href='file:///home/nick/.local/lib/python3.8/site-packages/autosklearn/smbo.py?line=494'>495</a>\u001b[0m \u001b[39mif\u001b[39;00m \u001b[39mself\u001b[39m\u001b[39m.\u001b[39mtrials_callback \u001b[39mis\u001b[39;00m \u001b[39mnot\u001b[39;00m \u001b[39mNone\u001b[39;00m:\n\u001b[1;32m    <a href='file:///home/nick/.local/lib/python3.8/site-packages/autosklearn/smbo.py?line=495'>496</a>\u001b[0m     smac\u001b[39m.\u001b[39mregister_callback(\u001b[39mself\u001b[39m\u001b[39m.\u001b[39mtrials_callback)\n\u001b[0;32m--> <a href='file:///home/nick/.local/lib/python3.8/site-packages/autosklearn/smbo.py?line=497'>498</a>\u001b[0m smac\u001b[39m.\u001b[39;49moptimize()\n\u001b[1;32m    <a href='file:///home/nick/.local/lib/python3.8/site-packages/autosklearn/smbo.py?line=499'>500</a>\u001b[0m \u001b[39mself\u001b[39m\u001b[39m.\u001b[39mrunhistory \u001b[39m=\u001b[39m smac\u001b[39m.\u001b[39msolver\u001b[39m.\u001b[39mrunhistory\n\u001b[1;32m    <a href='file:///home/nick/.local/lib/python3.8/site-packages/autosklearn/smbo.py?line=500'>501</a>\u001b[0m \u001b[39mself\u001b[39m\u001b[39m.\u001b[39mtrajectory \u001b[39m=\u001b[39m smac\u001b[39m.\u001b[39msolver\u001b[39m.\u001b[39mintensifier\u001b[39m.\u001b[39mtraj_logger\u001b[39m.\u001b[39mtrajectory\n",
      "File \u001b[0;32m~/.local/lib/python3.8/site-packages/smac/facade/smac_ac_facade.py:720\u001b[0m, in \u001b[0;36mSMAC4AC.optimize\u001b[0;34m(self)\u001b[0m\n\u001b[1;32m    <a href='file:///home/nick/.local/lib/python3.8/site-packages/smac/facade/smac_ac_facade.py?line=717'>718</a>\u001b[0m incumbent \u001b[39m=\u001b[39m \u001b[39mNone\u001b[39;00m\n\u001b[1;32m    <a href='file:///home/nick/.local/lib/python3.8/site-packages/smac/facade/smac_ac_facade.py?line=718'>719</a>\u001b[0m \u001b[39mtry\u001b[39;00m:\n\u001b[0;32m--> <a href='file:///home/nick/.local/lib/python3.8/site-packages/smac/facade/smac_ac_facade.py?line=719'>720</a>\u001b[0m     incumbent \u001b[39m=\u001b[39m \u001b[39mself\u001b[39;49m\u001b[39m.\u001b[39;49msolver\u001b[39m.\u001b[39;49mrun()\n\u001b[1;32m    <a href='file:///home/nick/.local/lib/python3.8/site-packages/smac/facade/smac_ac_facade.py?line=720'>721</a>\u001b[0m \u001b[39mfinally\u001b[39;00m:\n\u001b[1;32m    <a href='file:///home/nick/.local/lib/python3.8/site-packages/smac/facade/smac_ac_facade.py?line=721'>722</a>\u001b[0m     \u001b[39mself\u001b[39m\u001b[39m.\u001b[39msolver\u001b[39m.\u001b[39msave()\n",
      "File \u001b[0;32m~/.local/lib/python3.8/site-packages/smac/optimizer/smbo.py:229\u001b[0m, in \u001b[0;36mSMBO.run\u001b[0;34m(self)\u001b[0m\n\u001b[1;32m    <a href='file:///home/nick/.local/lib/python3.8/site-packages/smac/optimizer/smbo.py?line=224'>225</a>\u001b[0m start_time \u001b[39m=\u001b[39m time\u001b[39m.\u001b[39mtime()\n\u001b[1;32m    <a href='file:///home/nick/.local/lib/python3.8/site-packages/smac/optimizer/smbo.py?line=226'>227</a>\u001b[0m \u001b[39m# sample next configuration for intensification\u001b[39;00m\n\u001b[1;32m    <a href='file:///home/nick/.local/lib/python3.8/site-packages/smac/optimizer/smbo.py?line=227'>228</a>\u001b[0m \u001b[39m# Initial design runs are also included in the BO loop now.\u001b[39;00m\n\u001b[0;32m--> <a href='file:///home/nick/.local/lib/python3.8/site-packages/smac/optimizer/smbo.py?line=228'>229</a>\u001b[0m intent, run_info \u001b[39m=\u001b[39m \u001b[39mself\u001b[39;49m\u001b[39m.\u001b[39;49mintensifier\u001b[39m.\u001b[39;49mget_next_run(\n\u001b[1;32m    <a href='file:///home/nick/.local/lib/python3.8/site-packages/smac/optimizer/smbo.py?line=229'>230</a>\u001b[0m     challengers\u001b[39m=\u001b[39;49m\u001b[39mself\u001b[39;49m\u001b[39m.\u001b[39;49minitial_design_configs,\n\u001b[1;32m    <a href='file:///home/nick/.local/lib/python3.8/site-packages/smac/optimizer/smbo.py?line=230'>231</a>\u001b[0m     incumbent\u001b[39m=\u001b[39;49m\u001b[39mself\u001b[39;49m\u001b[39m.\u001b[39;49mincumbent,\n\u001b[1;32m    <a href='file:///home/nick/.local/lib/python3.8/site-packages/smac/optimizer/smbo.py?line=231'>232</a>\u001b[0m     chooser\u001b[39m=\u001b[39;49m\u001b[39mself\u001b[39;49m\u001b[39m.\u001b[39;49mepm_chooser,\n\u001b[1;32m    <a href='file:///home/nick/.local/lib/python3.8/site-packages/smac/optimizer/smbo.py?line=232'>233</a>\u001b[0m     run_history\u001b[39m=\u001b[39;49m\u001b[39mself\u001b[39;49m\u001b[39m.\u001b[39;49mrunhistory,\n\u001b[1;32m    <a href='file:///home/nick/.local/lib/python3.8/site-packages/smac/optimizer/smbo.py?line=233'>234</a>\u001b[0m     repeat_configs\u001b[39m=\u001b[39;49m\u001b[39mself\u001b[39;49m\u001b[39m.\u001b[39;49mintensifier\u001b[39m.\u001b[39;49mrepeat_configs,\n\u001b[1;32m    <a href='file:///home/nick/.local/lib/python3.8/site-packages/smac/optimizer/smbo.py?line=234'>235</a>\u001b[0m     num_workers\u001b[39m=\u001b[39;49m\u001b[39mself\u001b[39;49m\u001b[39m.\u001b[39;49mtae_runner\u001b[39m.\u001b[39;49mnum_workers(),\n\u001b[1;32m    <a href='file:///home/nick/.local/lib/python3.8/site-packages/smac/optimizer/smbo.py?line=235'>236</a>\u001b[0m )\n\u001b[1;32m    <a href='file:///home/nick/.local/lib/python3.8/site-packages/smac/optimizer/smbo.py?line=237'>238</a>\u001b[0m \u001b[39m# remove config from initial design challengers to not repeat it again\u001b[39;00m\n\u001b[1;32m    <a href='file:///home/nick/.local/lib/python3.8/site-packages/smac/optimizer/smbo.py?line=238'>239</a>\u001b[0m \u001b[39mself\u001b[39m\u001b[39m.\u001b[39minitial_design_configs \u001b[39m=\u001b[39m [\n\u001b[1;32m    <a href='file:///home/nick/.local/lib/python3.8/site-packages/smac/optimizer/smbo.py?line=239'>240</a>\u001b[0m     c \u001b[39mfor\u001b[39;00m c \u001b[39min\u001b[39;00m \u001b[39mself\u001b[39m\u001b[39m.\u001b[39minitial_design_configs \u001b[39mif\u001b[39;00m c \u001b[39m!=\u001b[39m run_info\u001b[39m.\u001b[39mconfig\n\u001b[1;32m    <a href='file:///home/nick/.local/lib/python3.8/site-packages/smac/optimizer/smbo.py?line=240'>241</a>\u001b[0m ]\n",
      "File \u001b[0;32m~/.local/lib/python3.8/site-packages/smac/intensification/simple_intensifier.py:169\u001b[0m, in \u001b[0;36mSimpleIntensifier.get_next_run\u001b[0;34m(self, challengers, incumbent, chooser, run_history, repeat_configs, num_workers)\u001b[0m\n\u001b[1;32m    <a href='file:///home/nick/.local/lib/python3.8/site-packages/smac/intensification/simple_intensifier.py?line=138'>139</a>\u001b[0m \u001b[39m\"\"\"\u001b[39;00m\n\u001b[1;32m    <a href='file:///home/nick/.local/lib/python3.8/site-packages/smac/intensification/simple_intensifier.py?line=139'>140</a>\u001b[0m \u001b[39mSelects which challenger to be used. As in a traditional BO loop,\u001b[39;00m\n\u001b[1;32m    <a href='file:///home/nick/.local/lib/python3.8/site-packages/smac/intensification/simple_intensifier.py?line=140'>141</a>\u001b[0m \u001b[39mwe sample from the EPM, which is the next configuration based on\u001b[39;00m\n\u001b[0;32m   (...)\u001b[0m\n\u001b[1;32m    <a href='file:///home/nick/.local/lib/python3.8/site-packages/smac/intensification/simple_intensifier.py?line=165'>166</a>\u001b[0m \u001b[39m    evaluate a configuration\u001b[39;00m\n\u001b[1;32m    <a href='file:///home/nick/.local/lib/python3.8/site-packages/smac/intensification/simple_intensifier.py?line=166'>167</a>\u001b[0m \u001b[39m \"\"\"\u001b[39;00m\n\u001b[1;32m    <a href='file:///home/nick/.local/lib/python3.8/site-packages/smac/intensification/simple_intensifier.py?line=167'>168</a>\u001b[0m \u001b[39m# We always sample from the configs provided or the EPM\u001b[39;00m\n\u001b[0;32m--> <a href='file:///home/nick/.local/lib/python3.8/site-packages/smac/intensification/simple_intensifier.py?line=168'>169</a>\u001b[0m challenger \u001b[39m=\u001b[39m \u001b[39mself\u001b[39;49m\u001b[39m.\u001b[39;49m_next_challenger(challengers\u001b[39m=\u001b[39;49mchallengers,\n\u001b[1;32m    <a href='file:///home/nick/.local/lib/python3.8/site-packages/smac/intensification/simple_intensifier.py?line=169'>170</a>\u001b[0m                                    chooser\u001b[39m=\u001b[39;49mchooser,\n\u001b[1;32m    <a href='file:///home/nick/.local/lib/python3.8/site-packages/smac/intensification/simple_intensifier.py?line=170'>171</a>\u001b[0m                                    run_history\u001b[39m=\u001b[39;49mrun_history,\n\u001b[1;32m    <a href='file:///home/nick/.local/lib/python3.8/site-packages/smac/intensification/simple_intensifier.py?line=171'>172</a>\u001b[0m                                    repeat_configs\u001b[39m=\u001b[39;49mrepeat_configs)\n\u001b[1;32m    <a href='file:///home/nick/.local/lib/python3.8/site-packages/smac/intensification/simple_intensifier.py?line=173'>174</a>\u001b[0m \u001b[39m# Run tracker is a dictionary whose values indicate if a run has been\u001b[39;00m\n\u001b[1;32m    <a href='file:///home/nick/.local/lib/python3.8/site-packages/smac/intensification/simple_intensifier.py?line=174'>175</a>\u001b[0m \u001b[39m# processed. If a value in this dict is false, it means that a worker\u001b[39;00m\n\u001b[1;32m    <a href='file:///home/nick/.local/lib/python3.8/site-packages/smac/intensification/simple_intensifier.py?line=175'>176</a>\u001b[0m \u001b[39m# should still be processing this configuration.\u001b[39;00m\n\u001b[1;32m    <a href='file:///home/nick/.local/lib/python3.8/site-packages/smac/intensification/simple_intensifier.py?line=176'>177</a>\u001b[0m total_active_runs \u001b[39m=\u001b[39m \u001b[39mlen\u001b[39m([v \u001b[39mfor\u001b[39;00m v \u001b[39min\u001b[39;00m \u001b[39mself\u001b[39m\u001b[39m.\u001b[39mrun_tracker\u001b[39m.\u001b[39mvalues() \u001b[39mif\u001b[39;00m \u001b[39mnot\u001b[39;00m v])\n",
      "File \u001b[0;32m~/.local/lib/python3.8/site-packages/smac/intensification/abstract_racer.py:260\u001b[0m, in \u001b[0;36mAbstractRacer._next_challenger\u001b[0;34m(self, challengers, chooser, run_history, repeat_configs)\u001b[0m\n\u001b[1;32m    <a href='file:///home/nick/.local/lib/python3.8/site-packages/smac/intensification/abstract_racer.py?line=257'>258</a>\u001b[0m \u001b[39m# select challenger from the generators\u001b[39;00m\n\u001b[1;32m    <a href='file:///home/nick/.local/lib/python3.8/site-packages/smac/intensification/abstract_racer.py?line=258'>259</a>\u001b[0m \u001b[39massert\u001b[39;00m chall_gen \u001b[39mis\u001b[39;00m \u001b[39mnot\u001b[39;00m \u001b[39mNone\u001b[39;00m\n\u001b[0;32m--> <a href='file:///home/nick/.local/lib/python3.8/site-packages/smac/intensification/abstract_racer.py?line=259'>260</a>\u001b[0m \u001b[39mfor\u001b[39;00m challenger \u001b[39min\u001b[39;00m chall_gen:\n\u001b[1;32m    <a href='file:///home/nick/.local/lib/python3.8/site-packages/smac/intensification/abstract_racer.py?line=260'>261</a>\u001b[0m     \u001b[39m# repetitions allowed\u001b[39;00m\n\u001b[1;32m    <a href='file:///home/nick/.local/lib/python3.8/site-packages/smac/intensification/abstract_racer.py?line=261'>262</a>\u001b[0m     \u001b[39mif\u001b[39;00m repeat_configs:\n\u001b[1;32m    <a href='file:///home/nick/.local/lib/python3.8/site-packages/smac/intensification/abstract_racer.py?line=262'>263</a>\u001b[0m         \u001b[39mreturn\u001b[39;00m challenger\n",
      "File \u001b[0;32m~/.local/lib/python3.8/site-packages/smac/optimizer/ei_optimization.py:723\u001b[0m, in \u001b[0;36mChallengerList.__next__\u001b[0;34m(self)\u001b[0m\n\u001b[1;32m    <a href='file:///home/nick/.local/lib/python3.8/site-packages/smac/optimizer/ei_optimization.py?line=720'>721</a>\u001b[0m \u001b[39melse\u001b[39;00m:\n\u001b[1;32m    <a href='file:///home/nick/.local/lib/python3.8/site-packages/smac/optimizer/ei_optimization.py?line=721'>722</a>\u001b[0m     \u001b[39mif\u001b[39;00m \u001b[39mself\u001b[39m\u001b[39m.\u001b[39mchallengers \u001b[39mis\u001b[39;00m \u001b[39mNone\u001b[39;00m:\n\u001b[0;32m--> <a href='file:///home/nick/.local/lib/python3.8/site-packages/smac/optimizer/ei_optimization.py?line=722'>723</a>\u001b[0m         \u001b[39mself\u001b[39m\u001b[39m.\u001b[39mchallengers \u001b[39m=\u001b[39m \u001b[39mself\u001b[39;49m\u001b[39m.\u001b[39;49mchallengers_callback()\n\u001b[1;32m    <a href='file:///home/nick/.local/lib/python3.8/site-packages/smac/optimizer/ei_optimization.py?line=723'>724</a>\u001b[0m     config \u001b[39m=\u001b[39m \u001b[39mself\u001b[39m\u001b[39m.\u001b[39mchallengers[\u001b[39mself\u001b[39m\u001b[39m.\u001b[39m_index]\n\u001b[1;32m    <a href='file:///home/nick/.local/lib/python3.8/site-packages/smac/optimizer/ei_optimization.py?line=724'>725</a>\u001b[0m     \u001b[39mself\u001b[39m\u001b[39m.\u001b[39m_index \u001b[39m+\u001b[39m\u001b[39m=\u001b[39m \u001b[39m1\u001b[39m\n",
      "File \u001b[0;32m~/.local/lib/python3.8/site-packages/smac/optimizer/ei_optimization.py:92\u001b[0m, in \u001b[0;36mAcquisitionFunctionMaximizer.maximize.<locals>.next_configs_by_acq_value\u001b[0;34m()\u001b[0m\n\u001b[1;32m     <a href='file:///home/nick/.local/lib/python3.8/site-packages/smac/optimizer/ei_optimization.py?line=90'>91</a>\u001b[0m \u001b[39mdef\u001b[39;00m \u001b[39mnext_configs_by_acq_value\u001b[39m() \u001b[39m-\u001b[39m\u001b[39m>\u001b[39m List[Configuration]:\n\u001b[0;32m---> <a href='file:///home/nick/.local/lib/python3.8/site-packages/smac/optimizer/ei_optimization.py?line=91'>92</a>\u001b[0m     \u001b[39mreturn\u001b[39;00m [t[\u001b[39m1\u001b[39m] \u001b[39mfor\u001b[39;00m t \u001b[39min\u001b[39;00m \u001b[39mself\u001b[39;49m\u001b[39m.\u001b[39;49m_maximize(runhistory, stats, num_points)]\n",
      "File \u001b[0;32m~/.local/lib/python3.8/site-packages/smac/optimizer/ei_optimization.py:656\u001b[0m, in \u001b[0;36mLocalAndSortedRandomSearch._maximize\u001b[0;34m(self, runhistory, stats, num_points)\u001b[0m\n\u001b[1;32m    <a href='file:///home/nick/.local/lib/python3.8/site-packages/smac/optimizer/ei_optimization.py?line=640'>641</a>\u001b[0m \u001b[39mdef\u001b[39;00m \u001b[39m_maximize\u001b[39m(\n\u001b[1;32m    <a href='file:///home/nick/.local/lib/python3.8/site-packages/smac/optimizer/ei_optimization.py?line=641'>642</a>\u001b[0m     \u001b[39mself\u001b[39m,\n\u001b[1;32m    <a href='file:///home/nick/.local/lib/python3.8/site-packages/smac/optimizer/ei_optimization.py?line=642'>643</a>\u001b[0m     runhistory: RunHistory,\n\u001b[0;32m   (...)\u001b[0m\n\u001b[1;32m    <a href='file:///home/nick/.local/lib/python3.8/site-packages/smac/optimizer/ei_optimization.py?line=646'>647</a>\u001b[0m \n\u001b[1;32m    <a href='file:///home/nick/.local/lib/python3.8/site-packages/smac/optimizer/ei_optimization.py?line=647'>648</a>\u001b[0m     \u001b[39m# Get configurations sorted by EI\u001b[39;00m\n\u001b[1;32m    <a href='file:///home/nick/.local/lib/python3.8/site-packages/smac/optimizer/ei_optimization.py?line=648'>649</a>\u001b[0m     next_configs_by_random_search_sorted \u001b[39m=\u001b[39m \u001b[39mself\u001b[39m\u001b[39m.\u001b[39mrandom_search\u001b[39m.\u001b[39m_maximize(\n\u001b[1;32m    <a href='file:///home/nick/.local/lib/python3.8/site-packages/smac/optimizer/ei_optimization.py?line=649'>650</a>\u001b[0m         runhistory,\n\u001b[1;32m    <a href='file:///home/nick/.local/lib/python3.8/site-packages/smac/optimizer/ei_optimization.py?line=650'>651</a>\u001b[0m         stats,\n\u001b[1;32m    <a href='file:///home/nick/.local/lib/python3.8/site-packages/smac/optimizer/ei_optimization.py?line=651'>652</a>\u001b[0m         num_points,\n\u001b[1;32m    <a href='file:///home/nick/.local/lib/python3.8/site-packages/smac/optimizer/ei_optimization.py?line=652'>653</a>\u001b[0m         _sorted\u001b[39m=\u001b[39m\u001b[39mTrue\u001b[39;00m,\n\u001b[1;32m    <a href='file:///home/nick/.local/lib/python3.8/site-packages/smac/optimizer/ei_optimization.py?line=653'>654</a>\u001b[0m     )\n\u001b[0;32m--> <a href='file:///home/nick/.local/lib/python3.8/site-packages/smac/optimizer/ei_optimization.py?line=655'>656</a>\u001b[0m     next_configs_by_local_search \u001b[39m=\u001b[39m \u001b[39mself\u001b[39;49m\u001b[39m.\u001b[39;49mlocal_search\u001b[39m.\u001b[39;49m_maximize(\n\u001b[1;32m    <a href='file:///home/nick/.local/lib/python3.8/site-packages/smac/optimizer/ei_optimization.py?line=656'>657</a>\u001b[0m         runhistory, stats, \u001b[39mself\u001b[39;49m\u001b[39m.\u001b[39;49mn_sls_iterations, additional_start_points\u001b[39m=\u001b[39;49mnext_configs_by_random_search_sorted,\n\u001b[1;32m    <a href='file:///home/nick/.local/lib/python3.8/site-packages/smac/optimizer/ei_optimization.py?line=657'>658</a>\u001b[0m     )\n\u001b[1;32m    <a href='file:///home/nick/.local/lib/python3.8/site-packages/smac/optimizer/ei_optimization.py?line=659'>660</a>\u001b[0m     \u001b[39m# Having the configurations from random search, sorted by their\u001b[39;00m\n\u001b[1;32m    <a href='file:///home/nick/.local/lib/python3.8/site-packages/smac/optimizer/ei_optimization.py?line=660'>661</a>\u001b[0m     \u001b[39m# acquisition function value is important for the first few iterations\u001b[39;00m\n\u001b[1;32m    <a href='file:///home/nick/.local/lib/python3.8/site-packages/smac/optimizer/ei_optimization.py?line=661'>662</a>\u001b[0m     \u001b[39m# of SMAC. As long as the random forest predicts constant value, we\u001b[39;00m\n\u001b[1;32m    <a href='file:///home/nick/.local/lib/python3.8/site-packages/smac/optimizer/ei_optimization.py?line=662'>663</a>\u001b[0m     \u001b[39m# want to use only random configurations. Having them at the begging of\u001b[39;00m\n\u001b[1;32m    <a href='file:///home/nick/.local/lib/python3.8/site-packages/smac/optimizer/ei_optimization.py?line=663'>664</a>\u001b[0m     \u001b[39m# the list ensures this (even after adding the configurations by local\u001b[39;00m\n\u001b[1;32m    <a href='file:///home/nick/.local/lib/python3.8/site-packages/smac/optimizer/ei_optimization.py?line=664'>665</a>\u001b[0m     \u001b[39m# search, and then sorting them)\u001b[39;00m\n\u001b[1;32m    <a href='file:///home/nick/.local/lib/python3.8/site-packages/smac/optimizer/ei_optimization.py?line=665'>666</a>\u001b[0m     next_configs_by_acq_value \u001b[39m=\u001b[39m (\n\u001b[1;32m    <a href='file:///home/nick/.local/lib/python3.8/site-packages/smac/optimizer/ei_optimization.py?line=666'>667</a>\u001b[0m         next_configs_by_random_search_sorted \u001b[39m+\u001b[39m next_configs_by_local_search\n\u001b[1;32m    <a href='file:///home/nick/.local/lib/python3.8/site-packages/smac/optimizer/ei_optimization.py?line=667'>668</a>\u001b[0m     )\n",
      "File \u001b[0;32m~/.local/lib/python3.8/site-packages/smac/optimizer/ei_optimization.py:233\u001b[0m, in \u001b[0;36mLocalSearch._maximize\u001b[0;34m(self, runhistory, stats, num_points, additional_start_points)\u001b[0m\n\u001b[1;32m    <a href='file:///home/nick/.local/lib/python3.8/site-packages/smac/optimizer/ei_optimization.py?line=211'>212</a>\u001b[0m \u001b[39m\"\"\"Starts a local search from the given startpoint and quits\u001b[39;00m\n\u001b[1;32m    <a href='file:///home/nick/.local/lib/python3.8/site-packages/smac/optimizer/ei_optimization.py?line=212'>213</a>\u001b[0m \u001b[39mif either the max number of steps is reached or no neighbor\u001b[39;00m\n\u001b[1;32m    <a href='file:///home/nick/.local/lib/python3.8/site-packages/smac/optimizer/ei_optimization.py?line=213'>214</a>\u001b[0m \u001b[39mwith an higher improvement was found.\u001b[39;00m\n\u001b[0;32m   (...)\u001b[0m\n\u001b[1;32m    <a href='file:///home/nick/.local/lib/python3.8/site-packages/smac/optimizer/ei_optimization.py?line=228'>229</a>\u001b[0m \u001b[39mList\u001b[39;00m\n\u001b[1;32m    <a href='file:///home/nick/.local/lib/python3.8/site-packages/smac/optimizer/ei_optimization.py?line=229'>230</a>\u001b[0m \u001b[39m\"\"\"\u001b[39;00m\n\u001b[1;32m    <a href='file:///home/nick/.local/lib/python3.8/site-packages/smac/optimizer/ei_optimization.py?line=231'>232</a>\u001b[0m init_points \u001b[39m=\u001b[39m \u001b[39mself\u001b[39m\u001b[39m.\u001b[39m_get_initial_points(num_points, runhistory, additional_start_points)\n\u001b[0;32m--> <a href='file:///home/nick/.local/lib/python3.8/site-packages/smac/optimizer/ei_optimization.py?line=232'>233</a>\u001b[0m configs_acq \u001b[39m=\u001b[39m \u001b[39mself\u001b[39;49m\u001b[39m.\u001b[39;49m_do_search(init_points)\n\u001b[1;32m    <a href='file:///home/nick/.local/lib/python3.8/site-packages/smac/optimizer/ei_optimization.py?line=234'>235</a>\u001b[0m \u001b[39m# shuffle for random tie-break\u001b[39;00m\n\u001b[1;32m    <a href='file:///home/nick/.local/lib/python3.8/site-packages/smac/optimizer/ei_optimization.py?line=235'>236</a>\u001b[0m \u001b[39mself\u001b[39m\u001b[39m.\u001b[39mrng\u001b[39m.\u001b[39mshuffle(configs_acq)\n",
      "File \u001b[0;32m~/.local/lib/python3.8/site-packages/smac/optimizer/ei_optimization.py:367\u001b[0m, in \u001b[0;36mLocalSearch._do_search\u001b[0;34m(self, start_points)\u001b[0m\n\u001b[1;32m    <a href='file:///home/nick/.local/lib/python3.8/site-packages/smac/optimizer/ei_optimization.py?line=364'>365</a>\u001b[0m \u001b[39mfor\u001b[39;00m j \u001b[39min\u001b[39;00m \u001b[39mrange\u001b[39m(obtain_n[i]):\n\u001b[1;32m    <a href='file:///home/nick/.local/lib/python3.8/site-packages/smac/optimizer/ei_optimization.py?line=365'>366</a>\u001b[0m     \u001b[39mtry\u001b[39;00m:\n\u001b[0;32m--> <a href='file:///home/nick/.local/lib/python3.8/site-packages/smac/optimizer/ei_optimization.py?line=366'>367</a>\u001b[0m         n \u001b[39m=\u001b[39m \u001b[39mnext\u001b[39;49m(neighborhood_iterator)\n\u001b[1;32m    <a href='file:///home/nick/.local/lib/python3.8/site-packages/smac/optimizer/ei_optimization.py?line=367'>368</a>\u001b[0m         neighbors_generated[i] \u001b[39m+\u001b[39m\u001b[39m=\u001b[39m \u001b[39m1\u001b[39m\n\u001b[1;32m    <a href='file:///home/nick/.local/lib/python3.8/site-packages/smac/optimizer/ei_optimization.py?line=368'>369</a>\u001b[0m         neighbors_for_i\u001b[39m.\u001b[39mappend(n)\n",
      "\u001b[0;31mKeyboardInterrupt\u001b[0m: "
     ]
    }
   ],
   "source": [
    "expanseToChameleon = dict()\n",
    "for model in models:\n",
    "    #print(\"Repeat: {0}\".format(i+1))\n",
    "    expanseToChameleon[str(model)] = deepcopy(tl_evaluate(\"expanse\", \"chameleon\", model))"
   ]
  },
  {
   "cell_type": "code",
   "execution_count": 10,
   "metadata": {},
   "outputs": [],
   "source": [
    "import json\n",
    "with open(\"Expanse to Chameleon No Transformation.json\", \"w\") as f:\n",
    "  f.write(json.dumps(expanseToChameleon))"
   ]
  },
  {
   "cell_type": "markdown",
   "metadata": {},
   "source": [
    "### Chameleon to Expanse"
   ]
  },
  {
   "cell_type": "code",
   "execution_count": 11,
   "metadata": {},
   "outputs": [
    {
     "name": "stdout",
     "output_type": "stream",
     "text": [
      "CC Algorithms: cubic\tAutoSklearnClassifier(memory_limit=4096, n_jobs=-1, per_run_time_limit=12,\n",
      "                      time_left_for_this_task=30) b1000d35 55.59 0.0 [55.59]\n",
      "CC Algorithms: htcp\tAutoSklearnClassifier(memory_limit=4096, n_jobs=-1, per_run_time_limit=12,\n",
      "                      time_left_for_this_task=30) b1000d35 73.93 0.0 [73.93]\n",
      "CC Algorithms: bbr\tAutoSklearnClassifier(memory_limit=4096, n_jobs=-1, per_run_time_limit=12,\n",
      "                      time_left_for_this_task=30) b1000d35 63.07 0.0 [63.07]\n",
      "CC Algorithms: cubic\tAutoSklearn2Classifier(memory_limit=4096, metric=accuracy, n_jobs=-1,\n",
      "                       per_run_time_limit=12, time_left_for_this_task=30) b1000d35 54.67 0.0 [54.67]\n",
      "CC Algorithms: htcp\tAutoSklearn2Classifier(memory_limit=4096, metric=accuracy, n_jobs=-1,\n",
      "                       per_run_time_limit=12, time_left_for_this_task=30) b1000d35 57.52 0.0 [57.52]\n",
      "CC Algorithms: bbr\tAutoSklearn2Classifier(memory_limit=4096, metric=accuracy, n_jobs=-1,\n",
      "                       per_run_time_limit=12, time_left_for_this_task=30) b1000d35 61.85 0.0 [61.85]\n"
     ]
    }
   ],
   "source": [
    "chameleonToExpanse = dict()\n",
    "for model in models:\n",
    "    #print(\"Repeat: {0}\".format(i+1))\n",
    "    chameleonToExpanse[str(model)] = deepcopy(tl_evaluate(\"chameleon\", \"expanse\", model))"
   ]
  },
  {
   "cell_type": "code",
   "execution_count": 12,
   "metadata": {},
   "outputs": [],
   "source": [
    "import json\n",
    "with open(\"Chameleon to Expanse No Transformation.json\", \"w\") as f:\n",
    "  f.write(json.dumps(chameleonToExpanse))"
   ]
  },
  {
   "cell_type": "markdown",
   "metadata": {},
   "source": [
    "# After Transformation Applied"
   ]
  },
  {
   "cell_type": "code",
   "execution_count": 9,
   "metadata": {},
   "outputs": [],
   "source": [
    "data = {\n",
    "    \"chameleon\": {},\n",
    "    \"expanse\": {}\n",
    "}\n",
    "\n",
    "read_file(\"chameleon\", transform=True)\n",
    "read_file(\"expanse\", transform=True)"
   ]
  },
  {
   "cell_type": "markdown",
   "metadata": {},
   "source": [
    "### Chameleon"
   ]
  },
  {
   "cell_type": "code",
   "execution_count": null,
   "metadata": {},
   "outputs": [],
   "source": [
    "testbed = \"chameleon\"\n",
    "#feature_score(testbed, transform=True)"
   ]
  },
  {
   "cell_type": "markdown",
   "metadata": {},
   "source": [
    "### Expanse"
   ]
  },
  {
   "cell_type": "code",
   "execution_count": null,
   "metadata": {},
   "outputs": [],
   "source": [
    "testbed = \"expanse\"\n",
    "#feature_score(testbed, transform=True)"
   ]
  },
  {
   "cell_type": "markdown",
   "metadata": {},
   "source": [
    "### Same Network"
   ]
  },
  {
   "cell_type": "code",
   "execution_count": 10,
   "metadata": {},
   "outputs": [
    {
     "name": "stdout",
     "output_type": "stream",
     "text": [
      "expanse cubic\n",
      "\t AutoSklearnClassifier(memory_limit=4096, n_jobs=-1, time_left_for_this_task=30)\n",
      "\t\t b1000d60 [0.91 0.88 0.92]\n",
      "\t\t Average: 0.9, Std dev: 0.02\n",
      "\t AutoSklearn2Classifier(memory_limit=4096, n_jobs=-1, time_left_for_this_task=30)\n",
      "\t\t b1000d60 [0.92 0.88 0.94]\n",
      "\t\t Average: 0.91, Std dev: 0.02\n",
      "expanse htcp\n",
      "\t AutoSklearnClassifier(memory_limit=4096, n_jobs=-1, time_left_for_this_task=30)\n",
      "\t\t b1000d60 [0.93 0.93 0.95]\n",
      "\t\t Average: 0.94, Std dev: 0.01\n",
      "\t AutoSklearn2Classifier(memory_limit=4096, n_jobs=-1, time_left_for_this_task=30)\n",
      "\t\t b1000d60 [0.94 0.95 0.95]\n",
      "\t\t Average: 0.95, Std dev: 0.0\n",
      "expanse bbr\n",
      "\t AutoSklearnClassifier(memory_limit=4096, n_jobs=-1, time_left_for_this_task=30)\n",
      "\t\t b1000d60 [0.98 0.97 0.97]\n",
      "\t\t Average: 0.97, Std dev: 0.0\n",
      "\t AutoSklearn2Classifier(memory_limit=4096, n_jobs=-1, time_left_for_this_task=30)\n",
      "\t\t b1000d60 [0.98 0.98 0.98]\n",
      "\t\t Average: 0.98, Std dev: 0.0\n",
      "chameleon cubic\n",
      "\t AutoSklearnClassifier(memory_limit=4096, n_jobs=-1, time_left_for_this_task=30)\n",
      "\t\t b1000d35 [0.93 0.93 0.94]\n",
      "\t\t Average: 0.93, Std dev: 0.0\n",
      "\t AutoSklearn2Classifier(memory_limit=4096, n_jobs=-1, time_left_for_this_task=30)\n",
      "\t\t b1000d35 [0.95 0.93 0.94]\n",
      "\t\t Average: 0.94, Std dev: 0.01\n",
      "chameleon htcp\n",
      "\t AutoSklearnClassifier(memory_limit=4096, n_jobs=-1, time_left_for_this_task=30)\n",
      "\t\t b1000d35 [0.9  0.93 0.93]\n",
      "\t\t Average: 0.92, Std dev: 0.01\n",
      "\t AutoSklearn2Classifier(memory_limit=4096, n_jobs=-1, time_left_for_this_task=30)\n",
      "\t\t b1000d35 [0.93 0.94 0.94]\n",
      "\t\t Average: 0.94, Std dev: 0.0\n",
      "chameleon bbr\n",
      "\t AutoSklearnClassifier(memory_limit=4096, n_jobs=-1, time_left_for_this_task=30)\n",
      "\t\t b1000d35 [0.97 0.99 0.99]\n",
      "\t\t Average: 0.98, Std dev: 0.01\n",
      "\t AutoSklearn2Classifier(memory_limit=4096, n_jobs=-1, time_left_for_this_task=30)\n",
      "\t\t b1000d35 [0.99 0.99 0.99]\n",
      "\t\t Average: 0.99, Std dev: 0.0\n"
     ]
    }
   ],
   "source": [
    "mySameNetworkWithTransformation = dict()\n",
    "for env in bws:\n",
    "    mySameNetworkWithTransformation[env] = dict()\n",
    "    for cc_algo in cc_algos:\n",
    "        mySameNetworkWithTransformation[env][cc_algo] = dict()\n",
    "        print(env, cc_algo)\n",
    "        for bw in bws[env]:\n",
    "            for rtt in rtts[env]:\n",
    "                train = \"b{0}d{1}\".format(bw,rtt)\n",
    "                mySameNetworkWithTransformation[env][cc_algo][train] = dict()\n",
    "                df = data[env][cc_algo][train].copy()\n",
    "                df = df[df.report_sec == 10]\n",
    "                y = df.label\n",
    "                X = df[feature_list]\n",
    "                for model in models:\n",
    "                    print('\\t', model)\n",
    "                    clf = make_pipeline(PowerTransformer(), model)\n",
    "                    cv_res = np.round(cross_val_score(clf, X, y, cv=3),2)\n",
    "                    mySameNetworkWithTransformation[env][cc_algo][train][str(model)] = np.mean(cv_res)\n",
    "                            \n",
    "                    print(\"\\t\\t\", train, cv_res)\n",
    "                    print(\"\\t\\t Average: {0}, Std dev: {1}\".format(np.round(np.mean(cv_res), 2),\n",
    "                                                                np.round(np.std(cv_res), 2)))\n",
    "                      "
   ]
  },
  {
   "cell_type": "code",
   "execution_count": 11,
   "metadata": {},
   "outputs": [],
   "source": [
    "import json\n",
    "with open(\"Same Network With Transformation.json\", \"w\") as f:\n",
    "  f.write(json.dumps(mySameNetworkWithTransformation))"
   ]
  },
  {
   "cell_type": "markdown",
   "metadata": {},
   "source": [
    "### Chameleon to Expanse"
   ]
  },
  {
   "cell_type": "code",
   "execution_count": 14,
   "metadata": {},
   "outputs": [
    {
     "name": "stdout",
     "output_type": "stream",
     "text": [
      "CC Algorithms: cubic\tAutoSklearnClassifier(memory_limit=4096, n_jobs=-1, per_run_time_limit=12,\n",
      "                      time_left_for_this_task=30) b1000d35 83.52 0.0 [83.52]\n",
      "CC Algorithms: htcp\tAutoSklearnClassifier(memory_limit=4096, n_jobs=-1, per_run_time_limit=12,\n",
      "                      time_left_for_this_task=30) b1000d35 84.81 0.0 [84.81]\n",
      "CC Algorithms: bbr\tAutoSklearnClassifier(memory_limit=4096, n_jobs=-1, per_run_time_limit=12,\n",
      "                      time_left_for_this_task=30) b1000d35 94.41 0.0 [94.41]\n",
      "CC Algorithms: cubic\tAutoSklearn2Classifier(memory_limit=4096, metric=accuracy, n_jobs=-1,\n",
      "                       per_run_time_limit=12, time_left_for_this_task=30) b1000d35 80.11 0.0 [80.11]\n",
      "CC Algorithms: htcp\tAutoSklearn2Classifier(memory_limit=4096, metric=accuracy, n_jobs=-1,\n",
      "                       per_run_time_limit=12, time_left_for_this_task=30) b1000d35 85.93 0.0 [85.93]\n",
      "CC Algorithms: bbr\tAutoSklearn2Classifier(memory_limit=4096, metric=accuracy, n_jobs=-1,\n",
      "                       per_run_time_limit=12, time_left_for_this_task=30) b1000d35 94.74 0.0 [94.74]\n"
     ]
    }
   ],
   "source": [
    "chameleonToExpanse2 = dict()\n",
    "for model in models:\n",
    "    #print(\"Repeat: {0}\".format(i+1))\n",
    "    chameleonToExpanse2[str(model)] = deepcopy(tl_evaluate(\"chameleon\", \"expanse\", model))"
   ]
  },
  {
   "cell_type": "code",
   "execution_count": 15,
   "metadata": {},
   "outputs": [],
   "source": [
    "import json\n",
    "with open(\"Chameleon to Expanse With Transformation.json\", \"w\") as f:\n",
    "  f.write(json.dumps(chameleonToExpanse2))"
   ]
  },
  {
   "cell_type": "markdown",
   "metadata": {},
   "source": [
    "### Expanse to Chameleon"
   ]
  },
  {
   "cell_type": "code",
   "execution_count": 16,
   "metadata": {},
   "outputs": [
    {
     "name": "stdout",
     "output_type": "stream",
     "text": [
      "CC Algorithms: cubic\tAutoSklearnClassifier(memory_limit=4096, n_jobs=-1, per_run_time_limit=12,\n",
      "                      time_left_for_this_task=30) b1000d60 85.33 0.0 [85.33]\n",
      "CC Algorithms: htcp\tAutoSklearnClassifier(memory_limit=4096, n_jobs=-1, per_run_time_limit=12,\n",
      "                      time_left_for_this_task=30) b1000d60 67.37 0.0 [67.37]\n",
      "CC Algorithms: bbr\tAutoSklearnClassifier(memory_limit=4096, n_jobs=-1, per_run_time_limit=12,\n",
      "                      time_left_for_this_task=30) b1000d60 93.52 0.0 [93.52]\n",
      "CC Algorithms: cubic\tAutoSklearn2Classifier(memory_limit=4096, metric=accuracy, n_jobs=-1,\n",
      "                       per_run_time_limit=12, time_left_for_this_task=30) b1000d60 83.92 0.0 [83.92]\n",
      "CC Algorithms: htcp\tAutoSklearn2Classifier(memory_limit=4096, metric=accuracy, n_jobs=-1,\n",
      "                       per_run_time_limit=12, time_left_for_this_task=30) b1000d60 70.22 0.0 [70.22]\n",
      "CC Algorithms: bbr\tAutoSklearn2Classifier(memory_limit=4096, metric=accuracy, n_jobs=-1,\n",
      "                       per_run_time_limit=12, time_left_for_this_task=30) b1000d60 80.78 0.0 [80.78]\n"
     ]
    }
   ],
   "source": [
    "expanseToChameleon2 = dict()\n",
    "for model in models:\n",
    "    #print(\"Repeat: {0}\".format(i+1))\n",
    "    expanseToChameleon2[str(model)] = tl_evaluate(\"expanse\", \"chameleon\", model)"
   ]
  },
  {
   "cell_type": "code",
   "execution_count": 17,
   "metadata": {},
   "outputs": [],
   "source": [
    "import json\n",
    "with open(\"Expanse to Chameleon With Transformation.json\", \"w\") as f:\n",
    "  f.write(json.dumps(expanseToChameleon2))"
   ]
  }
 ],
 "metadata": {
  "kernelspec": {
   "display_name": "Python 3",
   "language": "python",
   "name": "python3"
  },
  "language_info": {
   "codemirror_mode": {
    "name": "ipython",
    "version": 3
   },
   "file_extension": ".py",
   "mimetype": "text/x-python",
   "name": "python",
   "nbconvert_exporter": "python",
   "pygments_lexer": "ipython3",
   "version": "3.8.10"
  }
 },
 "nbformat": 4,
 "nbformat_minor": 4
}
