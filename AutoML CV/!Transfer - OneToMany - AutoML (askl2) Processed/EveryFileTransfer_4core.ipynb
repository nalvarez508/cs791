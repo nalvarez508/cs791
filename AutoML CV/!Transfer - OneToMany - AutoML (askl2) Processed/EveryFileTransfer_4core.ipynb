{
 "cells": [
  {
   "cell_type": "markdown",
   "metadata": {},
   "source": [
    "# AutoML (askl2) trained on every file individually, tested on the rest (4 cores, 30 seconds per file)\n",
    "AutoML's data preprocessing is applied to these tests. The model will be trained on file A, tested on files B,C,D.., then on B, tested on A,C,D.. etc"
   ]
  },
  {
   "cell_type": "code",
   "execution_count": 1,
   "metadata": {},
   "outputs": [],
   "source": [
    "import sys\n",
    "sys.path.append(\"../../\")\n",
    "from time import process_time\n",
    "from os import listdir, chdir, environ\n",
    "\n",
    "def warn(*args, **kwargs):\n",
    "  pass\n",
    "import warnings\n",
    "warnings.warn = warn\n",
    "\n",
    "if not sys.warnoptions:\n",
    "    warnings.simplefilter(\"ignore\")\n",
    "    environ[\"PYTHONWARNINGS\"] = \"ignore\"\n",
    "\n",
    "from modules.NetworkTraffic import NT2\n",
    "from sklearn import model_selection, metrics\n",
    "from autosklearn.experimental.askl2 import AutoSklearn2Classifier\n",
    "\n",
    "FilesToTest = list()\n",
    "chdir(\"../../data\")\n",
    "for file in listdir():\n",
    "  if file.endswith(\".csv\"):\n",
    "    FilesToTest.append(file)\n",
    "\n",
    "TestSize = [0.4]\n",
    "ModelsToTest = [AutoSklearn2Classifier(time_left_for_this_task=30, memory_limit=4096, n_jobs=-1)]\n",
    "OutputResults = dict()\n",
    "#ModelResults = dict()"
   ]
  },
  {
   "cell_type": "code",
   "execution_count": 4,
   "metadata": {},
   "outputs": [
    {
     "name": "stdout",
     "output_type": "stream",
     "text": [
      "\n",
      "Searching with test size of 40.0%...\n",
      "b5000d100.csv, b5000d100.csv : AutoSklearn2Classifier(memory_limit=4096, n_jobs=-1,\n",
      "                       time_left_for_this_task=300), b5000d30.csv, b5000d30.csv : AutoSklearn2Classifier(memory_limit=4096, metric=accuracy, n_jobs=-1,\n",
      "                       per_run_time_limit=120, time_left_for_this_task=300), b100d10.csv, b100d10.csv : AutoSklearn2Classifier(memory_limit=4096, metric=accuracy, n_jobs=-1,\n",
      "                       per_run_time_limit=120, time_left_for_this_task=300), b1000d10.csv, b1000d10.csv : AutoSklearn2Classifier(memory_limit=4096, metric=accuracy, n_jobs=-1,\n",
      "                       per_run_time_limit=120, time_left_for_this_task=300), b1000d100.csv, b1000d100.csv : AutoSklearn2Classifier(memory_limit=4096, metric=accuracy, n_jobs=-1,\n",
      "                       per_run_time_limit=120, time_left_for_this_task=300), b100d100.csv, b100d100.csv : AutoSklearn2Classifier(memory_limit=4096, metric=accuracy, n_jobs=-1,\n",
      "                       per_run_time_limit=120, time_left_for_this_task=300), b5000d10.csv, b5000d10.csv : AutoSklearn2Classifier(memory_limit=4096, metric=accuracy, n_jobs=-1,\n",
      "                       per_run_time_limit=120, time_left_for_this_task=300), b1000d30.csv, b1000d30.csv : AutoSklearn2Classifier(memory_limit=4096, metric=accuracy, n_jobs=-1,\n",
      "                       per_run_time_limit=120, time_left_for_this_task=300), "
     ]
    },
    {
     "ename": "RuntimeError",
     "evalue": "No model found. Try increasing 'time_left_for_this_task'.",
     "output_type": "error",
     "traceback": [
      "\u001b[0;31m---------------------------------------------------------------------------\u001b[0m",
      "\u001b[0;31mRuntimeError\u001b[0m                              Traceback (most recent call last)",
      "\u001b[1;32m/home/nick/Documents/cs791/AutoML/Transfer - OneToMany - AutoML (askl2) Processed/EveryFileTransfer_4core.ipynb Cell 5'\u001b[0m in \u001b[0;36m<cell line: 4>\u001b[0;34m()\u001b[0m\n\u001b[1;32m     <a href='vscode-notebook-cell:/home/nick/Documents/cs791/AutoML/Transfer%20-%20OneToMany%20-%20AutoML%20%28askl2%29%20Processed/EveryFileTransfer_4core.ipynb#ch0000004?line=17'>18</a>\u001b[0m \u001b[39mfor\u001b[39;00m model \u001b[39min\u001b[39;00m ModelsToTest:\n\u001b[1;32m     <a href='vscode-notebook-cell:/home/nick/Documents/cs791/AutoML/Transfer%20-%20OneToMany%20-%20AutoML%20%28askl2%29%20Processed/EveryFileTransfer_4core.ipynb#ch0000004?line=18'>19</a>\u001b[0m   \u001b[39mprint\u001b[39m(\u001b[39mf\u001b[39m\u001b[39m\"\u001b[39m\u001b[39m{\u001b[39;00mfile\u001b[39m}\u001b[39;00m\u001b[39m : \u001b[39m\u001b[39m{\u001b[39;00m\u001b[39mstr\u001b[39m(model)\u001b[39m}\u001b[39;00m\u001b[39m\"\u001b[39m, end\u001b[39m=\u001b[39m\u001b[39m\"\u001b[39m\u001b[39m, \u001b[39m\u001b[39m\"\u001b[39m)\n\u001b[0;32m---> <a href='vscode-notebook-cell:/home/nick/Documents/cs791/AutoML/Transfer%20-%20OneToMany%20-%20AutoML%20%28askl2%29%20Processed/EveryFileTransfer_4core.ipynb#ch0000004?line=19'>20</a>\u001b[0m   results \u001b[39m=\u001b[39m testModel(model, x_train, x_test, y_train, y_test)\n\u001b[1;32m     <a href='vscode-notebook-cell:/home/nick/Documents/cs791/AutoML/Transfer%20-%20OneToMany%20-%20AutoML%20%28askl2%29%20Processed/EveryFileTransfer_4core.ipynb#ch0000004?line=20'>21</a>\u001b[0m   OutputResults[size][file]\u001b[39m.\u001b[39mupdate({\u001b[39mstr\u001b[39m(model): results})\n",
      "\u001b[1;32m/home/nick/Documents/cs791/AutoML/Transfer - OneToMany - AutoML (askl2) Processed/EveryFileTransfer_4core.ipynb Cell 3'\u001b[0m in \u001b[0;36mtestModel\u001b[0;34m(model, x_train, x_test, y_train, y_test)\u001b[0m\n\u001b[1;32m     <a href='vscode-notebook-cell:/home/nick/Documents/cs791/AutoML/Transfer%20-%20OneToMany%20-%20AutoML%20%28askl2%29%20Processed/EveryFileTransfer_4core.ipynb#ch0000002?line=21'>22</a>\u001b[0m \u001b[39m# try:\u001b[39;00m\n\u001b[1;32m     <a href='vscode-notebook-cell:/home/nick/Documents/cs791/AutoML/Transfer%20-%20OneToMany%20-%20AutoML%20%28askl2%29%20Processed/EveryFileTransfer_4core.ipynb#ch0000002?line=22'>23</a>\u001b[0m \u001b[39m#   tempDict[\"Leaderboard\"] = str(temp_clf.leaderboard())\u001b[39;00m\n\u001b[1;32m     <a href='vscode-notebook-cell:/home/nick/Documents/cs791/AutoML/Transfer%20-%20OneToMany%20-%20AutoML%20%28askl2%29%20Processed/EveryFileTransfer_4core.ipynb#ch0000002?line=23'>24</a>\u001b[0m \u001b[39m# except KeyError:\u001b[39;00m\n\u001b[1;32m     <a href='vscode-notebook-cell:/home/nick/Documents/cs791/AutoML/Transfer%20-%20OneToMany%20-%20AutoML%20%28askl2%29%20Processed/EveryFileTransfer_4core.ipynb#ch0000002?line=24'>25</a>\u001b[0m \u001b[39m#   tempDict[\"Leaderboard\"] = None\u001b[39;00m\n\u001b[1;32m     <a href='vscode-notebook-cell:/home/nick/Documents/cs791/AutoML/Transfer%20-%20OneToMany%20-%20AutoML%20%28askl2%29%20Processed/EveryFileTransfer_4core.ipynb#ch0000002?line=25'>26</a>\u001b[0m \u001b[39mtry\u001b[39;00m:\n\u001b[0;32m---> <a href='vscode-notebook-cell:/home/nick/Documents/cs791/AutoML/Transfer%20-%20OneToMany%20-%20AutoML%20%28askl2%29%20Processed/EveryFileTransfer_4core.ipynb#ch0000002?line=26'>27</a>\u001b[0m   tempDict[\u001b[39m\"\u001b[39m\u001b[39mFinal Ensemble\u001b[39m\u001b[39m\"\u001b[39m] \u001b[39m=\u001b[39m temp_clf\u001b[39m.\u001b[39;49mshow_models()\n\u001b[1;32m     <a href='vscode-notebook-cell:/home/nick/Documents/cs791/AutoML/Transfer%20-%20OneToMany%20-%20AutoML%20%28askl2%29%20Processed/EveryFileTransfer_4core.ipynb#ch0000002?line=27'>28</a>\u001b[0m \u001b[39mexcept\u001b[39;00m \u001b[39mKeyError\u001b[39;00m:\n\u001b[1;32m     <a href='vscode-notebook-cell:/home/nick/Documents/cs791/AutoML/Transfer%20-%20OneToMany%20-%20AutoML%20%28askl2%29%20Processed/EveryFileTransfer_4core.ipynb#ch0000002?line=28'>29</a>\u001b[0m   tempDict[\u001b[39m\"\u001b[39m\u001b[39mFinal Ensemble\u001b[39m\u001b[39m\"\u001b[39m] \u001b[39m=\u001b[39m \u001b[39mNone\u001b[39;00m\n",
      "File \u001b[0;32m~/.local/lib/python3.8/site-packages/autosklearn/estimators.py:608\u001b[0m, in \u001b[0;36mAutoSklearnEstimator.show_models\u001b[0;34m(self)\u001b[0m\n\u001b[1;32m    <a href='file:///home/nick/.local/lib/python3.8/site-packages/autosklearn/estimators.py?line=538'>539</a>\u001b[0m \u001b[39mdef\u001b[39;00m \u001b[39mshow_models\u001b[39m(\u001b[39mself\u001b[39m):\n\u001b[1;32m    <a href='file:///home/nick/.local/lib/python3.8/site-packages/autosklearn/estimators.py?line=539'>540</a>\u001b[0m     \u001b[39m\"\"\" Returns a dictionary containing dictionaries of ensemble models.\u001b[39;00m\n\u001b[1;32m    <a href='file:///home/nick/.local/lib/python3.8/site-packages/autosklearn/estimators.py?line=540'>541</a>\u001b[0m \n\u001b[1;32m    <a href='file:///home/nick/.local/lib/python3.8/site-packages/autosklearn/estimators.py?line=541'>542</a>\u001b[0m \u001b[39m    Each model in the ensemble can be accessed by giving its ``model_id`` as key.\u001b[39;00m\n\u001b[0;32m   (...)\u001b[0m\n\u001b[1;32m    <a href='file:///home/nick/.local/lib/python3.8/site-packages/autosklearn/estimators.py?line=604'>605</a>\u001b[0m \n\u001b[1;32m    <a href='file:///home/nick/.local/lib/python3.8/site-packages/autosklearn/estimators.py?line=605'>606</a>\u001b[0m \u001b[39m    \"\"\"\u001b[39;00m\n\u001b[0;32m--> <a href='file:///home/nick/.local/lib/python3.8/site-packages/autosklearn/estimators.py?line=607'>608</a>\u001b[0m     \u001b[39mreturn\u001b[39;00m \u001b[39mself\u001b[39;49m\u001b[39m.\u001b[39;49mautoml_\u001b[39m.\u001b[39;49mshow_models()\n",
      "File \u001b[0;32m~/.local/lib/python3.8/site-packages/autosklearn/automl.py:1924\u001b[0m, in \u001b[0;36mAutoML.show_models\u001b[0;34m(self)\u001b[0m\n\u001b[1;32m   <a href='file:///home/nick/.local/lib/python3.8/site-packages/autosklearn/automl.py?line=1921'>1922</a>\u001b[0m \u001b[39m# Checking if the dictionary is empty\u001b[39;00m\n\u001b[1;32m   <a href='file:///home/nick/.local/lib/python3.8/site-packages/autosklearn/automl.py?line=1922'>1923</a>\u001b[0m \u001b[39mif\u001b[39;00m \u001b[39mnot\u001b[39;00m table_dict:\n\u001b[0;32m-> <a href='file:///home/nick/.local/lib/python3.8/site-packages/autosklearn/automl.py?line=1923'>1924</a>\u001b[0m     \u001b[39mraise\u001b[39;00m \u001b[39mRuntimeError\u001b[39;00m(\u001b[39m'\u001b[39m\u001b[39mNo model found. Try increasing \u001b[39m\u001b[39m\\'\u001b[39;00m\u001b[39mtime_left_for_this_task\u001b[39m\u001b[39m\\'\u001b[39;00m\u001b[39m.\u001b[39m\u001b[39m'\u001b[39m)\n\u001b[1;32m   <a href='file:///home/nick/.local/lib/python3.8/site-packages/autosklearn/automl.py?line=1925'>1926</a>\u001b[0m \u001b[39mfor\u001b[39;00m i, weight \u001b[39min\u001b[39;00m \u001b[39menumerate\u001b[39m(\u001b[39mself\u001b[39m\u001b[39m.\u001b[39mensemble_\u001b[39m.\u001b[39mweights_):\n\u001b[1;32m   <a href='file:///home/nick/.local/lib/python3.8/site-packages/autosklearn/automl.py?line=1926'>1927</a>\u001b[0m     (_, model_id, _) \u001b[39m=\u001b[39m \u001b[39mself\u001b[39m\u001b[39m.\u001b[39mensemble_\u001b[39m.\u001b[39midentifiers_[i]\n",
      "\u001b[0;31mRuntimeError\u001b[0m: No model found. Try increasing 'time_left_for_this_task'."
     ]
    }
   ],
   "source": [
    "import pandas as pd\n",
    "from copy import deepcopy\n",
    "df_leader = None\n",
    "\n",
    "def testMe():\n",
    "  global df_leader\n",
    "  df_leader = None\n",
    "  OutputResults.clear()\n",
    "  #ModelResults.clear()\n",
    "\n",
    "  for index, file in enumerate(FilesToTest):\n",
    "    print(file, end=', ')\n",
    "    OutputResults[file] = dict()\n",
    "    currentFileData = NT2(file, transform=False, drop=False)\n",
    "    restOfFiles = deepcopy(FilesToTest)\n",
    "    restOfFiles.pop(index)\n",
    "    restOfTheFilesData = NT2(restOfFiles, transform=False, drop=False)\n",
    "\n",
    "    for model in ModelsToTest:\n",
    "      print(f\"{file} : {str(model)}\", end=\", \")\n",
    "      model.fit(currentFileData.data, currentFileData.target)\n",
    "      y_pred = model.predict(restOfTheFilesData.data)\n",
    "      score = metrics.accuracy_score(restOfTheFilesData.target, y_pred)\n",
    "      OutputResults[file].update({str(model): {\"Accuracy\": score}})\n",
    "      try:\n",
    "        OutputResults[file][str(model)][\"Final Ensemble\"] = str(model.show_models())\n",
    "      except:\n",
    "        pass\n",
    "      try: pd.concat([df_leader, model.show_models()], ignore_index=False)\n",
    "      except: df_leader = model.show_models()\n",
    "      try:\n",
    "        OutputResults[file][str(model)][\"Sprint\"] = str(model.sprint_statistics())\n",
    "      except KeyError:\n",
    "        pass"
   ]
  },
  {
   "cell_type": "code",
   "execution_count": null,
   "metadata": {},
   "outputs": [],
   "source": [
    "import json\n",
    "from os import path\n",
    "\n",
    "def writeMe():\n",
    "  with open(\"EveryFileTransfer_Untuned_AllTestResults.json\", \"a\") as f:\n",
    "    f.write(json.dumps(OutputResults, indent=2))\n",
    "\n",
    "  df_leader.to_csv(\"Leaderboard.csv\", mode='a')\n",
    "\n",
    "  with open(\"EveryFileTransfer_Untuned_ModelResults.csv\", \"a\") as f3:\n",
    "    if path.exists(\"EveryFileTransfer_Untuned_ModelResults.csv\"): f3.write(\"File Trained On,Model,Accuracy,Runtime\\n\")\n",
    "    for file in OutputResults:\n",
    "      for model in OutputResults[file]:\n",
    "        f3.write(f\"{file},{model},{OutputResults[file][model]['Accuracy']}\\n\")"
   ]
  },
  {
   "cell_type": "code",
   "execution_count": null,
   "metadata": {},
   "outputs": [],
   "source": [
    "REPEATS = 2\n",
    "for _ in range(0, REPEATS):\n",
    "  print(f\"\\n------{_}------\")\n",
    "  testMe()\n",
    "  writeMe()"
   ]
  }
 ],
 "metadata": {
  "interpreter": {
   "hash": "916dbcbb3f70747c44a77c7bcd40155683ae19c65e1c03b4aa3499c5328201f1"
  },
  "kernelspec": {
   "display_name": "Python 3.8.10 64-bit",
   "language": "python",
   "name": "python3"
  },
  "language_info": {
   "codemirror_mode": {
    "name": "ipython",
    "version": 3
   },
   "file_extension": ".py",
   "mimetype": "text/x-python",
   "name": "python",
   "nbconvert_exporter": "python",
   "pygments_lexer": "ipython3",
   "version": "3.8.10"
  },
  "orig_nbformat": 4
 },
 "nbformat": 4,
 "nbformat_minor": 2
}
