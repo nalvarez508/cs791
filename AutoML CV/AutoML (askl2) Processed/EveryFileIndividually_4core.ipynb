{
 "cells": [
  {
   "cell_type": "markdown",
   "metadata": {},
   "source": [
    "# AutoML tested on every file individually (4 cores, 30 seconds per file)\n",
    "AutoML's data preprocessing is applied to these tests. Results from each model's tests are compiled into a single average."
   ]
  },
  {
   "cell_type": "code",
   "execution_count": 1,
   "metadata": {},
   "outputs": [],
   "source": [
    "import sys\n",
    "sys.path.append(\"../../\")\n",
    "from time import process_time\n",
    "from os import listdir, chdir, environ\n",
    "\n",
    "def warn(*args, **kwargs):\n",
    "  pass\n",
    "import warnings\n",
    "warnings.warn = warn\n",
    "\n",
    "if not sys.warnoptions:\n",
    "    warnings.simplefilter(\"ignore\")\n",
    "    environ[\"PYTHONWARNINGS\"] = \"ignore\"\n",
    "\n",
    "import numpy as np\n",
    "from modules.NetworkTraffic import NT2\n",
    "from sklearn import model_selection, metrics\n",
    "\n",
    "from autosklearn.experimental.askl2 import AutoSklearn2Classifier\n",
    "\n",
    "FilesToTest = list()\n",
    "chdir(\"../../data\")\n",
    "for file in listdir():\n",
    "  if file.endswith(\".csv\"):\n",
    "    FilesToTest.append(file)\n",
    "\n",
    "TestSize = [0.4]\n",
    "ModelsToTest = [AutoSklearn2Classifier(time_left_for_this_task=30, memory_limit=4096, n_jobs=-1)]\n",
    "OutputResults = dict()\n",
    "ModelResults = dict()"
   ]
  },
  {
   "cell_type": "code",
   "execution_count": 2,
   "metadata": {},
   "outputs": [
    {
     "name": "stdout",
     "output_type": "stream",
     "text": [
      "\n",
      "Searching with test size of 40.0%...\n",
      "b5000d100.csv, b5000d30.csv, b100d10.csv, b1000d10.csv, b1000d100.csv, b100d100.csv, b5000d10.csv, b1000d30.csv, b100d30.csv, [WARNING] [2022-04-26 16:48:07,869:Client-autosklearn.automl_common.common.utils.backend] Directory /tmp/auto-sklearn_tmp_403d0e07-c5bb-11ec-a852-efbf159bdcbc/.auto-sklearn/ensembles does not exist\n",
      "[WARNING] [2022-04-26 16:48:09,023:Client-AutoML(1):403d0c95-c5bb-11ec-a852-efbf159bdcbc] No valid ensemble was created. Please check the logfile for errors. Default to the best individual estimator:[(1, 3, 0.0)]\n"
     ]
    }
   ],
   "source": [
    "OutputResults.clear()\n",
    "ModelResults.clear()\n",
    "\n",
    "for size in TestSize:\n",
    "  print(f\"\\nSearching with test size of {size*100}%...\")\n",
    "  OutputResults[size] = dict()\n",
    "  ModelResults[size] = dict()\n",
    "\n",
    "  for file in FilesToTest:\n",
    "    print(file, end=', ')\n",
    "    OutputResults[size][file] = dict()\n",
    "    currentFileData = NT2(file, transform=False, drop=False)\n",
    "\n",
    "    for model in ModelsToTest:\n",
    "      #print(f\"{file} : {str(model)}...\")\n",
    "      results = model_selection.cross_val_score(model, currentFileData.data, currentFileData.target, cv=5)\n",
    "      OutputResults[size][file].update({str(model): {\"Accuracy\":np.mean(results), \"Std Dev\":np.std(results)}})"
   ]
  },
  {
   "cell_type": "code",
   "execution_count": 3,
   "metadata": {},
   "outputs": [],
   "source": [
    "import json\n",
    "with open(\"EveryFileIndividually_Untuned_AllTestResults.json\", \"a\") as f:\n",
    "  f.write(json.dumps(OutputResults, indent=2))"
   ]
  },
  {
   "cell_type": "code",
   "execution_count": 4,
   "metadata": {},
   "outputs": [],
   "source": [
    "with open(\"EveryFileIndividual_Untuned_ModelResults.csv\", \"w\") as f3:\n",
    "  f3.write(\"File,Model,Accuracy,Std Dev\\n\")\n",
    "  for size in OutputResults:\n",
    "    for file in OutputResults[size]:\n",
    "      for model in OutputResults[size][file]:\n",
    "        f3.write(f\"{file},{model},{OutputResults[size][file][model]['Accuracy']},{OutputResults[size][file][model]['Std Dev']}\\n\")"
   ]
  }
 ],
 "metadata": {
  "interpreter": {
   "hash": "916dbcbb3f70747c44a77c7bcd40155683ae19c65e1c03b4aa3499c5328201f1"
  },
  "kernelspec": {
   "display_name": "Python 3.8.10 64-bit",
   "language": "python",
   "name": "python3"
  },
  "language_info": {
   "codemirror_mode": {
    "name": "ipython",
    "version": 3
   },
   "file_extension": ".py",
   "mimetype": "text/x-python",
   "name": "python",
   "nbconvert_exporter": "python",
   "pygments_lexer": "ipython3",
   "version": "3.8.10"
  },
  "orig_nbformat": 4
 },
 "nbformat": 4,
 "nbformat_minor": 2
}
