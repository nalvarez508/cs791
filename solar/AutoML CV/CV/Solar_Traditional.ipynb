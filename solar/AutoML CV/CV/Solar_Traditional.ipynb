{
 "cells": [
  {
   "cell_type": "code",
   "execution_count": 1,
   "metadata": {},
   "outputs": [
    {
     "name": "stdout",
     "output_type": "stream",
     "text": [
      "Shape of training data (baseline): (10920, 14)\n",
      "Shape of training data (24 hours ahead): (10920, 14)\n",
      "Shape of test data (baseline): (48168, 14)\n",
      "Shape of test data (24 hours behind): (48168, 14)\n"
     ]
    }
   ],
   "source": [
    "import sys\n",
    "sys.path.append(\"../../\")\n",
    "import numpy as np\n",
    "import matplotlib.pyplot as plt\n",
    "from sklearn import svm, metrics, model_selection\n",
    "\n",
    "from autosklearn.regression import AutoSklearnRegressor\n",
    "\n",
    "from Class_Solar import Solar\n",
    "\n",
    "NUMBER_ATTRIBUTES = 15\n",
    "BEGIN_AT = 0\n",
    "_VALUETOTEST = 8\n",
    "_NUMBERZONES = 3\n",
    "_ZONETOTEST = 2 # ZoneID - 1\n",
    "PleaseShowMe = False\n",
    "np.set_printoptions(precision=5, suppress=True)\n",
    "\n",
    "s_train = Solar(\"../../solar_training.csv\", skip_f=24)\n",
    "print(\"Shape of training data (baseline):\", s_train.data.shape)\n",
    "s_train_24ahead = Solar(\"../../solar_training_24ahead.csv\")\n",
    "print(\"Shape of training data (24 hours ahead):\", s_train_24ahead.data.shape)\n",
    "s_test = Solar(\"../../solar_test.csv\")\n",
    "print(\"Shape of test data (baseline):\", s_test.data.shape)\n",
    "s_test_24behind = Solar(\"../../solar_test_24behind.csv\", skip_f=24)\n",
    "print(\"Shape of test data (24 hours behind):\", s_test_24behind.data.shape)\n",
    "\n",
    "RMSE_Scores = [0,0,0]\n",
    "MAE_Scores = [0,0,0]\n",
    "\n",
    "ModelsToTest = [AutoSklearnRegressor(time_left_for_this_task=30, n_jobs=-1, memory_limit=4096)]\n",
    "OutputResults = dict()"
   ]
  },
  {
   "cell_type": "code",
   "execution_count": 2,
   "metadata": {},
   "outputs": [],
   "source": [
    "import pandas as pd\n",
    "def makeModel(m):\n",
    "  df_leader = pd.DataFrame()\n",
    "  model = m\n",
    "  #model.fit(s_train.data, s_train.power) #Used for current time predictions\n",
    "   #Used for 24 hour ahead predictions\n",
    "  results = model_selection.cross_val_score(model, s_train.data, s_train.power, cv=3, scoring='neg_mean_absolute_error')\n",
    "  OutputResults[str(model)] = {\"Accuracy\":np.mean(results), \"Std Dev\":np.std(results)}\n",
    "  #return model"
   ]
  },
  {
   "cell_type": "code",
   "execution_count": 3,
   "metadata": {},
   "outputs": [],
   "source": [
    "import json\n",
    "from os import path\n",
    "\n",
    "def writeMe():\n",
    "  with open(\"Traditional_SameNetwork.json\", \"a\") as f:\n",
    "    f.write(json.dumps(OutputResults))\n",
    "  with open(\"Traditional_SameNetwork_Results.csv\", \"a\") as f2:\n",
    "    if not path.exists(\"Traditional_SameNetwork_Results.csv\"): f2.write(\"Model,Accuracy,Std Dev\\n\")\n",
    "    for model in OutputResults:\n",
    "      mdl = str(model).split('(')[0]\n",
    "      f2.write(f\"{mdl},{OutputResults[model]['Accuracy']},{OutputResults[model]['Std Dev']}\\n\")"
   ]
  },
  {
   "cell_type": "code",
   "execution_count": 4,
   "metadata": {},
   "outputs": [
    {
     "name": "stdout",
     "output_type": "stream",
     "text": [
      "-----AutoSklearnRegressor-----\n"
     ]
    },
    {
     "name": "stderr",
     "output_type": "stream",
     "text": [
      "/home/nick/.local/lib/python3.8/site-packages/autosklearn/metalearning/metalearning/meta_base.py:68: FutureWarning: The frame.append method is deprecated and will be removed from pandas in a future version. Use pandas.concat instead.\n",
      "  self.metafeatures = self.metafeatures.append(metafeatures)\n",
      "/home/nick/.local/lib/python3.8/site-packages/autosklearn/metalearning/metalearning/meta_base.py:72: FutureWarning: The frame.append method is deprecated and will be removed from pandas in a future version. Use pandas.concat instead.\n",
      "  self.algorithm_runs[metric].append(runs)\n",
      "/home/nick/.local/lib/python3.8/site-packages/autosklearn/metalearning/metalearning/meta_base.py:68: FutureWarning: The frame.append method is deprecated and will be removed from pandas in a future version. Use pandas.concat instead.\n",
      "  self.metafeatures = self.metafeatures.append(metafeatures)\n",
      "/home/nick/.local/lib/python3.8/site-packages/autosklearn/metalearning/metalearning/meta_base.py:72: FutureWarning: The frame.append method is deprecated and will be removed from pandas in a future version. Use pandas.concat instead.\n",
      "  self.algorithm_runs[metric].append(runs)\n",
      "/home/nick/.local/lib/python3.8/site-packages/autosklearn/metalearning/metalearning/meta_base.py:68: FutureWarning: The frame.append method is deprecated and will be removed from pandas in a future version. Use pandas.concat instead.\n",
      "  self.metafeatures = self.metafeatures.append(metafeatures)\n",
      "/home/nick/.local/lib/python3.8/site-packages/autosklearn/metalearning/metalearning/meta_base.py:72: FutureWarning: The frame.append method is deprecated and will be removed from pandas in a future version. Use pandas.concat instead.\n",
      "  self.algorithm_runs[metric].append(runs)\n"
     ]
    },
    {
     "ename": "AttributeError",
     "evalue": "'NoneType' object has no attribute 'sprint_statistics'",
     "output_type": "error",
     "traceback": [
      "\u001b[0;31m---------------------------------------------------------------------------\u001b[0m",
      "\u001b[0;31mAttributeError\u001b[0m                            Traceback (most recent call last)",
      "\u001b[1;32m/home/nick/Documents/cs791/solar/AutoML CV/CV/Solar_Traditional.ipynb Cell 4'\u001b[0m in \u001b[0;36m<cell line: 4>\u001b[0;34m()\u001b[0m\n\u001b[1;32m      <a href='vscode-notebook-cell:/home/nick/Documents/cs791/solar/AutoML%20CV/CV/Solar_Traditional.ipynb#ch0000003?line=4'>5</a>\u001b[0m \u001b[39mfor\u001b[39;00m model \u001b[39min\u001b[39;00m ModelsToTest:\n\u001b[1;32m      <a href='vscode-notebook-cell:/home/nick/Documents/cs791/solar/AutoML%20CV/CV/Solar_Traditional.ipynb#ch0000003?line=5'>6</a>\u001b[0m   \u001b[39mprint\u001b[39m(\u001b[39mf\u001b[39m\u001b[39m\"\u001b[39m\u001b[39m-----\u001b[39m\u001b[39m{\u001b[39;00m\u001b[39mstr\u001b[39m(model)\u001b[39m.\u001b[39msplit(\u001b[39m'\u001b[39m\u001b[39m(\u001b[39m\u001b[39m'\u001b[39m)[\u001b[39m0\u001b[39m]\u001b[39m}\u001b[39;00m\u001b[39m-----\u001b[39m\u001b[39m\"\u001b[39m)\n\u001b[0;32m----> <a href='vscode-notebook-cell:/home/nick/Documents/cs791/solar/AutoML%20CV/CV/Solar_Traditional.ipynb#ch0000003?line=6'>7</a>\u001b[0m   makeModel(model)\n\u001b[1;32m      <a href='vscode-notebook-cell:/home/nick/Documents/cs791/solar/AutoML%20CV/CV/Solar_Traditional.ipynb#ch0000003?line=7'>8</a>\u001b[0m writeMe()\n\u001b[1;32m      <a href='vscode-notebook-cell:/home/nick/Documents/cs791/solar/AutoML%20CV/CV/Solar_Traditional.ipynb#ch0000003?line=8'>9</a>\u001b[0m \u001b[39mprint\u001b[39m()\n",
      "\u001b[1;32m/home/nick/Documents/cs791/solar/AutoML CV/CV/Solar_Traditional.ipynb Cell 2'\u001b[0m in \u001b[0;36mmakeModel\u001b[0;34m(m)\u001b[0m\n\u001b[1;32m     <a href='vscode-notebook-cell:/home/nick/Documents/cs791/solar/AutoML%20CV/CV/Solar_Traditional.ipynb#ch0000001?line=15'>16</a>\u001b[0m \u001b[39mexcept\u001b[39;00m: \u001b[39mpass\u001b[39;00m\n\u001b[1;32m     <a href='vscode-notebook-cell:/home/nick/Documents/cs791/solar/AutoML%20CV/CV/Solar_Traditional.ipynb#ch0000001?line=16'>17</a>\u001b[0m \u001b[39mtry\u001b[39;00m:\n\u001b[0;32m---> <a href='vscode-notebook-cell:/home/nick/Documents/cs791/solar/AutoML%20CV/CV/Solar_Traditional.ipynb#ch0000001?line=17'>18</a>\u001b[0m   OutputResults[\u001b[39mstr\u001b[39m(model)][\u001b[39m\"\u001b[39m\u001b[39mSprint\u001b[39m\u001b[39m\"\u001b[39m] \u001b[39m=\u001b[39m \u001b[39mstr\u001b[39m(model\u001b[39m.\u001b[39;49msprint_statistics())\n\u001b[1;32m     <a href='vscode-notebook-cell:/home/nick/Documents/cs791/solar/AutoML%20CV/CV/Solar_Traditional.ipynb#ch0000001?line=18'>19</a>\u001b[0m \u001b[39mexcept\u001b[39;00m \u001b[39mKeyError\u001b[39;00m:\n\u001b[1;32m     <a href='vscode-notebook-cell:/home/nick/Documents/cs791/solar/AutoML%20CV/CV/Solar_Traditional.ipynb#ch0000001?line=19'>20</a>\u001b[0m   \u001b[39mpass\u001b[39;00m\n",
      "File \u001b[0;32m~/.local/lib/python3.8/site-packages/autosklearn/estimators.py:652\u001b[0m, in \u001b[0;36mAutoSklearnEstimator.sprint_statistics\u001b[0;34m(self)\u001b[0m\n\u001b[1;32m    <a href='file:///home/nick/.local/lib/python3.8/site-packages/autosklearn/estimators.py?line=635'>636</a>\u001b[0m \u001b[39mdef\u001b[39;00m \u001b[39msprint_statistics\u001b[39m(\u001b[39mself\u001b[39m):\n\u001b[1;32m    <a href='file:///home/nick/.local/lib/python3.8/site-packages/autosklearn/estimators.py?line=636'>637</a>\u001b[0m     \u001b[39m\"\"\"Return the following statistics of the training result:\u001b[39;00m\n\u001b[1;32m    <a href='file:///home/nick/.local/lib/python3.8/site-packages/autosklearn/estimators.py?line=637'>638</a>\u001b[0m \n\u001b[1;32m    <a href='file:///home/nick/.local/lib/python3.8/site-packages/autosklearn/estimators.py?line=638'>639</a>\u001b[0m \u001b[39m    - dataset name\u001b[39;00m\n\u001b[0;32m   (...)\u001b[0m\n\u001b[1;32m    <a href='file:///home/nick/.local/lib/python3.8/site-packages/autosklearn/estimators.py?line=649'>650</a>\u001b[0m \u001b[39m    str\u001b[39;00m\n\u001b[1;32m    <a href='file:///home/nick/.local/lib/python3.8/site-packages/autosklearn/estimators.py?line=650'>651</a>\u001b[0m \u001b[39m    \"\"\"\u001b[39;00m\n\u001b[0;32m--> <a href='file:///home/nick/.local/lib/python3.8/site-packages/autosklearn/estimators.py?line=651'>652</a>\u001b[0m     \u001b[39mreturn\u001b[39;00m \u001b[39mself\u001b[39;49m\u001b[39m.\u001b[39;49mautoml_\u001b[39m.\u001b[39;49msprint_statistics()\n",
      "\u001b[0;31mAttributeError\u001b[0m: 'NoneType' object has no attribute 'sprint_statistics'"
     ]
    }
   ],
   "source": [
    "REPEATS = 2\n",
    "OutputResults.clear()\n",
    "\n",
    "for i in range(0, REPEATS):\n",
    "  for model in ModelsToTest:\n",
    "    print(f\"-----{str(model).split('(')[0]}-----\")\n",
    "    makeModel(model)\n",
    "  writeMe()\n",
    "  print()"
   ]
  }
 ],
 "metadata": {
  "interpreter": {
   "hash": "aee8b7b246df8f9039afb4144a1f6fd8d2ca17a180786b69acc140d282b71a49"
  },
  "kernelspec": {
   "display_name": "Python 3.9.6 64-bit",
   "language": "python",
   "name": "python3"
  },
  "language_info": {
   "codemirror_mode": {
    "name": "ipython",
    "version": 3
   },
   "file_extension": ".py",
   "mimetype": "text/x-python",
   "name": "python",
   "nbconvert_exporter": "python",
   "pygments_lexer": "ipython3",
   "version": "3.8.10"
  },
  "orig_nbformat": 4
 },
 "nbformat": 4,
 "nbformat_minor": 2
}
