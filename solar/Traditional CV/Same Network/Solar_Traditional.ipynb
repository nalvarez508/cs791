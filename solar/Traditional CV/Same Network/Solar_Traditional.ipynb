{
 "cells": [
  {
   "cell_type": "code",
   "execution_count": 1,
   "metadata": {},
   "outputs": [
    {
     "name": "stdout",
     "output_type": "stream",
     "text": [
      "Shape of training data (baseline): (10920, 14)\n",
      "Shape of training data (24 hours ahead): (10920, 14)\n",
      "Shape of test data (baseline): (48168, 14)\n",
      "Shape of test data (24 hours behind): (48168, 14)\n"
     ]
    }
   ],
   "source": [
    "import sys\n",
    "sys.path.append(\"../../\")\n",
    "import numpy as np\n",
    "import matplotlib.pyplot as plt\n",
    "from sklearn import svm, metrics\n",
    "\n",
    "from sklearn.ensemble import RandomForestRegressor, GradientBoostingRegressor\n",
    "from sklearn.tree import DecisionTreeRegressor\n",
    "from sklearn.svm import LinearSVR, SVC\n",
    "from sklearn.neural_network import MLPRegressor\n",
    "\n",
    "from Class_Solar import Solar\n",
    "\n",
    "NUMBER_ATTRIBUTES = 15\n",
    "BEGIN_AT = 0\n",
    "_VALUETOTEST = 8\n",
    "_NUMBERZONES = 3\n",
    "_ZONETOTEST = 2 # ZoneID - 1\n",
    "PleaseShowMe = False\n",
    "np.set_printoptions(precision=5, suppress=True)\n",
    "\n",
    "s_train = Solar(\"../../solar_training.csv\", skip_f=24)\n",
    "print(\"Shape of training data (baseline):\", s_train.data.shape)\n",
    "s_train_24ahead = Solar(\"../../solar_training_24ahead.csv\")\n",
    "print(\"Shape of training data (24 hours ahead):\", s_train_24ahead.data.shape)\n",
    "s_test = Solar(\"../../solar_test.csv\")\n",
    "print(\"Shape of test data (baseline):\", s_test.data.shape)\n",
    "s_test_24behind = Solar(\"../../solar_test_24behind.csv\", skip_f=24)\n",
    "print(\"Shape of test data (24 hours behind):\", s_test_24behind.data.shape)\n",
    "\n",
    "RMSE_Scores = [0,0,0]\n",
    "MAE_Scores = [0,0,0]\n",
    "\n",
    "ModelsToTest = [RandomForestRegressor(), GradientBoostingRegressor(), DecisionTreeRegressor(), MLPRegressor(), LinearSVR()]\n",
    "OutputResults = dict()"
   ]
  },
  {
   "cell_type": "code",
   "execution_count": 2,
   "metadata": {},
   "outputs": [],
   "source": [
    "def truncate(num, digits):\n",
    "  l = str(float(num)).split('.')\n",
    "  digits = min(len(l[1]), digits)\n",
    "  return l[0] + '.' + l[1][:digits]"
   ]
  },
  {
   "cell_type": "code",
   "execution_count": 3,
   "metadata": {},
   "outputs": [],
   "source": [
    "def makeModel(m):\n",
    "  model = m\n",
    "  #model.fit(s_train.data, s_train.power) #Used for current time predictions\n",
    "  model.fit(s_train.data, s_train_24ahead.power) #Used for 24 hour ahead predictions\n",
    "  return model"
   ]
  },
  {
   "cell_type": "code",
   "execution_count": 4,
   "metadata": {},
   "outputs": [],
   "source": [
    "from copy import deepcopy\n",
    "\n",
    "def runModel():\n",
    "  OutputResults[str(regr)] = {}\n",
    "  for z in range(0, _NUMBERZONES):\n",
    "    OutputResults[str(regr)][z] = {}\n",
    "    # Since there are multiple zones, we may need to shave off 24 hours.\n",
    "    if len(s_test_24behind.zonedata[z]) > len(s_test.zonepower[z]):\n",
    "      s_test_24behind.zonedata[z] = s_test_24behind.zonedata[z][:-24]\n",
    "    elif len(s_test_24behind.zonedata[z]) < len(s_test.zonepower[z]):\n",
    "      s_test.zonepower[z] = s_test.zonepower[z][24:]\n",
    "\n",
    "    #y_pred_test = regr.predict(s_test.zonedata[z]) #Used for current time predictions\n",
    "    y_pred_test = regr.predict(s_test_24behind.zonedata[z]) #Used for 24 hour ahead predictions\n",
    "    # Scoring // Current Time or 24 Hours Ahead\n",
    "    try: # Zones of equal length\n",
    "      RMSE_Scores[z] = metrics.mean_squared_error(s_test.zonepower[z], y_pred_test, squared=False)\n",
    "      OutputResults[str(regr)][z][\"RMSE\"] = deepcopy(RMSE_Scores[z])\n",
    "      MAE_Scores[z] = metrics.mean_absolute_error(s_test.zonepower[z], y_pred_test)\n",
    "      OutputResults[str(regr)][z][\"MAE\"] = deepcopy(MAE_Scores[z])\n",
    "    except ValueError:\n",
    "      pass\n",
    "\n",
    "    if z == _ZONETOTEST:\n",
    "      #plotPredictVsActual(s_test.zonepower[_ZONETOTEST], y_pred_test)\n",
    "      #plotCurve(s_test.zonepower[_ZONETOTEST], y_pred_test, 'summer')\n",
    "      pass"
   ]
  },
  {
   "cell_type": "code",
   "execution_count": 5,
   "metadata": {},
   "outputs": [],
   "source": [
    "def printScores():\n",
    "  RMSE_out = str()\n",
    "  MAE_out = str()\n",
    "  RMSE_avg = 0\n",
    "  MAE_avg = 0\n",
    "  for i in range(3):\n",
    "    RMSE_out += (\"\\t\" + truncate(RMSE_Scores[i], 6))\n",
    "    RMSE_avg += RMSE_Scores[i]\n",
    "    MAE_out += (\"\\t\" + truncate(MAE_Scores[i], 6))\n",
    "    MAE_avg += MAE_Scores[i]\n",
    "  RMSE_out += (\"\\t\" + truncate(RMSE_avg/3.0, 6))\n",
    "  MAE_out += (\"\\t\" + truncate(MAE_avg/3.0, 6))\n",
    "\n",
    "  # print(\"\\n\\t\\t###### Scoring Metrics ######\")\n",
    "  # print(\"\\tZone 1\\t\\tZone 2\\t\\tZone 3\\t\\tOverall\")\n",
    "  # print(f\"RMSE{RMSE_out}\")\n",
    "  # print(f\"MAE{MAE_out}\")\n",
    "  OutputResults[str(regr)][\"RMSE\"] = RMSE_avg/3.0\n",
    "  OutputResults[str(regr)][\"MAE\"] = MAE_avg/3.0"
   ]
  },
  {
   "cell_type": "code",
   "execution_count": 11,
   "metadata": {},
   "outputs": [],
   "source": [
    "import json\n",
    "from os import path\n",
    "\n",
    "def writeMe():\n",
    "  with open(\"Traditional_SameNetwork.json\", \"a\") as f:\n",
    "    f.write(json.dumps(OutputResults))\n",
    "  with open(\"Traditional_SameNetwork_Results.csv\", \"a\") as f2:\n",
    "    if not path.exists(\"Traditional_SameNetwork_Results.csv\"): f2.write(\"Model,Zone,MAE\\n\")\n",
    "    for model in OutputResults:\n",
    "      for zone in OutputResults[model]:\n",
    "        if type(zone) == int:\n",
    "          mdl = str(model).split('(')[0]\n",
    "          f2.write(f\"{mdl},{zone},{OutputResults[model][zone]['MAE']}\\n\")"
   ]
  },
  {
   "cell_type": "code",
   "execution_count": 12,
   "metadata": {},
   "outputs": [
    {
     "name": "stdout",
     "output_type": "stream",
     "text": [
      "-----RandomForestRegressor-----\n",
      "-----GradientBoostingRegressor-----\n",
      "-----DecisionTreeRegressor-----\n",
      "-----MLPRegressor-----\n",
      "-----LinearSVR-----\n",
      "RandomForestRegressor()\n",
      "GradientBoostingRegressor()\n",
      "DecisionTreeRegressor()\n",
      "MLPRegressor()\n",
      "LinearSVR()\n",
      "-----RandomForestRegressor-----\n"
     ]
    },
    {
     "name": "stderr",
     "output_type": "stream",
     "text": [
      "/Library/Frameworks/Python.framework/Versions/3.9/lib/python3.9/site-packages/sklearn/svm/_base.py:985: ConvergenceWarning: Liblinear failed to converge, increase the number of iterations.\n",
      "  warnings.warn(\"Liblinear failed to converge, increase \"\n"
     ]
    },
    {
     "name": "stdout",
     "output_type": "stream",
     "text": [
      "-----GradientBoostingRegressor-----\n",
      "-----DecisionTreeRegressor-----\n",
      "-----MLPRegressor-----\n",
      "-----LinearSVR-----\n",
      "RandomForestRegressor()\n",
      "GradientBoostingRegressor()\n",
      "DecisionTreeRegressor()\n",
      "MLPRegressor()\n",
      "LinearSVR()\n",
      "-----RandomForestRegressor-----\n"
     ]
    },
    {
     "name": "stderr",
     "output_type": "stream",
     "text": [
      "/Library/Frameworks/Python.framework/Versions/3.9/lib/python3.9/site-packages/sklearn/svm/_base.py:985: ConvergenceWarning: Liblinear failed to converge, increase the number of iterations.\n",
      "  warnings.warn(\"Liblinear failed to converge, increase \"\n"
     ]
    },
    {
     "name": "stdout",
     "output_type": "stream",
     "text": [
      "-----GradientBoostingRegressor-----\n",
      "-----DecisionTreeRegressor-----\n",
      "-----MLPRegressor-----\n",
      "-----LinearSVR-----\n",
      "RandomForestRegressor()\n",
      "GradientBoostingRegressor()\n",
      "DecisionTreeRegressor()\n",
      "MLPRegressor()\n",
      "LinearSVR()\n",
      "-----RandomForestRegressor-----\n"
     ]
    },
    {
     "name": "stderr",
     "output_type": "stream",
     "text": [
      "/Library/Frameworks/Python.framework/Versions/3.9/lib/python3.9/site-packages/sklearn/svm/_base.py:985: ConvergenceWarning: Liblinear failed to converge, increase the number of iterations.\n",
      "  warnings.warn(\"Liblinear failed to converge, increase \"\n"
     ]
    },
    {
     "name": "stdout",
     "output_type": "stream",
     "text": [
      "-----GradientBoostingRegressor-----\n",
      "-----DecisionTreeRegressor-----\n",
      "-----MLPRegressor-----\n",
      "-----LinearSVR-----\n",
      "RandomForestRegressor()\n",
      "GradientBoostingRegressor()\n",
      "DecisionTreeRegressor()\n",
      "MLPRegressor()\n",
      "LinearSVR()\n",
      "-----RandomForestRegressor-----\n"
     ]
    },
    {
     "name": "stderr",
     "output_type": "stream",
     "text": [
      "/Library/Frameworks/Python.framework/Versions/3.9/lib/python3.9/site-packages/sklearn/svm/_base.py:985: ConvergenceWarning: Liblinear failed to converge, increase the number of iterations.\n",
      "  warnings.warn(\"Liblinear failed to converge, increase \"\n"
     ]
    },
    {
     "name": "stdout",
     "output_type": "stream",
     "text": [
      "-----GradientBoostingRegressor-----\n",
      "-----DecisionTreeRegressor-----\n",
      "-----MLPRegressor-----\n",
      "-----LinearSVR-----\n",
      "RandomForestRegressor()\n",
      "GradientBoostingRegressor()\n",
      "DecisionTreeRegressor()\n",
      "MLPRegressor()\n",
      "LinearSVR()\n"
     ]
    },
    {
     "name": "stderr",
     "output_type": "stream",
     "text": [
      "/Library/Frameworks/Python.framework/Versions/3.9/lib/python3.9/site-packages/sklearn/svm/_base.py:985: ConvergenceWarning: Liblinear failed to converge, increase the number of iterations.\n",
      "  warnings.warn(\"Liblinear failed to converge, increase \"\n"
     ]
    }
   ],
   "source": [
    "REPEATS = 5\n",
    "OutputResults.clear()\n",
    "\n",
    "for i in range(0, REPEATS):\n",
    "  MAE_Scores = [0,0,0]\n",
    "  RMSE_Scores = [0,0,0]\n",
    "  for model in ModelsToTest:\n",
    "    print(f\"-----{str(model).split('(')[0]}-----\")\n",
    "    regr = makeModel(model)\n",
    "    runModel()\n",
    "    printScores()\n",
    "  writeMe()\n",
    "  print()"
   ]
  }
 ],
 "metadata": {
  "interpreter": {
   "hash": "aee8b7b246df8f9039afb4144a1f6fd8d2ca17a180786b69acc140d282b71a49"
  },
  "kernelspec": {
   "display_name": "Python 3.9.6 64-bit",
   "language": "python",
   "name": "python3"
  },
  "language_info": {
   "codemirror_mode": {
    "name": "ipython",
    "version": 3
   },
   "file_extension": ".py",
   "mimetype": "text/x-python",
   "name": "python",
   "nbconvert_exporter": "python",
   "pygments_lexer": "ipython3",
   "version": "3.9.6"
  },
  "orig_nbformat": 4
 },
 "nbformat": 4,
 "nbformat_minor": 2
}
