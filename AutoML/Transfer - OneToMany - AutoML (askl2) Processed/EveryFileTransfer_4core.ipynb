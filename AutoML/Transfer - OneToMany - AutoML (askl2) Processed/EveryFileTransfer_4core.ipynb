{
 "cells": [
  {
   "cell_type": "markdown",
   "metadata": {},
   "source": [
    "# AutoML (askl2) trained on every file individually, tested on the rest (4 cores, 30 seconds per file)\n",
    "AutoML's data preprocessing is applied to these tests. The model will be trained on file A, tested on files B,C,D.., then on B, tested on A,C,D.. etc"
   ]
  },
  {
   "cell_type": "code",
   "execution_count": 1,
   "metadata": {},
   "outputs": [],
   "source": [
    "import sys\n",
    "sys.path.append(\"../../\")\n",
    "from time import process_time\n",
    "from os import listdir, chdir\n",
    "from copy import deepcopy\n",
    "\n",
    "def warn(*args, **kwargs):\n",
    "  pass\n",
    "import warnings\n",
    "warnings.warn = warn\n",
    "\n",
    "from modules.NetworkTraffic import NetworkTraffic\n",
    "from sklearn import model_selection, metrics\n",
    "from autosklearn.experimental.askl2 import AutoSklearn2Classifier\n",
    "\n",
    "FilesToTest = list()\n",
    "chdir(\"../../data\")\n",
    "for file in listdir():\n",
    "  if file.endswith(\".csv\"):\n",
    "    FilesToTest.append(file)\n",
    "\n",
    "TestSize = [0.4]\n",
    "ModelsToTest = [AutoSklearn2Classifier(time_left_for_this_task=300, memory_limit=4096, n_jobs=-1)]\n",
    "OutputResults = dict()\n",
    "#ModelResults = dict()"
   ]
  },
  {
   "cell_type": "code",
   "execution_count": 2,
   "metadata": {},
   "outputs": [],
   "source": [
    "def testModel(model, x_train, x_test, y_train, y_test):\n",
    "  start = process_time()\n",
    "\n",
    "  ### Begin timing\n",
    "  temp_clf = model\n",
    "  temp_clf.fit(x_train, y_train)\n",
    "\n",
    "  y_pred = temp_clf.predict(x_test)\n",
    "  ### End timing\n",
    "\n",
    "  stop = process_time()\n",
    "\n",
    "  # Results\n",
    "  tempDict = {\n",
    "    \"Accuracy\": metrics.accuracy_score(y_test, y_pred),\n",
    "    \"Balanced Accuracy\": metrics.balanced_accuracy_score(y_test, y_pred),\n",
    "    \"F1 Micro\": metrics.f1_score(y_test, y_pred, average='micro'),\n",
    "    \"Precision Micro\": metrics.f1_score(y_test, y_pred, average='micro'),\n",
    "    \"Recall Micro\": metrics.recall_score(y_test, y_pred, average='micro'),\n",
    "    \"Runtime\": stop-start,\n",
    "  }\n",
    "  # try:\n",
    "  #   tempDict[\"Leaderboard\"] = str(temp_clf.leaderboard())\n",
    "  # except KeyError:\n",
    "  #   tempDict[\"Leaderboard\"] = None\n",
    "  try:\n",
    "    tempDict[\"Final Ensemble\"] = temp_clf.show_models()\n",
    "  except KeyError:\n",
    "    tempDict[\"Final Ensemble\"] = None\n",
    "  try:\n",
    "    tempDict[\"Leaderboard\"] = str(temp_clf.leaderboard())\n",
    "  except:\n",
    "    pass\n",
    "  return tempDict"
   ]
  },
  {
   "cell_type": "code",
   "execution_count": 3,
   "metadata": {},
   "outputs": [],
   "source": [
    "def updateModelResults(size, model, results):\n",
    "  def changeKeyValue():\n",
    "    try:\n",
    "      ModelResults[size][model][key] += results[key]\n",
    "    except KeyError:\n",
    "      ModelResults[size][model][key] = results[key]\n",
    "  \n",
    "  # For each metric, attempt to set or add to the value\n",
    "  for key in results:\n",
    "    if key not in [\"Leaderboard\", \"Final Ensemble\"]:\n",
    "      try:\n",
    "        changeKeyValue()\n",
    "      except KeyError:\n",
    "        ModelResults[size][model] = dict()\n",
    "        changeKeyValue()\n",
    "\n",
    "# Divide each metric by the total number of files tested\n",
    "def findAveragesForModelResults(fileCount):\n",
    "  for size in ModelResults:\n",
    "    for model in ModelResults[size]:\n",
    "      for metric in ModelResults[size][model]:\n",
    "        if metric not in [\"Leaderboard\", \"Final Ensemble\"]:\n",
    "          ModelResults[size][model][metric] /= fileCount"
   ]
  },
  {
   "cell_type": "code",
   "execution_count": 4,
   "metadata": {},
   "outputs": [
    {
     "name": "stdout",
     "output_type": "stream",
     "text": [
      "\n",
      "Searching with test size of 40.0%...\n",
      "b5000d100.csv, b5000d100.csv : AutoSklearn2Classifier(memory_limit=4096, n_jobs=-1,\n",
      "                       time_left_for_this_task=300), b5000d30.csv, b5000d30.csv : AutoSklearn2Classifier(memory_limit=4096, metric=accuracy, n_jobs=-1,\n",
      "                       per_run_time_limit=120, time_left_for_this_task=300), b100d10.csv, b100d10.csv : AutoSklearn2Classifier(memory_limit=4096, metric=accuracy, n_jobs=-1,\n",
      "                       per_run_time_limit=120, time_left_for_this_task=300), b1000d10.csv, b1000d10.csv : AutoSklearn2Classifier(memory_limit=4096, metric=accuracy, n_jobs=-1,\n",
      "                       per_run_time_limit=120, time_left_for_this_task=300), b1000d100.csv, b1000d100.csv : AutoSklearn2Classifier(memory_limit=4096, metric=accuracy, n_jobs=-1,\n",
      "                       per_run_time_limit=120, time_left_for_this_task=300), b100d100.csv, b100d100.csv : AutoSklearn2Classifier(memory_limit=4096, metric=accuracy, n_jobs=-1,\n",
      "                       per_run_time_limit=120, time_left_for_this_task=300), b5000d10.csv, b5000d10.csv : AutoSklearn2Classifier(memory_limit=4096, metric=accuracy, n_jobs=-1,\n",
      "                       per_run_time_limit=120, time_left_for_this_task=300), b1000d30.csv, b1000d30.csv : AutoSklearn2Classifier(memory_limit=4096, metric=accuracy, n_jobs=-1,\n",
      "                       per_run_time_limit=120, time_left_for_this_task=300), "
     ]
    },
    {
     "ename": "RuntimeError",
     "evalue": "No model found. Try increasing 'time_left_for_this_task'.",
     "output_type": "error",
     "traceback": [
      "\u001b[0;31m---------------------------------------------------------------------------\u001b[0m",
      "\u001b[0;31mRuntimeError\u001b[0m                              Traceback (most recent call last)",
      "\u001b[1;32m/home/nick/Documents/cs791/AutoML/Transfer - OneToMany - AutoML (askl2) Processed/EveryFileTransfer_4core.ipynb Cell 5'\u001b[0m in \u001b[0;36m<cell line: 4>\u001b[0;34m()\u001b[0m\n\u001b[1;32m     <a href='vscode-notebook-cell:/home/nick/Documents/cs791/AutoML/Transfer%20-%20OneToMany%20-%20AutoML%20%28askl2%29%20Processed/EveryFileTransfer_4core.ipynb#ch0000004?line=17'>18</a>\u001b[0m \u001b[39mfor\u001b[39;00m model \u001b[39min\u001b[39;00m ModelsToTest:\n\u001b[1;32m     <a href='vscode-notebook-cell:/home/nick/Documents/cs791/AutoML/Transfer%20-%20OneToMany%20-%20AutoML%20%28askl2%29%20Processed/EveryFileTransfer_4core.ipynb#ch0000004?line=18'>19</a>\u001b[0m   \u001b[39mprint\u001b[39m(\u001b[39mf\u001b[39m\u001b[39m\"\u001b[39m\u001b[39m{\u001b[39;00mfile\u001b[39m}\u001b[39;00m\u001b[39m : \u001b[39m\u001b[39m{\u001b[39;00m\u001b[39mstr\u001b[39m(model)\u001b[39m}\u001b[39;00m\u001b[39m\"\u001b[39m, end\u001b[39m=\u001b[39m\u001b[39m\"\u001b[39m\u001b[39m, \u001b[39m\u001b[39m\"\u001b[39m)\n\u001b[0;32m---> <a href='vscode-notebook-cell:/home/nick/Documents/cs791/AutoML/Transfer%20-%20OneToMany%20-%20AutoML%20%28askl2%29%20Processed/EveryFileTransfer_4core.ipynb#ch0000004?line=19'>20</a>\u001b[0m   results \u001b[39m=\u001b[39m testModel(model, x_train, x_test, y_train, y_test)\n\u001b[1;32m     <a href='vscode-notebook-cell:/home/nick/Documents/cs791/AutoML/Transfer%20-%20OneToMany%20-%20AutoML%20%28askl2%29%20Processed/EveryFileTransfer_4core.ipynb#ch0000004?line=20'>21</a>\u001b[0m   OutputResults[size][file]\u001b[39m.\u001b[39mupdate({\u001b[39mstr\u001b[39m(model): results})\n",
      "\u001b[1;32m/home/nick/Documents/cs791/AutoML/Transfer - OneToMany - AutoML (askl2) Processed/EveryFileTransfer_4core.ipynb Cell 3'\u001b[0m in \u001b[0;36mtestModel\u001b[0;34m(model, x_train, x_test, y_train, y_test)\u001b[0m\n\u001b[1;32m     <a href='vscode-notebook-cell:/home/nick/Documents/cs791/AutoML/Transfer%20-%20OneToMany%20-%20AutoML%20%28askl2%29%20Processed/EveryFileTransfer_4core.ipynb#ch0000002?line=21'>22</a>\u001b[0m \u001b[39m# try:\u001b[39;00m\n\u001b[1;32m     <a href='vscode-notebook-cell:/home/nick/Documents/cs791/AutoML/Transfer%20-%20OneToMany%20-%20AutoML%20%28askl2%29%20Processed/EveryFileTransfer_4core.ipynb#ch0000002?line=22'>23</a>\u001b[0m \u001b[39m#   tempDict[\"Leaderboard\"] = str(temp_clf.leaderboard())\u001b[39;00m\n\u001b[1;32m     <a href='vscode-notebook-cell:/home/nick/Documents/cs791/AutoML/Transfer%20-%20OneToMany%20-%20AutoML%20%28askl2%29%20Processed/EveryFileTransfer_4core.ipynb#ch0000002?line=23'>24</a>\u001b[0m \u001b[39m# except KeyError:\u001b[39;00m\n\u001b[1;32m     <a href='vscode-notebook-cell:/home/nick/Documents/cs791/AutoML/Transfer%20-%20OneToMany%20-%20AutoML%20%28askl2%29%20Processed/EveryFileTransfer_4core.ipynb#ch0000002?line=24'>25</a>\u001b[0m \u001b[39m#   tempDict[\"Leaderboard\"] = None\u001b[39;00m\n\u001b[1;32m     <a href='vscode-notebook-cell:/home/nick/Documents/cs791/AutoML/Transfer%20-%20OneToMany%20-%20AutoML%20%28askl2%29%20Processed/EveryFileTransfer_4core.ipynb#ch0000002?line=25'>26</a>\u001b[0m \u001b[39mtry\u001b[39;00m:\n\u001b[0;32m---> <a href='vscode-notebook-cell:/home/nick/Documents/cs791/AutoML/Transfer%20-%20OneToMany%20-%20AutoML%20%28askl2%29%20Processed/EveryFileTransfer_4core.ipynb#ch0000002?line=26'>27</a>\u001b[0m   tempDict[\u001b[39m\"\u001b[39m\u001b[39mFinal Ensemble\u001b[39m\u001b[39m\"\u001b[39m] \u001b[39m=\u001b[39m temp_clf\u001b[39m.\u001b[39;49mshow_models()\n\u001b[1;32m     <a href='vscode-notebook-cell:/home/nick/Documents/cs791/AutoML/Transfer%20-%20OneToMany%20-%20AutoML%20%28askl2%29%20Processed/EveryFileTransfer_4core.ipynb#ch0000002?line=27'>28</a>\u001b[0m \u001b[39mexcept\u001b[39;00m \u001b[39mKeyError\u001b[39;00m:\n\u001b[1;32m     <a href='vscode-notebook-cell:/home/nick/Documents/cs791/AutoML/Transfer%20-%20OneToMany%20-%20AutoML%20%28askl2%29%20Processed/EveryFileTransfer_4core.ipynb#ch0000002?line=28'>29</a>\u001b[0m   tempDict[\u001b[39m\"\u001b[39m\u001b[39mFinal Ensemble\u001b[39m\u001b[39m\"\u001b[39m] \u001b[39m=\u001b[39m \u001b[39mNone\u001b[39;00m\n",
      "File \u001b[0;32m~/.local/lib/python3.8/site-packages/autosklearn/estimators.py:608\u001b[0m, in \u001b[0;36mAutoSklearnEstimator.show_models\u001b[0;34m(self)\u001b[0m\n\u001b[1;32m    <a href='file:///home/nick/.local/lib/python3.8/site-packages/autosklearn/estimators.py?line=538'>539</a>\u001b[0m \u001b[39mdef\u001b[39;00m \u001b[39mshow_models\u001b[39m(\u001b[39mself\u001b[39m):\n\u001b[1;32m    <a href='file:///home/nick/.local/lib/python3.8/site-packages/autosklearn/estimators.py?line=539'>540</a>\u001b[0m     \u001b[39m\"\"\" Returns a dictionary containing dictionaries of ensemble models.\u001b[39;00m\n\u001b[1;32m    <a href='file:///home/nick/.local/lib/python3.8/site-packages/autosklearn/estimators.py?line=540'>541</a>\u001b[0m \n\u001b[1;32m    <a href='file:///home/nick/.local/lib/python3.8/site-packages/autosklearn/estimators.py?line=541'>542</a>\u001b[0m \u001b[39m    Each model in the ensemble can be accessed by giving its ``model_id`` as key.\u001b[39;00m\n\u001b[0;32m   (...)\u001b[0m\n\u001b[1;32m    <a href='file:///home/nick/.local/lib/python3.8/site-packages/autosklearn/estimators.py?line=604'>605</a>\u001b[0m \n\u001b[1;32m    <a href='file:///home/nick/.local/lib/python3.8/site-packages/autosklearn/estimators.py?line=605'>606</a>\u001b[0m \u001b[39m    \"\"\"\u001b[39;00m\n\u001b[0;32m--> <a href='file:///home/nick/.local/lib/python3.8/site-packages/autosklearn/estimators.py?line=607'>608</a>\u001b[0m     \u001b[39mreturn\u001b[39;00m \u001b[39mself\u001b[39;49m\u001b[39m.\u001b[39;49mautoml_\u001b[39m.\u001b[39;49mshow_models()\n",
      "File \u001b[0;32m~/.local/lib/python3.8/site-packages/autosklearn/automl.py:1924\u001b[0m, in \u001b[0;36mAutoML.show_models\u001b[0;34m(self)\u001b[0m\n\u001b[1;32m   <a href='file:///home/nick/.local/lib/python3.8/site-packages/autosklearn/automl.py?line=1921'>1922</a>\u001b[0m \u001b[39m# Checking if the dictionary is empty\u001b[39;00m\n\u001b[1;32m   <a href='file:///home/nick/.local/lib/python3.8/site-packages/autosklearn/automl.py?line=1922'>1923</a>\u001b[0m \u001b[39mif\u001b[39;00m \u001b[39mnot\u001b[39;00m table_dict:\n\u001b[0;32m-> <a href='file:///home/nick/.local/lib/python3.8/site-packages/autosklearn/automl.py?line=1923'>1924</a>\u001b[0m     \u001b[39mraise\u001b[39;00m \u001b[39mRuntimeError\u001b[39;00m(\u001b[39m'\u001b[39m\u001b[39mNo model found. Try increasing \u001b[39m\u001b[39m\\'\u001b[39;00m\u001b[39mtime_left_for_this_task\u001b[39m\u001b[39m\\'\u001b[39;00m\u001b[39m.\u001b[39m\u001b[39m'\u001b[39m)\n\u001b[1;32m   <a href='file:///home/nick/.local/lib/python3.8/site-packages/autosklearn/automl.py?line=1925'>1926</a>\u001b[0m \u001b[39mfor\u001b[39;00m i, weight \u001b[39min\u001b[39;00m \u001b[39menumerate\u001b[39m(\u001b[39mself\u001b[39m\u001b[39m.\u001b[39mensemble_\u001b[39m.\u001b[39mweights_):\n\u001b[1;32m   <a href='file:///home/nick/.local/lib/python3.8/site-packages/autosklearn/automl.py?line=1926'>1927</a>\u001b[0m     (_, model_id, _) \u001b[39m=\u001b[39m \u001b[39mself\u001b[39m\u001b[39m.\u001b[39mensemble_\u001b[39m.\u001b[39midentifiers_[i]\n",
      "\u001b[0;31mRuntimeError\u001b[0m: No model found. Try increasing 'time_left_for_this_task'."
     ]
    }
   ],
   "source": [
    "OutputResults.clear()\n",
    "#ModelResults.clear()\n",
    "\n",
    "for size in TestSize:\n",
    "  print(f\"\\nSearching with test size of {size*100}%...\")\n",
    "  OutputResults[size] = dict()\n",
    "  #ModelResults[size] = dict()\n",
    "\n",
    "  for index, file in enumerate(FilesToTest):\n",
    "    print(file, end=', ')\n",
    "    OutputResults[size][file] = dict()\n",
    "    currentFileData = NetworkTraffic(file, testSize=size, doNorm=True, doNormAll=True)\n",
    "    restOfFiles = deepcopy(FilesToTest)\n",
    "    restOfFiles.pop(index)\n",
    "    restOfTheFilesData = NetworkTraffic(restOfFiles, testSize=size, doNorm=True, doNormAll=True)\n",
    "    x_train, y_train, x_test, y_test = currentFileData.data, currentFileData.target, restOfTheFilesData.data, restOfTheFilesData.target\n",
    "\n",
    "    for model in ModelsToTest:\n",
    "      print(f\"{file} : {str(model)}\", end=\", \")\n",
    "      results = testModel(model, x_train, x_test, y_train, y_test)\n",
    "      OutputResults[size][file].update({str(model): results})\n",
    "      #updateModelResults(size, str(model), results)\n",
    "\n",
    "#findAveragesForModelResults(len(FilesToTest))"
   ]
  },
  {
   "cell_type": "code",
   "execution_count": null,
   "metadata": {},
   "outputs": [],
   "source": [
    "copyOfOutput = OutputResults\n",
    "for size in OutputResults:\n",
    "  for file in OutputResults[size]:\n",
    "    for model in OutputResults[size][file]:\n",
    "      for attribute in OutputResults[size][file][model]:\n",
    "        if type(OutputResults[size][file][model][attribute]) not in [str, int, float]:\n",
    "          copyOfOutput[size][file][model][attribute] = str(OutputResults[size][file][model][attribute])"
   ]
  },
  {
   "cell_type": "code",
   "execution_count": null,
   "metadata": {},
   "outputs": [],
   "source": [
    "import json\n",
    "with open(\"EveryFileIndividually_Untuned_AllTestResults.json\", \"a\") as f:\n",
    "  f.write(json.dumps(copyOfOutput, indent=2))"
   ]
  },
  {
   "cell_type": "code",
   "execution_count": null,
   "metadata": {},
   "outputs": [],
   "source": [
    "with open(\"EveryFileTransfer_Untuned_ModelResults.csv\", \"w\") as f3:\n",
    "  f3.write(\"File Trained On,Model,Accuracy,Runtime\\n\")\n",
    "  for size in OutputResults:\n",
    "    for file in OutputResults[size]:\n",
    "      for model in OutputResults[size][file]:\n",
    "        f3.write(f\"{file},{model},{OutputResults[size][file][model]['Accuracy']},{OutputResults[size][file][model]['Runtime']}\\n\")"
   ]
  }
 ],
 "metadata": {
  "interpreter": {
   "hash": "916dbcbb3f70747c44a77c7bcd40155683ae19c65e1c03b4aa3499c5328201f1"
  },
  "kernelspec": {
   "display_name": "Python 3.8.10 64-bit",
   "language": "python",
   "name": "python3"
  },
  "language_info": {
   "codemirror_mode": {
    "name": "ipython",
    "version": 3
   },
   "file_extension": ".py",
   "mimetype": "text/x-python",
   "name": "python",
   "nbconvert_exporter": "python",
   "pygments_lexer": "ipython3",
   "version": "3.8.10"
  },
  "orig_nbformat": 4
 },
 "nbformat": 4,
 "nbformat_minor": 2
}
