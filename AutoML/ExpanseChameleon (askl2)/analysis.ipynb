{
 "cells": [
  {
   "cell_type": "code",
   "execution_count": 1,
   "metadata": {},
   "outputs": [],
   "source": [
    "import warnings\n",
    "warnings.filterwarnings(\"ignore\")"
   ]
  },
  {
   "cell_type": "code",
   "execution_count": 2,
   "metadata": {},
   "outputs": [],
   "source": [
    "import pandas as pd\n",
    "import numpy as np\n",
    "from imblearn.under_sampling import RandomUnderSampler\n",
    "from sklearn.ensemble import RandomForestClassifier\n",
    "from sklearn.model_selection import train_test_split\n",
    "from sklearn import metrics\n",
    "from sklearn.pipeline import make_pipeline\n",
    "from sklearn.preprocessing import StandardScaler, PowerTransformer\n",
    "from sklearn.model_selection import cross_val_score\n",
    "\n",
    "from autosklearn.classification import AutoSklearnClassifier\n",
    "from autosklearn.experimental.askl2 import AutoSklearn2Classifier"
   ]
  },
  {
   "cell_type": "code",
   "execution_count": 3,
   "metadata": {},
   "outputs": [],
   "source": [
    "root = \"../../data/other/\"\n",
    "data_root = \"../../data/other/\"\n",
    "models = [AutoSklearnClassifier(time_left_for_this_task=30, n_jobs=-1, memory_limit=4096), AutoSklearn2Classifier(time_left_for_this_task=30, n_jobs=-1, memory_limit=4096)]"
   ]
  },
  {
   "cell_type": "code",
   "execution_count": 4,
   "metadata": {},
   "outputs": [],
   "source": [
    "\"\"\"\n",
    "Expanse >>  From TACC to SDSC (rtt: 58ms)\n",
    "Chameleon >>  From TACC to UC (rtt: 32ms)\n",
    "Labels \n",
    "Code <> Name\n",
    "1    <> Normal\n",
    "2    <> Duplicate\n",
    "3    <> Reorder\n",
    "4    <> Corrupt\n",
    "5    <> Loss\n",
    "6    <> Jitter\n",
    "\"\"\"\n",
    "\n",
    "bws = {\n",
    "    \"expanse\": [1000],\n",
    "    \"chameleon\": [1000],\n",
    "}\n",
    "\n",
    "\n",
    "rtts = {\n",
    "    \"expanse\": [60],\n",
    "    \"chameleon\": [35],\n",
    "}\n",
    "\n",
    "cc_algos = [\"cubic\", \"htcp\", \"bbr\"]\n",
    "feature_file = root+\"ss_7_features.csv\"\n",
    "labels = [1,2,3,4,5,6]\n",
    "\n",
    "features = pd.read_csv(feature_file)\n",
    "feature_list = list(features.feature.values)"
   ]
  },
  {
   "cell_type": "code",
   "execution_count": 5,
   "metadata": {},
   "outputs": [],
   "source": [
    "def read_file(env, transform=True):\n",
    "    global data\n",
    "    \n",
    "    for cc_algo in cc_algos:      \n",
    "        folder = \"{0}/sslog_ps/{1}/\".format(env, cc_algo)\n",
    "\n",
    "        for bw in bws[env]:\n",
    "            for rtt in rtts[env]:\n",
    "                combo = \"b{0}d{1}\".format(bw,rtt)\n",
    "                df = pd.read_csv(data_root+\"{0}/{1}.csv\".format(folder, combo))\n",
    "                df = df.sort_values(by=['label']).reset_index().drop(columns=[\"index\"])\n",
    "                df = df[df.label.isin(labels)] \n",
    "                df.fillna(df.groupby(['label'], as_index=False).mean(), inplace=True)\n",
    "    \n",
    "                if transform:\n",
    "                    for index, row in features.iterrows():\n",
    "#                         if \"rtt\" in row['normalizer']:\n",
    "#                             df[row['feature']] = df[row['feature']] / rtt\n",
    "\n",
    "#                         else:\n",
    "                        df[row['feature']] = df[row['feature']] / df[row['normalizer']]\n",
    "\n",
    "                df.replace([np.inf, -np.inf, np.nan], 0, inplace=True)\n",
    "                if cc_algo not in data[env]:\n",
    "                    data[env][cc_algo] = {}\n",
    "                \n",
    "                data[env][cc_algo][combo] = df"
   ]
  },
  {
   "cell_type": "code",
   "execution_count": 6,
   "metadata": {},
   "outputs": [],
   "source": [
    "def feature_score(env, transform=True, size=0.8):\n",
    "    clfs = []\n",
    "    read_file(env, transform)\n",
    "    for cc_algo in cc_algos:\n",
    "        print(\"CC Algorithms: {0}\".format(cc_algo))\n",
    "        results = []\n",
    "        score = {}\n",
    "        for bw in bws[env]:\n",
    "            for rtt in rtts[env]:\n",
    "                combo = \"b{0}d{1}\".format(bw,rtt)\n",
    "                df = data[env][cc_algo][combo].copy()\n",
    "                df = df[df.report_sec == 10]\n",
    "                y = df.label\n",
    "                X = df[feature_list]#.drop(columns=\"label\") # \n",
    "                X_train, X_test, y_train, y_test = train_test_split(X,y, train_size=size)\n",
    "                X_train, y_train = RandomUnderSampler(sampling_strategy=\"all\").fit_resample(X_train, y_train)\n",
    "#                 clf = make_pipeline(PowerTransformer(), RandomForestClassifier(n_estimators=100))\n",
    "                for model in models:\n",
    "                    score[str(model)] = {}\n",
    "                    clf = model\n",
    "                    clf.fit(X_train, y_train)\n",
    "                    clfs.append(clf)\n",
    "                    y_pred = clf.predict(X_test)\n",
    "                    accuracy = np.round(metrics.accuracy_score(y_test, y_pred) * 100, 2)\n",
    "                    f1_score = np.round(metrics.f1_score(y_test, y_pred, average='micro')* 100,2)\n",
    "                    results.append(f1_score)\n",
    "    #                 print(metrics.confusion_matrix(y_test, y_pred))\n",
    "                    imp = np.round(clf.feature_importances_,2)\n",
    "                    columns = X.columns\n",
    "\n",
    "                    for i in range(len(columns)):\n",
    "                        score[model][columns[i]] = [imp[i]]\n",
    "\n",
    "        print(\"Sample Size: {0}, Average: {1}, Stdv: {2}\".format(size, np.round(np.mean(results), 2),\n",
    "                                                                 np.round(np.std(results), 2)))\n",
    "        print(\"Importance Score:\")\n",
    "        for model in score:\n",
    "            print('\\t', model)\n",
    "            for key in score[model]:\n",
    "                print(\"\\t\\t{0}: {1}\".format(key, np.round(np.mean(score[key]), 2)))\n",
    "        print()\n",
    "#     return clfs"
   ]
  },
  {
   "cell_type": "code",
   "execution_count": 7,
   "metadata": {},
   "outputs": [],
   "source": [
    "from copy import deepcopy\n",
    "output = {}\n",
    "def tl_evaluate(env1, env2, model, t_limit=10, verbose=True, file=None):\n",
    "    for cc_algo in cc_algos:\n",
    "        print(\"CC Algorithms: {0}\".format(cc_algo), end='\\t')\n",
    "        output[cc_algo] = {f\"{env1} -> {env2}\" : {}}\n",
    "        for bw in bws[env1]:\n",
    "\n",
    "            for rtt in rtts[env1]:\n",
    "                train = \"b{0}d{1}\".format(bw,rtt)\n",
    "                df = data[env1][cc_algo][train].copy()\n",
    "                df = df[df.report_sec == 10]\n",
    "                y = df.label\n",
    "                X = df[feature_list]\n",
    "                output[cc_algo][f\"{env1} -> {env2}\"] = {}\n",
    "                clf = make_pipeline(PowerTransformer(), model)\n",
    "                clf.fit(X, y)\n",
    "                results = []\n",
    "                total = []\n",
    "\n",
    "                for bw1 in bws[env2]:\n",
    "                    for rtt1 in rtts[env2]:\n",
    "                        combo = \"b{0}d{1}\".format(bw1,rtt1)\n",
    "                        if train == combo:\n",
    "                            continue\n",
    "\n",
    "                        if rtt1 != 0:\n",
    "                            df = data[env2][cc_algo][combo].copy()\n",
    "                            df = df[df.report_sec == t_limit]\n",
    "                            y = df.label\n",
    "                            X = df[feature_list]\n",
    "                            y_pred = clf.predict(X)\n",
    "                            accuracy = np.round(metrics.accuracy_score(y, y_pred)* 100,2)\n",
    "                            f_score = np.round(metrics.f1_score(y, y_pred, average='micro')* 100,2)\n",
    "                            precision = np.round(metrics.precision_score(y, y_pred, average='weighted')* 100,2)\n",
    "                            recall = np.round(metrics.recall_score(y, y_pred, average='weighted')* 100,2) \n",
    "\n",
    "                            results.append(accuracy)\n",
    "                            total.append(results[-1])\n",
    "                            if file is not None:\n",
    "                                msg = \"{0},{1},{2},{3},{4},{5},{6}\\n\".format(env1,env2,train,combo,cc_algo,\n",
    "                                                                                t_limit,f_score)\n",
    "                                file.write(msg)\n",
    "#                             print(\"{0},{1},{2},{3},{4},{5}\".format(train, combo, accuracy, f_score, precision, recall))\n",
    "            \n",
    "                if verbose:\n",
    "                    print(model, train, np.round(np.mean(results), 2), np.round(np.std(results), 2), results)\n",
    "                output[cc_algo][f\"{env1} -> {env2}\"][\"Scores\"] = deepcopy(total)\n",
    "                output[cc_algo][f\"{env1} -> {env2}\"][\"Average\"] = np.mean(total)\n",
    "                output[cc_algo][f\"{env1} -> {env2}\"][\"Std Dev\"] = np.std(total)\n",
    "                try: output[cc_algo][f\"{env1} -> {env2}\"][\"Final Ensemble\"] = str(clf[1].show_models())\n",
    "                except Exception as e: print(e)\n",
    "                try: output[cc_algo][f\"{env1} -> {env2}\"][\"Leaderboard\"] = str(clf[1].leaderboard())\n",
    "                except Exception as e: print(e)\n",
    "\n",
    "    if verbose == False:\n",
    "        for cc in output:\n",
    "            for transfer in output[cc]:\n",
    "                for model in output[cc][transfer]:\n",
    "                    print('\\t', model, end='')\n",
    "                    print(\"\\tAverage:{0}\\n\\tStd Dev: {1}\\n\".format(output[cc][transfer][\"Average\"], output[cc][transfer][\"Std Dev\"]))\n",
    "    \n",
    "    return output"
   ]
  },
  {
   "cell_type": "markdown",
   "metadata": {},
   "source": [
    "# Before Transformation Applied"
   ]
  },
  {
   "cell_type": "code",
   "execution_count": 8,
   "metadata": {},
   "outputs": [],
   "source": [
    "data = {\n",
    "    \"chameleon\": {},\n",
    "    \"expanse\": {}\n",
    "}\n",
    "read_file(\"chameleon\", transform=False)\n",
    "read_file(\"expanse\", transform=False)"
   ]
  },
  {
   "cell_type": "markdown",
   "metadata": {},
   "source": [
    "### Chameleon"
   ]
  },
  {
   "cell_type": "code",
   "execution_count": null,
   "metadata": {},
   "outputs": [],
   "source": [
    "testbed = \"chameleon\"\n",
    "#feature_score(testbed, transform=False)"
   ]
  },
  {
   "cell_type": "markdown",
   "metadata": {},
   "source": [
    "### Expanse"
   ]
  },
  {
   "cell_type": "code",
   "execution_count": null,
   "metadata": {},
   "outputs": [],
   "source": [
    "testbed = \"expanse\"\n",
    "#feature_score(testbed, transform=False)"
   ]
  },
  {
   "cell_type": "markdown",
   "metadata": {},
   "source": [
    "## Same Network"
   ]
  },
  {
   "cell_type": "code",
   "execution_count": 9,
   "metadata": {},
   "outputs": [
    {
     "name": "stdout",
     "output_type": "stream",
     "text": [
      "expanse cubic\n",
      "\t AutoSklearnClassifier(memory_limit=4096, n_jobs=-1, time_left_for_this_task=30)\n",
      "\t\t b1000d60 [0.97 0.97 0.98]\n",
      "\t\t Average: 0.97, Std dev: 0.0\n",
      "\t AutoSklearn2Classifier(memory_limit=4096, n_jobs=-1, time_left_for_this_task=30)\n",
      "\t\t b1000d60 [0.97 0.97 0.98]\n",
      "\t\t Average: 0.97, Std dev: 0.0\n",
      "expanse htcp\n",
      "\t AutoSklearnClassifier(memory_limit=4096, n_jobs=-1, time_left_for_this_task=30)\n",
      "\t\t b1000d60 [0.93 0.94 0.97]\n",
      "\t\t Average: 0.95, Std dev: 0.02\n",
      "\t AutoSklearn2Classifier(memory_limit=4096, n_jobs=-1, time_left_for_this_task=30)\n",
      "\t\t b1000d60 [0.95 0.95 0.97]\n",
      "\t\t Average: 0.96, Std dev: 0.01\n",
      "expanse bbr\n",
      "\t AutoSklearnClassifier(memory_limit=4096, n_jobs=-1, time_left_for_this_task=30)\n",
      "\t\t b1000d60 [0.98 0.99 0.99]\n",
      "\t\t Average: 0.99, Std dev: 0.0\n",
      "\t AutoSklearn2Classifier(memory_limit=4096, n_jobs=-1, time_left_for_this_task=30)\n",
      "\t\t b1000d60 [0.99 0.99 0.99]\n",
      "\t\t Average: 0.99, Std dev: 0.0\n",
      "chameleon cubic\n",
      "\t AutoSklearnClassifier(memory_limit=4096, n_jobs=-1, time_left_for_this_task=30)\n",
      "\t\t b1000d35 [0.98 0.97 0.97]\n",
      "\t\t Average: 0.97, Std dev: 0.0\n",
      "\t AutoSklearn2Classifier(memory_limit=4096, n_jobs=-1, time_left_for_this_task=30)\n",
      "\t\t b1000d35 [0.98 0.98 0.96]\n",
      "\t\t Average: 0.97, Std dev: 0.01\n",
      "chameleon htcp\n",
      "\t AutoSklearnClassifier(memory_limit=4096, n_jobs=-1, time_left_for_this_task=30)\n",
      "\t\t b1000d35 [0.96 0.97 0.98]\n",
      "\t\t Average: 0.97, Std dev: 0.01\n",
      "\t AutoSklearn2Classifier(memory_limit=4096, n_jobs=-1, time_left_for_this_task=30)\n",
      "\t\t b1000d35 [0.98 0.98 0.99]\n",
      "\t\t Average: 0.98, Std dev: 0.0\n",
      "chameleon bbr\n",
      "\t AutoSklearnClassifier(memory_limit=4096, n_jobs=-1, time_left_for_this_task=30)\n",
      "\t\t b1000d35 [0.98 0.99 0.99]\n",
      "\t\t Average: 0.99, Std dev: 0.0\n",
      "\t AutoSklearn2Classifier(memory_limit=4096, n_jobs=-1, time_left_for_this_task=30)\n",
      "\t\t b1000d35 [0.99 0.99 1.  ]\n",
      "\t\t Average: 0.99, Std dev: 0.0\n"
     ]
    }
   ],
   "source": [
    "mySameNetworkNoTransformation = dict()\n",
    "for env in bws:\n",
    "    mySameNetworkNoTransformation[env] = dict()\n",
    "    for cc_algo in cc_algos:\n",
    "        mySameNetworkNoTransformation[env][cc_algo] = dict()\n",
    "        print(env, cc_algo)\n",
    "        for bw in bws[env]:\n",
    "            for rtt in rtts[env]:\n",
    "                train = \"b{0}d{1}\".format(bw,rtt)\n",
    "                mySameNetworkNoTransformation[env][cc_algo][train] = dict()\n",
    "                df = data[env][cc_algo][train].copy()\n",
    "                df = df[df.report_sec == 10]\n",
    "                y = df.label\n",
    "                X = df[feature_list]\n",
    "                for model in models:\n",
    "                    print('\\t', model)\n",
    "                    clf = make_pipeline(PowerTransformer(), model)\n",
    "                    cv_res = np.round(cross_val_score(clf, X, y, cv=3),2)\n",
    "                    mySameNetworkNoTransformation[env][cc_algo][train][str(model)] = {\"Accuracy\": np.mean(cv_res), \"Std Dev\": np.std(cv_res)}\n",
    "                            \n",
    "                    print(\"\\t\\t\", train, cv_res)\n",
    "                    print(\"\\t\\t Average: {0}, Std dev: {1}\".format(np.round(np.mean(cv_res), 2),\n",
    "                                                                np.round(np.std(cv_res), 2)))\n",
    "                      "
   ]
  },
  {
   "cell_type": "code",
   "execution_count": null,
   "metadata": {},
   "outputs": [],
   "source": []
  },
  {
   "cell_type": "code",
   "execution_count": 19,
   "metadata": {},
   "outputs": [],
   "source": [
    "copyResults = deepcopy(mySameNetworkNoTransformation)\n",
    "c2 = dict()\n",
    "for env in copyResults:\n",
    "  c2[env] = dict()\n",
    "  for cc_algo in copyResults[env]:\n",
    "    c2[env][cc_algo] = dict()\n",
    "    for train in copyResults[env][cc_algo]:\n",
    "      c2[env][cc_algo][train] = dict()\n",
    "      for model in copyResults[env][cc_algo][train]:\n",
    "        c2[env][cc_algo][train][str(model)] = copyResults[env][cc_algo][train][model]"
   ]
  },
  {
   "cell_type": "code",
   "execution_count": 10,
   "metadata": {},
   "outputs": [],
   "source": [
    "import json\n",
    "with open(\"Same Network No Transformation.json\", \"w\") as f:\n",
    "  f.write(json.dumps(mySameNetworkNoTransformation))"
   ]
  },
  {
   "cell_type": "markdown",
   "metadata": {},
   "source": [
    "## Transfer Learning "
   ]
  },
  {
   "cell_type": "markdown",
   "metadata": {},
   "source": [
    "### Expanse to Chameleon"
   ]
  },
  {
   "cell_type": "code",
   "execution_count": 9,
   "metadata": {},
   "outputs": [
    {
     "name": "stdout",
     "output_type": "stream",
     "text": [
      "CC Algorithms: cubic\tAutoSklearnClassifier(memory_limit=4096, n_jobs=-1, per_run_time_limit=12,\n",
      "                      time_left_for_this_task=30) b1000d60 35.72 0.0 [35.72]\n",
      "CC Algorithms: htcp\tAutoSklearnClassifier(memory_limit=4096, n_jobs=-1, per_run_time_limit=12,\n",
      "                      time_left_for_this_task=30) b1000d60 16.7 0.0 [16.7]\n",
      "CC Algorithms: bbr\tAutoSklearnClassifier(memory_limit=4096, n_jobs=-1, per_run_time_limit=12,\n",
      "                      time_left_for_this_task=30) b1000d60 60.15 0.0 [60.15]\n",
      "CC Algorithms: cubic\tAutoSklearn2Classifier(memory_limit=4096, metric=accuracy, n_jobs=-1,\n",
      "                       per_run_time_limit=12, time_left_for_this_task=30) b1000d60 40.31 0.0 [40.31]\n",
      "CC Algorithms: htcp\tAutoSklearn2Classifier(memory_limit=4096, metric=accuracy, n_jobs=-1,\n",
      "                       per_run_time_limit=12, time_left_for_this_task=30) b1000d60 56.85 0.0 [56.85]\n",
      "CC Algorithms: bbr\tAutoSklearn2Classifier(memory_limit=4096, metric=accuracy, n_jobs=-1,\n",
      "                       per_run_time_limit=12, time_left_for_this_task=30) b1000d60 57.63 0.0 [57.63]\n"
     ]
    }
   ],
   "source": [
    "expanseToChameleon = dict()\n",
    "for model in models:\n",
    "    #print(\"Repeat: {0}\".format(i+1))\n",
    "    expanseToChameleon[str(model)] = tl_evaluate(\"expanse\", \"chameleon\", model)"
   ]
  },
  {
   "cell_type": "code",
   "execution_count": 10,
   "metadata": {},
   "outputs": [],
   "source": [
    "import json\n",
    "with open(\"Expanse to Chameleon No Transformation.json\", \"w\") as f:\n",
    "  f.write(json.dumps(expanseToChameleon))"
   ]
  },
  {
   "cell_type": "markdown",
   "metadata": {},
   "source": [
    "### Chameleon to Expanse"
   ]
  },
  {
   "cell_type": "code",
   "execution_count": 11,
   "metadata": {},
   "outputs": [
    {
     "name": "stdout",
     "output_type": "stream",
     "text": [
      "CC Algorithms: cubic\tAutoSklearnClassifier(memory_limit=4096, n_jobs=-1, per_run_time_limit=12,\n",
      "                      time_left_for_this_task=30) b1000d35 55.59 0.0 [55.59]\n",
      "CC Algorithms: htcp\tAutoSklearnClassifier(memory_limit=4096, n_jobs=-1, per_run_time_limit=12,\n",
      "                      time_left_for_this_task=30) b1000d35 73.93 0.0 [73.93]\n",
      "CC Algorithms: bbr\tAutoSklearnClassifier(memory_limit=4096, n_jobs=-1, per_run_time_limit=12,\n",
      "                      time_left_for_this_task=30) b1000d35 63.07 0.0 [63.07]\n",
      "CC Algorithms: cubic\tAutoSklearn2Classifier(memory_limit=4096, metric=accuracy, n_jobs=-1,\n",
      "                       per_run_time_limit=12, time_left_for_this_task=30) b1000d35 54.67 0.0 [54.67]\n",
      "CC Algorithms: htcp\tAutoSklearn2Classifier(memory_limit=4096, metric=accuracy, n_jobs=-1,\n",
      "                       per_run_time_limit=12, time_left_for_this_task=30) b1000d35 57.52 0.0 [57.52]\n",
      "CC Algorithms: bbr\tAutoSklearn2Classifier(memory_limit=4096, metric=accuracy, n_jobs=-1,\n",
      "                       per_run_time_limit=12, time_left_for_this_task=30) b1000d35 61.85 0.0 [61.85]\n"
     ]
    }
   ],
   "source": [
    "chameleonToExpanse = dict()\n",
    "for model in models:\n",
    "    #print(\"Repeat: {0}\".format(i+1))\n",
    "    chameleonToExpanse[str(model)] = tl_evaluate(\"chameleon\", \"expanse\", model)"
   ]
  },
  {
   "cell_type": "code",
   "execution_count": 12,
   "metadata": {},
   "outputs": [],
   "source": [
    "import json\n",
    "with open(\"Chameleon to Expanse No Transformation.json\", \"w\") as f:\n",
    "  f.write(json.dumps(chameleonToExpanse))"
   ]
  },
  {
   "cell_type": "markdown",
   "metadata": {},
   "source": [
    "# After Transformation Applied"
   ]
  },
  {
   "cell_type": "code",
   "execution_count": 13,
   "metadata": {},
   "outputs": [],
   "source": [
    "data = {\n",
    "    \"chameleon\": {},\n",
    "    \"expanse\": {}\n",
    "}\n",
    "\n",
    "read_file(\"chameleon\", transform=True)\n",
    "read_file(\"expanse\", transform=True)"
   ]
  },
  {
   "cell_type": "markdown",
   "metadata": {},
   "source": [
    "### Chameleon"
   ]
  },
  {
   "cell_type": "code",
   "execution_count": null,
   "metadata": {},
   "outputs": [],
   "source": [
    "testbed = \"chameleon\"\n",
    "#feature_score(testbed, transform=True)"
   ]
  },
  {
   "cell_type": "markdown",
   "metadata": {},
   "source": [
    "### Expanse"
   ]
  },
  {
   "cell_type": "code",
   "execution_count": null,
   "metadata": {},
   "outputs": [],
   "source": [
    "testbed = \"expanse\"\n",
    "#feature_score(testbed, transform=True)"
   ]
  },
  {
   "cell_type": "markdown",
   "metadata": {},
   "source": [
    "### Same Network"
   ]
  },
  {
   "cell_type": "code",
   "execution_count": 16,
   "metadata": {},
   "outputs": [
    {
     "name": "stdout",
     "output_type": "stream",
     "text": [
      "expanse cubic\n",
      "\t RandomForestClassifier()\n",
      "\t\t b1000d60 [0.89 0.94 0.94 0.89 0.93 0.91 0.92 0.92 0.93 0.94]\n",
      "\t\t Average: 0.92, Std dev: 0.02\n",
      "\t GradientBoostingClassifier()\n",
      "\t\t b1000d60 [0.91 0.94 0.94 0.89 0.91 0.9  0.91 0.93 0.94 0.94]\n",
      "\t\t Average: 0.92, Std dev: 0.02\n",
      "\t DecisionTreeClassifier()\n",
      "\t\t b1000d60 [0.89 0.9  0.92 0.88 0.9  0.87 0.88 0.89 0.91 0.92]\n",
      "\t\t Average: 0.9, Std dev: 0.02\n",
      "\t LinearSVC()\n",
      "\t\t b1000d60 [0.89 0.9  0.89 0.85 0.86 0.88 0.91 0.89 0.92 0.92]\n",
      "\t\t Average: 0.89, Std dev: 0.02\n",
      "\t MLPClassifier()\n",
      "\t\t b1000d60 [0.9  0.93 0.91 0.87 0.89 0.89 0.89 0.91 0.92 0.92]\n",
      "\t\t Average: 0.9, Std dev: 0.02\n",
      "expanse htcp\n",
      "\t RandomForestClassifier()\n",
      "\t\t b1000d60 [0.92 0.93 0.94 0.92 0.94 0.96 0.94 0.97 0.97 0.96]\n",
      "\t\t Average: 0.94, Std dev: 0.02\n",
      "\t GradientBoostingClassifier()\n",
      "\t\t b1000d60 [0.93 0.94 0.96 0.94 0.94 0.96 0.96 0.99 0.97 0.96]\n",
      "\t\t Average: 0.96, Std dev: 0.02\n",
      "\t DecisionTreeClassifier()\n",
      "\t\t b1000d60 [0.93 0.91 0.94 0.93 0.93 0.96 0.95 0.96 0.95 0.96]\n",
      "\t\t Average: 0.94, Std dev: 0.02\n",
      "\t LinearSVC()\n",
      "\t\t b1000d60 [0.91 0.91 0.91 0.87 0.86 0.93 0.9  0.9  0.93 0.9 ]\n",
      "\t\t Average: 0.9, Std dev: 0.02\n",
      "\t MLPClassifier()\n",
      "\t\t b1000d60 [0.93 0.9  0.93 0.91 0.9  0.92 0.91 0.92 0.91 0.9 ]\n",
      "\t\t Average: 0.91, Std dev: 0.01\n",
      "expanse bbr\n",
      "\t RandomForestClassifier()\n",
      "\t\t b1000d60 [0.97 0.98 0.98 0.96 0.97 0.99 0.98 0.99 0.98 0.98]\n",
      "\t\t Average: 0.98, Std dev: 0.01\n",
      "\t GradientBoostingClassifier()\n",
      "\t\t b1000d60 [0.97 1.   0.98 0.97 0.97 0.99 0.98 0.99 0.98 0.98]\n",
      "\t\t Average: 0.98, Std dev: 0.01\n",
      "\t DecisionTreeClassifier()\n",
      "\t\t b1000d60 [0.97 0.96 0.97 0.96 0.97 0.97 0.96 0.99 0.97 0.97]\n",
      "\t\t Average: 0.97, Std dev: 0.01\n",
      "\t LinearSVC()\n",
      "\t\t b1000d60 [0.95 0.97 0.95 0.91 0.9  0.97 0.98 0.97 0.98 0.97]\n",
      "\t\t Average: 0.96, Std dev: 0.03\n",
      "\t MLPClassifier()\n",
      "\t\t b1000d60 [0.97 0.98 0.96 0.93 0.92 0.99 0.99 0.99 0.96 0.98]\n",
      "\t\t Average: 0.97, Std dev: 0.02\n",
      "chameleon cubic\n",
      "\t RandomForestClassifier()\n",
      "\t\t b1000d35 [0.92 0.93 0.95 0.95 0.92 0.95 0.95 0.95 0.94 0.94]\n",
      "\t\t Average: 0.94, Std dev: 0.01\n",
      "\t GradientBoostingClassifier()\n",
      "\t\t b1000d35 [0.94 0.94 0.94 0.94 0.92 0.94 0.96 0.94 0.96 0.94]\n",
      "\t\t Average: 0.94, Std dev: 0.01\n",
      "\t DecisionTreeClassifier()\n",
      "\t\t b1000d35 [0.89 0.9  0.94 0.94 0.91 0.94 0.96 0.91 0.94 0.94]\n",
      "\t\t Average: 0.93, Std dev: 0.02\n",
      "\t LinearSVC()\n",
      "\t\t b1000d35 [0.88 0.91 0.88 0.87 0.87 0.87 0.85 0.89 0.91 0.88]\n",
      "\t\t Average: 0.88, Std dev: 0.02\n",
      "\t MLPClassifier()\n",
      "\t\t b1000d35 [0.94 0.92 0.93 0.94 0.91 0.92 0.88 0.91 0.91 0.89]\n",
      "\t\t Average: 0.92, Std dev: 0.02\n",
      "chameleon htcp\n",
      "\t RandomForestClassifier()\n",
      "\t\t b1000d35 [0.89 0.95 0.91 0.95 0.96 0.96 0.93 0.93 0.92 0.95]\n",
      "\t\t Average: 0.94, Std dev: 0.02\n",
      "\t GradientBoostingClassifier()\n",
      "\t\t b1000d35 [0.9  0.94 0.93 0.95 0.94 0.96 0.92 0.94 0.93 0.95]\n",
      "\t\t Average: 0.94, Std dev: 0.02\n",
      "\t DecisionTreeClassifier()\n",
      "\t\t b1000d35 [0.89 0.92 0.91 0.93 0.93 0.95 0.93 0.94 0.9  0.91]\n",
      "\t\t Average: 0.92, Std dev: 0.02\n",
      "\t LinearSVC()\n",
      "\t\t b1000d35 [0.89 0.93 0.87 0.87 0.86 0.87 0.86 0.9  0.9  0.9 ]\n",
      "\t\t Average: 0.89, Std dev: 0.02\n",
      "\t MLPClassifier()\n",
      "\t\t b1000d35 [0.93 0.93 0.91 0.92 0.94 0.92 0.88 0.91 0.91 0.91]\n",
      "\t\t Average: 0.92, Std dev: 0.02\n",
      "chameleon bbr\n",
      "\t RandomForestClassifier()\n",
      "\t\t b1000d35 [0.98 1.   1.   0.99 0.97 0.99 1.   1.   0.99 0.99]\n",
      "\t\t Average: 0.99, Std dev: 0.01\n",
      "\t GradientBoostingClassifier()\n",
      "\t\t b1000d35 [0.98 1.   1.   0.98 0.98 0.99 0.99 1.   0.99 0.99]\n",
      "\t\t Average: 0.99, Std dev: 0.01\n",
      "\t DecisionTreeClassifier()\n",
      "\t\t b1000d35 [0.98 1.   0.99 0.98 0.97 0.98 0.99 1.   0.99 0.99]\n",
      "\t\t Average: 0.99, Std dev: 0.01\n",
      "\t LinearSVC()\n",
      "\t\t b1000d35 [0.98 0.99 0.98 0.96 0.97 1.   0.99 0.99 0.99 0.98]\n",
      "\t\t Average: 0.98, Std dev: 0.01\n",
      "\t MLPClassifier()\n",
      "\t\t b1000d35 [0.99 1.   1.   0.98 0.98 1.   0.99 0.99 0.99 0.99]\n",
      "\t\t Average: 0.99, Std dev: 0.01\n"
     ]
    }
   ],
   "source": [
    "mySameNetworkWithTransformation = dict()\n",
    "for env in bws:\n",
    "    mySameNetworkWithTransformation[env] = dict()\n",
    "    for cc_algo in cc_algos:\n",
    "        mySameNetworkWithTransformation[env][cc_algo] = dict()\n",
    "        print(env, cc_algo)\n",
    "        for bw in bws[env]:\n",
    "            for rtt in rtts[env]:\n",
    "                train = \"b{0}d{1}\".format(bw,rtt)\n",
    "                mySameNetworkWithTransformation[env][cc_algo][train] = dict()\n",
    "                df = data[env][cc_algo][train].copy()\n",
    "                df = df[df.report_sec == 10]\n",
    "                y = df.label\n",
    "                X = df[feature_list]\n",
    "                for model in models:\n",
    "                    print('\\t', model)\n",
    "                    clf = make_pipeline(PowerTransformer(), model)\n",
    "                    cv_res = np.round(cross_val_score(clf, X, y, cv=3),2)\n",
    "                    mySameNetworkWithTransformation[env][cc_algo][train][str(model)] = np.mean(cv_res)\n",
    "                            \n",
    "                    print(\"\\t\\t\", train, cv_res)\n",
    "                    print(\"\\t\\t Average: {0}, Std dev: {1}\".format(np.round(np.mean(cv_res), 2),\n",
    "                                                                np.round(np.std(cv_res), 2)))\n",
    "                      "
   ]
  },
  {
   "cell_type": "code",
   "execution_count": 19,
   "metadata": {},
   "outputs": [],
   "source": [
    "import json\n",
    "with open(\"Same Network With Transformation.json\", \"w\") as f:\n",
    "  f.write(json.dumps(mySameNetworkWithTransformation))"
   ]
  },
  {
   "cell_type": "markdown",
   "metadata": {},
   "source": [
    "### Chameleon to Expanse"
   ]
  },
  {
   "cell_type": "code",
   "execution_count": 14,
   "metadata": {},
   "outputs": [
    {
     "name": "stdout",
     "output_type": "stream",
     "text": [
      "CC Algorithms: cubic\tAutoSklearnClassifier(memory_limit=4096, n_jobs=-1, per_run_time_limit=12,\n",
      "                      time_left_for_this_task=30) b1000d35 83.52 0.0 [83.52]\n",
      "CC Algorithms: htcp\tAutoSklearnClassifier(memory_limit=4096, n_jobs=-1, per_run_time_limit=12,\n",
      "                      time_left_for_this_task=30) b1000d35 84.81 0.0 [84.81]\n",
      "CC Algorithms: bbr\tAutoSklearnClassifier(memory_limit=4096, n_jobs=-1, per_run_time_limit=12,\n",
      "                      time_left_for_this_task=30) b1000d35 94.41 0.0 [94.41]\n",
      "CC Algorithms: cubic\tAutoSklearn2Classifier(memory_limit=4096, metric=accuracy, n_jobs=-1,\n",
      "                       per_run_time_limit=12, time_left_for_this_task=30) b1000d35 80.11 0.0 [80.11]\n",
      "CC Algorithms: htcp\tAutoSklearn2Classifier(memory_limit=4096, metric=accuracy, n_jobs=-1,\n",
      "                       per_run_time_limit=12, time_left_for_this_task=30) b1000d35 85.93 0.0 [85.93]\n",
      "CC Algorithms: bbr\tAutoSklearn2Classifier(memory_limit=4096, metric=accuracy, n_jobs=-1,\n",
      "                       per_run_time_limit=12, time_left_for_this_task=30) b1000d35 94.74 0.0 [94.74]\n"
     ]
    }
   ],
   "source": [
    "chameleonToExpanse2 = dict()\n",
    "for model in models:\n",
    "    #print(\"Repeat: {0}\".format(i+1))\n",
    "    chameleonToExpanse2[str(model)] = tl_evaluate(\"chameleon\", \"expanse\", model)"
   ]
  },
  {
   "cell_type": "code",
   "execution_count": 15,
   "metadata": {},
   "outputs": [],
   "source": [
    "import json\n",
    "with open(\"Chameleon to Expanse With Transformation.json\", \"w\") as f:\n",
    "  f.write(json.dumps(chameleonToExpanse2))"
   ]
  },
  {
   "cell_type": "markdown",
   "metadata": {},
   "source": [
    "### Expanse to Chameleon"
   ]
  },
  {
   "cell_type": "code",
   "execution_count": 16,
   "metadata": {},
   "outputs": [
    {
     "name": "stdout",
     "output_type": "stream",
     "text": [
      "CC Algorithms: cubic\tAutoSklearnClassifier(memory_limit=4096, n_jobs=-1, per_run_time_limit=12,\n",
      "                      time_left_for_this_task=30) b1000d60 85.33 0.0 [85.33]\n",
      "CC Algorithms: htcp\tAutoSklearnClassifier(memory_limit=4096, n_jobs=-1, per_run_time_limit=12,\n",
      "                      time_left_for_this_task=30) b1000d60 67.37 0.0 [67.37]\n",
      "CC Algorithms: bbr\tAutoSklearnClassifier(memory_limit=4096, n_jobs=-1, per_run_time_limit=12,\n",
      "                      time_left_for_this_task=30) b1000d60 93.52 0.0 [93.52]\n",
      "CC Algorithms: cubic\tAutoSklearn2Classifier(memory_limit=4096, metric=accuracy, n_jobs=-1,\n",
      "                       per_run_time_limit=12, time_left_for_this_task=30) b1000d60 83.92 0.0 [83.92]\n",
      "CC Algorithms: htcp\tAutoSklearn2Classifier(memory_limit=4096, metric=accuracy, n_jobs=-1,\n",
      "                       per_run_time_limit=12, time_left_for_this_task=30) b1000d60 70.22 0.0 [70.22]\n",
      "CC Algorithms: bbr\tAutoSklearn2Classifier(memory_limit=4096, metric=accuracy, n_jobs=-1,\n",
      "                       per_run_time_limit=12, time_left_for_this_task=30) b1000d60 80.78 0.0 [80.78]\n"
     ]
    }
   ],
   "source": [
    "expanseToChameleon2 = dict()\n",
    "for model in models:\n",
    "    #print(\"Repeat: {0}\".format(i+1))\n",
    "    expanseToChameleon2[str(model)] = tl_evaluate(\"expanse\", \"chameleon\", model)"
   ]
  },
  {
   "cell_type": "code",
   "execution_count": 17,
   "metadata": {},
   "outputs": [],
   "source": [
    "import json\n",
    "with open(\"Expanse to Chameleon With Transformation.json\", \"w\") as f:\n",
    "  f.write(json.dumps(expanseToChameleon2))"
   ]
  }
 ],
 "metadata": {
  "kernelspec": {
   "display_name": "Python 3",
   "language": "python",
   "name": "python3"
  },
  "language_info": {
   "codemirror_mode": {
    "name": "ipython",
    "version": 3
   },
   "file_extension": ".py",
   "mimetype": "text/x-python",
   "name": "python",
   "nbconvert_exporter": "python",
   "pygments_lexer": "ipython3",
   "version": "3.8.10"
  }
 },
 "nbformat": 4,
 "nbformat_minor": 4
}
