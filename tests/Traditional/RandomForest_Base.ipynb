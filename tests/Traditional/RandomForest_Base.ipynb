{
 "cells": [
  {
   "cell_type": "code",
   "execution_count": 4,
   "metadata": {},
   "outputs": [
    {
     "name": "stdout",
     "output_type": "stream",
     "text": [
      "[[1.0000e+01 4.9580e+03 2.8000e+01 ... 5.0000e+00 1.4480e+04 6.4088e+04]\n",
      " [1.0000e+01 5.7570e+03 2.7000e+01 ... 5.3000e+00 1.4480e+04 6.4088e+04]\n",
      " [1.0000e+01 4.5050e+03 3.1000e+01 ... 7.3000e+00 1.4480e+04 6.4088e+04]\n",
      " ...\n",
      " [1.0000e+01 6.6897e+04 0.0000e+00 ... 9.6100e+01 1.4480e+04 6.4088e+04]\n",
      " [1.0000e+01 6.6001e+04 0.0000e+00 ... 9.6100e+01 1.4480e+04 6.4088e+04]\n",
      " [1.0000e+01 6.5989e+04 0.0000e+00 ... 9.6100e+01 1.4480e+04 6.4088e+04]]\n",
      "[4. 4. 4. ... 6. 6. 6.]\n"
     ]
    }
   ],
   "source": [
    "import sys\n",
    "sys.path.append(\"../../\")\n",
    "\n",
    "import modules\n",
    "import numpy as np\n",
    "from sklearn import model_selection, ensemble, metrics\n",
    "\n",
    "mydata = modules.NT(\"../../data/b100d30.csv\")\n",
    "x_train, x_test, y_train, y_test = model_selection.train_test_split(mydata.data, mydata.target, test_size=0.4, random_state=508)"
   ]
  },
  {
   "cell_type": "code",
   "execution_count": 5,
   "metadata": {},
   "outputs": [
    {
     "data": {
      "text/plain": [
       "RandomForestClassifier()"
      ]
     },
     "execution_count": 5,
     "metadata": {},
     "output_type": "execute_result"
    }
   ],
   "source": [
    "clf = ensemble.RandomForestClassifier()\n",
    "clf.fit(x_train, y_train)"
   ]
  },
  {
   "cell_type": "code",
   "execution_count": 6,
   "metadata": {},
   "outputs": [
    {
     "name": "stdout",
     "output_type": "stream",
     "text": [
      "0.987037037037037\n",
      "[3. 5. 2. ... 4. 5. 3.] [3. 5. 2. ... 4. 5. 3.]\n"
     ]
    }
   ],
   "source": [
    "y_pred = clf.predict(x_test)\n",
    "print(metrics.accuracy_score(y_test, y_pred))\n",
    "print(y_pred, y_test)"
   ]
  },
  {
   "cell_type": "markdown",
   "metadata": {},
   "source": [
    "4:02"
   ]
  }
 ],
 "metadata": {
  "interpreter": {
   "hash": "aee8b7b246df8f9039afb4144a1f6fd8d2ca17a180786b69acc140d282b71a49"
  },
  "kernelspec": {
   "display_name": "Python 3.9.0 64-bit",
   "language": "python",
   "name": "python3"
  },
  "language_info": {
   "codemirror_mode": {
    "name": "ipython",
    "version": 3
   },
   "file_extension": ".py",
   "mimetype": "text/x-python",
   "name": "python",
   "nbconvert_exporter": "python",
   "pygments_lexer": "ipython3",
   "version": "3.9.0"
  },
  "orig_nbformat": 4
 },
 "nbformat": 4,
 "nbformat_minor": 2
}
