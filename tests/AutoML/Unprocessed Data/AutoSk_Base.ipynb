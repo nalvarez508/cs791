{
 "cells": [
  {
   "cell_type": "markdown",
   "metadata": {},
   "source": [
    "# Auto-Sklearn Classifier (3GB RAM)\n",
    "No data preprocessing."
   ]
  },
  {
   "cell_type": "code",
   "execution_count": 3,
   "metadata": {},
   "outputs": [],
   "source": [
    "import sys\n",
    "sys.path.append(\"../../../\")\n",
    "\n",
    "import modules\n",
    "import numpy as np\n",
    "from sklearn import model_selection, metrics\n",
    "from autosklearn.classification import AutoSklearnClassifier\n",
    "\n",
    "mydata = modules.NT(\"../../../data/b100d30.csv\")\n",
    "x_train, x_test, y_train, y_test = model_selection.train_test_split(mydata.data, mydata.target, test_size=0.4, random_state=508)"
   ]
  },
  {
   "cell_type": "code",
   "execution_count": 7,
   "metadata": {},
   "outputs": [
    {
     "name": "stderr",
     "output_type": "stream",
     "text": [
      "/home/nick/.local/lib/python3.8/site-packages/distributed/node.py:181: UserWarning: Port 8787 is already in use.\n",
      "Perhaps you already have a cluster running?\n",
      "Hosting the HTTP server on port 36477 instead\n",
      "  warnings.warn(\n",
      "/home/nick/.local/lib/python3.8/site-packages/autosklearn/metalearning/metalearning/meta_base.py:68: FutureWarning: The frame.append method is deprecated and will be removed from pandas in a future version. Use pandas.concat instead.\n",
      "  self.metafeatures = self.metafeatures.append(metafeatures)\n",
      "/home/nick/.local/lib/python3.8/site-packages/autosklearn/metalearning/metalearning/meta_base.py:72: FutureWarning: The frame.append method is deprecated and will be removed from pandas in a future version. Use pandas.concat instead.\n",
      "  self.algorithm_runs[metric].append(runs)\n"
     ]
    },
    {
     "name": "stdout",
     "output_type": "stream",
     "text": [
      "[WARNING] [2022-03-06 20:56:02,373:Client-AutoMLSMBO(1)::d696b349-9dd2-11ec-9052-8591ea0dde6e] Configuration 197 not found\n",
      "[WARNING] [2022-03-06 20:56:02,373:Client-AutoMLSMBO(1)::d696b349-9dd2-11ec-9052-8591ea0dde6e] Configuration 160 not found\n",
      "[WARNING] [2022-03-06 20:56:02,373:Client-AutoMLSMBO(1)::d696b349-9dd2-11ec-9052-8591ea0dde6e] Configuration 129 not found\n",
      "[WARNING] [2022-03-06 20:56:02,374:Client-AutoMLSMBO(1)::d696b349-9dd2-11ec-9052-8591ea0dde6e] Configuration 124 not found\n",
      "[WARNING] [2022-03-06 20:56:02,374:Client-AutoMLSMBO(1)::d696b349-9dd2-11ec-9052-8591ea0dde6e] Configuration 555 not found\n",
      "[WARNING] [2022-03-06 20:56:02,374:Client-AutoMLSMBO(1)::d696b349-9dd2-11ec-9052-8591ea0dde6e] Configuration 707 not found\n",
      "[WARNING] [2022-03-06 20:56:02,374:Client-AutoMLSMBO(1)::d696b349-9dd2-11ec-9052-8591ea0dde6e] Configuration 352 not found\n",
      "[WARNING] [2022-03-06 20:56:02,374:Client-AutoMLSMBO(1)::d696b349-9dd2-11ec-9052-8591ea0dde6e] Configuration 83 not found\n",
      "[WARNING] [2022-03-06 20:56:02,374:Client-AutoMLSMBO(1)::d696b349-9dd2-11ec-9052-8591ea0dde6e] Configuration 595 not found\n",
      "[WARNING] [2022-03-06 20:56:02,374:Client-AutoMLSMBO(1)::d696b349-9dd2-11ec-9052-8591ea0dde6e] Configuration 434 not found\n",
      "[WARNING] [2022-03-06 20:56:02,374:Client-AutoMLSMBO(1)::d696b349-9dd2-11ec-9052-8591ea0dde6e] Configuration 615 not found\n",
      "[WARNING] [2022-03-06 20:56:02,374:Client-AutoMLSMBO(1)::d696b349-9dd2-11ec-9052-8591ea0dde6e] Configuration 97 not found\n",
      "[WARNING] [2022-03-06 20:56:02,374:Client-AutoMLSMBO(1)::d696b349-9dd2-11ec-9052-8591ea0dde6e] Configuration 571 not found\n",
      "[WARNING] [2022-03-06 20:56:02,374:Client-AutoMLSMBO(1)::d696b349-9dd2-11ec-9052-8591ea0dde6e] Configuration 470 not found\n",
      "[WARNING] [2022-03-06 20:56:02,374:Client-AutoMLSMBO(1)::d696b349-9dd2-11ec-9052-8591ea0dde6e] Configuration 48 not found\n",
      "[WARNING] [2022-03-06 20:56:02,374:Client-AutoMLSMBO(1)::d696b349-9dd2-11ec-9052-8591ea0dde6e] Configuration 521 not found\n",
      "[WARNING] [2022-03-06 20:56:02,374:Client-AutoMLSMBO(1)::d696b349-9dd2-11ec-9052-8591ea0dde6e] Configuration 112 not found\n",
      "[WARNING] [2022-03-06 20:56:02,375:Client-AutoMLSMBO(1)::d696b349-9dd2-11ec-9052-8591ea0dde6e] Configuration 647 not found\n",
      "[WARNING] [2022-03-06 20:56:02,375:Client-AutoMLSMBO(1)::d696b349-9dd2-11ec-9052-8591ea0dde6e] Configuration 282 not found\n",
      "[WARNING] [2022-03-06 20:56:02,375:Client-AutoMLSMBO(1)::d696b349-9dd2-11ec-9052-8591ea0dde6e] Configuration 237 not found\n",
      "[WARNING] [2022-03-06 20:56:02,375:Client-AutoMLSMBO(1)::d696b349-9dd2-11ec-9052-8591ea0dde6e] Configuration 315 not found\n",
      "[WARNING] [2022-03-06 20:56:02,375:Client-AutoMLSMBO(1)::d696b349-9dd2-11ec-9052-8591ea0dde6e] Configuration 193 not found\n",
      "[WARNING] [2022-03-06 20:56:02,375:Client-AutoMLSMBO(1)::d696b349-9dd2-11ec-9052-8591ea0dde6e] Configuration 494 not found\n",
      "[WARNING] [2022-03-06 20:56:02,375:Client-AutoMLSMBO(1)::d696b349-9dd2-11ec-9052-8591ea0dde6e] Configuration 17 not found\n",
      "[WARNING] [2022-03-06 20:56:02,375:Client-AutoMLSMBO(1)::d696b349-9dd2-11ec-9052-8591ea0dde6e] Configuration 680 not found\n",
      "[WARNING] [2022-03-06 20:56:02,375:Client-AutoMLSMBO(1)::d696b349-9dd2-11ec-9052-8591ea0dde6e] Configuration 14 not found\n",
      "[WARNING] [2022-03-06 20:56:02,375:Client-AutoMLSMBO(1)::d696b349-9dd2-11ec-9052-8591ea0dde6e] Configuration 613 not found\n",
      "[WARNING] [2022-03-06 20:56:02,375:Client-AutoMLSMBO(1)::d696b349-9dd2-11ec-9052-8591ea0dde6e] Configuration 485 not found\n",
      "[WARNING] [2022-03-06 20:56:02,376:Client-AutoMLSMBO(1)::d696b349-9dd2-11ec-9052-8591ea0dde6e] Configuration 56 not found\n",
      "[WARNING] [2022-03-06 20:56:02,376:Client-AutoMLSMBO(1)::d696b349-9dd2-11ec-9052-8591ea0dde6e] Configuration 277 not found\n",
      "[WARNING] [2022-03-06 20:56:02,376:Client-AutoMLSMBO(1)::d696b349-9dd2-11ec-9052-8591ea0dde6e] Configuration 88 not found\n",
      "[WARNING] [2022-03-06 20:56:02,376:Client-AutoMLSMBO(1)::d696b349-9dd2-11ec-9052-8591ea0dde6e] Configuration 414 not found\n",
      "[WARNING] [2022-03-06 20:56:02,376:Client-AutoMLSMBO(1)::d696b349-9dd2-11ec-9052-8591ea0dde6e] Configuration 579 not found\n",
      "[WARNING] [2022-03-06 20:56:02,376:Client-AutoMLSMBO(1)::d696b349-9dd2-11ec-9052-8591ea0dde6e] Configuration 288 not found\n",
      "[WARNING] [2022-03-06 20:56:02,377:Client-AutoMLSMBO(1)::d696b349-9dd2-11ec-9052-8591ea0dde6e] Configuration 211 not found\n",
      "[WARNING] [2022-03-06 20:56:02,377:Client-AutoMLSMBO(1)::d696b349-9dd2-11ec-9052-8591ea0dde6e] Configuration 460 not found\n",
      "[WARNING] [2022-03-06 20:56:02,377:Client-AutoMLSMBO(1)::d696b349-9dd2-11ec-9052-8591ea0dde6e] Configuration 585 not found\n",
      "[WARNING] [2022-03-06 20:56:02,377:Client-AutoMLSMBO(1)::d696b349-9dd2-11ec-9052-8591ea0dde6e] Configuration 99 not found\n",
      "[WARNING] [2022-03-06 20:56:02,377:Client-AutoMLSMBO(1)::d696b349-9dd2-11ec-9052-8591ea0dde6e] Configuration 473 not found\n",
      "[WARNING] [2022-03-06 20:56:02,377:Client-AutoMLSMBO(1)::d696b349-9dd2-11ec-9052-8591ea0dde6e] Configuration 329 not found\n",
      "[WARNING] [2022-03-06 20:56:02,377:Client-AutoMLSMBO(1)::d696b349-9dd2-11ec-9052-8591ea0dde6e] Configuration 162 not found\n",
      "[WARNING] [2022-03-06 20:56:02,377:Client-AutoMLSMBO(1)::d696b349-9dd2-11ec-9052-8591ea0dde6e] Configuration 222 not found\n",
      "[WARNING] [2022-03-06 20:56:02,377:Client-AutoMLSMBO(1)::d696b349-9dd2-11ec-9052-8591ea0dde6e] Configuration 257 not found\n",
      "[WARNING] [2022-03-06 20:56:02,377:Client-AutoMLSMBO(1)::d696b349-9dd2-11ec-9052-8591ea0dde6e] Configuration 444 not found\n",
      "[WARNING] [2022-03-06 20:56:02,377:Client-AutoMLSMBO(1)::d696b349-9dd2-11ec-9052-8591ea0dde6e] Configuration 61 not found\n",
      "[WARNING] [2022-03-06 20:56:02,377:Client-AutoMLSMBO(1)::d696b349-9dd2-11ec-9052-8591ea0dde6e] Configuration 332 not found\n",
      "[WARNING] [2022-03-06 20:56:02,377:Client-AutoMLSMBO(1)::d696b349-9dd2-11ec-9052-8591ea0dde6e] Configuration 230 not found\n",
      "[WARNING] [2022-03-06 20:56:02,377:Client-AutoMLSMBO(1)::d696b349-9dd2-11ec-9052-8591ea0dde6e] Configuration 532 not found\n",
      "[WARNING] [2022-03-06 20:56:02,378:Client-AutoMLSMBO(1)::d696b349-9dd2-11ec-9052-8591ea0dde6e] Configuration 454 not found\n",
      "[WARNING] [2022-03-06 20:56:02,378:Client-AutoMLSMBO(1)::d696b349-9dd2-11ec-9052-8591ea0dde6e] Configuration 149 not found\n",
      "[WARNING] [2022-03-06 20:56:02,378:Client-AutoMLSMBO(1)::d696b349-9dd2-11ec-9052-8591ea0dde6e] Configuration 590 not found\n",
      "[WARNING] [2022-03-06 20:56:02,378:Client-AutoMLSMBO(1)::d696b349-9dd2-11ec-9052-8591ea0dde6e] Configuration 345 not found\n",
      "[WARNING] [2022-03-06 20:56:02,378:Client-AutoMLSMBO(1)::d696b349-9dd2-11ec-9052-8591ea0dde6e] Configuration 358 not found\n",
      "[WARNING] [2022-03-06 20:56:02,378:Client-AutoMLSMBO(1)::d696b349-9dd2-11ec-9052-8591ea0dde6e] Configuration 173 not found\n",
      "[WARNING] [2022-03-06 20:56:02,378:Client-AutoMLSMBO(1)::d696b349-9dd2-11ec-9052-8591ea0dde6e] Configuration 347 not found\n",
      "[WARNING] [2022-03-06 20:56:02,378:Client-AutoMLSMBO(1)::d696b349-9dd2-11ec-9052-8591ea0dde6e] Configuration 560 not found\n",
      "[WARNING] [2022-03-06 20:56:02,378:Client-AutoMLSMBO(1)::d696b349-9dd2-11ec-9052-8591ea0dde6e] Configuration 184 not found\n",
      "[WARNING] [2022-03-06 20:56:02,378:Client-AutoMLSMBO(1)::d696b349-9dd2-11ec-9052-8591ea0dde6e] Configuration 492 not found\n",
      "[WARNING] [2022-03-06 20:56:02,378:Client-AutoMLSMBO(1)::d696b349-9dd2-11ec-9052-8591ea0dde6e] Configuration 22 not found\n",
      "[WARNING] [2022-03-06 20:56:02,378:Client-AutoMLSMBO(1)::d696b349-9dd2-11ec-9052-8591ea0dde6e] Configuration 702 not found\n",
      "[WARNING] [2022-03-06 20:56:02,379:Client-AutoMLSMBO(1)::d696b349-9dd2-11ec-9052-8591ea0dde6e] Configuration 138 not found\n",
      "[WARNING] [2022-03-06 20:56:02,379:Client-AutoMLSMBO(1)::d696b349-9dd2-11ec-9052-8591ea0dde6e] Configuration 663 not found\n",
      "[WARNING] [2022-03-06 20:56:02,379:Client-AutoMLSMBO(1)::d696b349-9dd2-11ec-9052-8591ea0dde6e] Configuration 543 not found\n",
      "[WARNING] [2022-03-06 20:56:02,383:Client-AutoMLSMBO(1)::d696b349-9dd2-11ec-9052-8591ea0dde6e] Configuration 7 not found\n",
      "[WARNING] [2022-03-06 20:56:02,383:Client-AutoMLSMBO(1)::d696b349-9dd2-11ec-9052-8591ea0dde6e] Configuration 188 not found\n",
      "[WARNING] [2022-03-06 20:56:02,384:Client-AutoMLSMBO(1)::d696b349-9dd2-11ec-9052-8591ea0dde6e] Configuration 386 not found\n",
      "[WARNING] [2022-03-06 20:56:02,384:Client-AutoMLSMBO(1)::d696b349-9dd2-11ec-9052-8591ea0dde6e] Configuration 440 not found\n",
      "[WARNING] [2022-03-06 20:56:02,384:Client-AutoMLSMBO(1)::d696b349-9dd2-11ec-9052-8591ea0dde6e] Configuration 506 not found\n",
      "[WARNING] [2022-03-06 20:56:02,384:Client-AutoMLSMBO(1)::d696b349-9dd2-11ec-9052-8591ea0dde6e] Configuration 67 not found\n",
      "[WARNING] [2022-03-06 20:56:02,384:Client-AutoMLSMBO(1)::d696b349-9dd2-11ec-9052-8591ea0dde6e] Configuration 91 not found\n",
      "[WARNING] [2022-03-06 20:56:02,384:Client-AutoMLSMBO(1)::d696b349-9dd2-11ec-9052-8591ea0dde6e] Configuration 694 not found\n",
      "[WARNING] [2022-03-06 20:56:02,384:Client-AutoMLSMBO(1)::d696b349-9dd2-11ec-9052-8591ea0dde6e] Configuration 176 not found\n",
      "[WARNING] [2022-03-06 20:56:02,384:Client-AutoMLSMBO(1)::d696b349-9dd2-11ec-9052-8591ea0dde6e] Configuration 378 not found\n",
      "[WARNING] [2022-03-06 20:56:02,385:Client-AutoMLSMBO(1)::d696b349-9dd2-11ec-9052-8591ea0dde6e] Configuration 624 not found\n",
      "[WARNING] [2022-03-06 20:56:02,385:Client-AutoMLSMBO(1)::d696b349-9dd2-11ec-9052-8591ea0dde6e] Configuration 576 not found\n",
      "[WARNING] [2022-03-06 20:56:02,385:Client-AutoMLSMBO(1)::d696b349-9dd2-11ec-9052-8591ea0dde6e] Configuration 448 not found\n",
      "[WARNING] [2022-03-06 20:56:02,385:Client-AutoMLSMBO(1)::d696b349-9dd2-11ec-9052-8591ea0dde6e] Configuration 9 not found\n",
      "[WARNING] [2022-03-06 20:56:02,385:Client-AutoMLSMBO(1)::d696b349-9dd2-11ec-9052-8591ea0dde6e] Configuration 81 not found\n",
      "[WARNING] [2022-03-06 20:56:02,385:Client-AutoMLSMBO(1)::d696b349-9dd2-11ec-9052-8591ea0dde6e] Configuration 601 not found\n",
      "[WARNING] [2022-03-06 20:56:02,385:Client-AutoMLSMBO(1)::d696b349-9dd2-11ec-9052-8591ea0dde6e] Configuration 108 not found\n",
      "[WARNING] [2022-03-06 20:56:02,385:Client-AutoMLSMBO(1)::d696b349-9dd2-11ec-9052-8591ea0dde6e] Configuration 631 not found\n",
      "[WARNING] [2022-03-06 20:56:02,386:Client-AutoMLSMBO(1)::d696b349-9dd2-11ec-9052-8591ea0dde6e] Configuration 71 not found\n",
      "[WARNING] [2022-03-06 20:56:02,386:Client-AutoMLSMBO(1)::d696b349-9dd2-11ec-9052-8591ea0dde6e] Configuration 32 not found\n",
      "[WARNING] [2022-03-06 20:56:02,386:Client-AutoMLSMBO(1)::d696b349-9dd2-11ec-9052-8591ea0dde6e] Configuration 407 not found\n",
      "[WARNING] [2022-03-06 20:56:02,386:Client-AutoMLSMBO(1)::d696b349-9dd2-11ec-9052-8591ea0dde6e] Configuration 227 not found\n",
      "[WARNING] [2022-03-06 20:56:02,386:Client-AutoMLSMBO(1)::d696b349-9dd2-11ec-9052-8591ea0dde6e] Configuration 476 not found\n",
      "[WARNING] [2022-03-06 20:56:02,386:Client-AutoMLSMBO(1)::d696b349-9dd2-11ec-9052-8591ea0dde6e] Configuration 238 not found\n",
      "[WARNING] [2022-03-06 20:56:02,386:Client-AutoMLSMBO(1)::d696b349-9dd2-11ec-9052-8591ea0dde6e] Configuration 283 not found\n",
      "[WARNING] [2022-03-06 20:56:02,386:Client-AutoMLSMBO(1)::d696b349-9dd2-11ec-9052-8591ea0dde6e] Configuration 657 not found\n",
      "[WARNING] [2022-03-06 20:56:02,386:Client-AutoMLSMBO(1)::d696b349-9dd2-11ec-9052-8591ea0dde6e] Configuration 266 not found\n",
      "[WARNING] [2022-03-06 20:56:02,386:Client-AutoMLSMBO(1)::d696b349-9dd2-11ec-9052-8591ea0dde6e] Configuration 243 not found\n",
      "[WARNING] [2022-03-06 20:56:02,386:Client-AutoMLSMBO(1)::d696b349-9dd2-11ec-9052-8591ea0dde6e] Configuration 369 not found\n",
      "[WARNING] [2022-03-06 20:56:02,386:Client-AutoMLSMBO(1)::d696b349-9dd2-11ec-9052-8591ea0dde6e] Configuration 690 not found\n",
      "[WARNING] [2022-03-06 20:56:02,386:Client-AutoMLSMBO(1)::d696b349-9dd2-11ec-9052-8591ea0dde6e] Configuration 171 not found\n",
      "[WARNING] [2022-03-06 20:56:02,386:Client-AutoMLSMBO(1)::d696b349-9dd2-11ec-9052-8591ea0dde6e] Configuration 19 not found\n",
      "[WARNING] [2022-03-06 20:56:02,386:Client-AutoMLSMBO(1)::d696b349-9dd2-11ec-9052-8591ea0dde6e] Configuration 206 not found\n",
      "[WARNING] [2022-03-06 20:56:02,386:Client-AutoMLSMBO(1)::d696b349-9dd2-11ec-9052-8591ea0dde6e] Configuration 220 not found\n",
      "[WARNING] [2022-03-06 20:56:02,386:Client-AutoMLSMBO(1)::d696b349-9dd2-11ec-9052-8591ea0dde6e] Configuration 486 not found\n",
      "[WARNING] [2022-03-06 20:56:02,386:Client-AutoMLSMBO(1)::d696b349-9dd2-11ec-9052-8591ea0dde6e] Configuration 393 not found\n",
      "[WARNING] [2022-03-06 20:56:02,386:Client-AutoMLSMBO(1)::d696b349-9dd2-11ec-9052-8591ea0dde6e] Configuration 528 not found\n",
      "[WARNING] [2022-03-06 20:56:02,386:Client-AutoMLSMBO(1)::d696b349-9dd2-11ec-9052-8591ea0dde6e] Configuration 403 not found\n",
      "[WARNING] [2022-03-06 20:56:02,386:Client-AutoMLSMBO(1)::d696b349-9dd2-11ec-9052-8591ea0dde6e] Configuration 191 not found\n",
      "[WARNING] [2022-03-06 20:56:02,387:Client-AutoMLSMBO(1)::d696b349-9dd2-11ec-9052-8591ea0dde6e] Configuration 553 not found\n",
      "[WARNING] [2022-03-06 20:56:02,387:Client-AutoMLSMBO(1)::d696b349-9dd2-11ec-9052-8591ea0dde6e] Configuration 546 not found\n",
      "[WARNING] [2022-03-06 20:56:02,387:Client-AutoMLSMBO(1)::d696b349-9dd2-11ec-9052-8591ea0dde6e] Configuration 426 not found\n",
      "[WARNING] [2022-03-06 20:56:02,387:Client-AutoMLSMBO(1)::d696b349-9dd2-11ec-9052-8591ea0dde6e] Configuration 512 not found\n",
      "[WARNING] [2022-03-06 20:56:02,387:Client-AutoMLSMBO(1)::d696b349-9dd2-11ec-9052-8591ea0dde6e] Configuration 518 not found\n",
      "[WARNING] [2022-03-06 20:56:02,387:Client-AutoMLSMBO(1)::d696b349-9dd2-11ec-9052-8591ea0dde6e] Configuration 28 not found\n",
      "[WARNING] [2022-03-06 20:56:02,387:Client-AutoMLSMBO(1)::d696b349-9dd2-11ec-9052-8591ea0dde6e] Configuration 254 not found\n",
      "[WARNING] [2022-03-06 20:56:02,387:Client-AutoMLSMBO(1)::d696b349-9dd2-11ec-9052-8591ea0dde6e] Configuration 674 not found\n",
      "[WARNING] [2022-03-06 20:56:02,387:Client-AutoMLSMBO(1)::d696b349-9dd2-11ec-9052-8591ea0dde6e] Configuration 147 not found\n",
      "[WARNING] [2022-03-06 20:56:02,387:Client-AutoMLSMBO(1)::d696b349-9dd2-11ec-9052-8591ea0dde6e] Configuration 338 not found\n",
      "[WARNING] [2022-03-06 20:56:02,387:Client-AutoMLSMBO(1)::d696b349-9dd2-11ec-9052-8591ea0dde6e] Configuration 43 not found\n",
      "[WARNING] [2022-03-06 20:56:02,387:Client-AutoMLSMBO(1)::d696b349-9dd2-11ec-9052-8591ea0dde6e] Configuration 145 not found\n",
      "[WARNING] [2022-03-06 20:56:02,387:Client-AutoMLSMBO(1)::d696b349-9dd2-11ec-9052-8591ea0dde6e] Configuration 367 not found\n",
      "[WARNING] [2022-03-06 20:56:02,387:Client-AutoMLSMBO(1)::d696b349-9dd2-11ec-9052-8591ea0dde6e] Configuration 480 not found\n",
      "[WARNING] [2022-03-06 20:56:02,387:Client-AutoMLSMBO(1)::d696b349-9dd2-11ec-9052-8591ea0dde6e] Configuration 587 not found\n",
      "[WARNING] [2022-03-06 20:56:02,387:Client-AutoMLSMBO(1)::d696b349-9dd2-11ec-9052-8591ea0dde6e] Configuration 653 not found\n",
      "[WARNING] [2022-03-06 20:56:02,387:Client-AutoMLSMBO(1)::d696b349-9dd2-11ec-9052-8591ea0dde6e] Configuration 605 not found\n",
      "[WARNING] [2022-03-06 20:56:02,387:Client-AutoMLSMBO(1)::d696b349-9dd2-11ec-9052-8591ea0dde6e] Configuration 264 not found\n",
      "[WARNING] [2022-03-06 20:56:02,387:Client-AutoMLSMBO(1)::d696b349-9dd2-11ec-9052-8591ea0dde6e] Configuration 574 not found\n",
      "[WARNING] [2022-03-06 20:56:02,387:Client-AutoMLSMBO(1)::d696b349-9dd2-11ec-9052-8591ea0dde6e] Configuration 648 not found\n",
      "[WARNING] [2022-03-06 20:56:02,387:Client-AutoMLSMBO(1)::d696b349-9dd2-11ec-9052-8591ea0dde6e] Configuration 509 not found\n",
      "[WARNING] [2022-03-06 20:56:02,387:Client-AutoMLSMBO(1)::d696b349-9dd2-11ec-9052-8591ea0dde6e] Configuration 69 not found\n",
      "[WARNING] [2022-03-06 20:56:02,388:Client-AutoMLSMBO(1)::d696b349-9dd2-11ec-9052-8591ea0dde6e] Configuration 142 not found\n",
      "[WARNING] [2022-03-06 20:56:02,388:Client-AutoMLSMBO(1)::d696b349-9dd2-11ec-9052-8591ea0dde6e] Configuration 437 not found\n",
      "[WARNING] [2022-03-06 20:56:02,388:Client-AutoMLSMBO(1)::d696b349-9dd2-11ec-9052-8591ea0dde6e] Configuration 310 not found\n",
      "[WARNING] [2022-03-06 20:56:02,388:Client-AutoMLSMBO(1)::d696b349-9dd2-11ec-9052-8591ea0dde6e] Configuration 430 not found\n",
      "[WARNING] [2022-03-06 20:56:02,388:Client-AutoMLSMBO(1)::d696b349-9dd2-11ec-9052-8591ea0dde6e] Configuration 701 not found\n",
      "[WARNING] [2022-03-06 20:56:02,388:Client-AutoMLSMBO(1)::d696b349-9dd2-11ec-9052-8591ea0dde6e] Configuration 262 not found\n",
      "[WARNING] [2022-03-06 20:56:02,388:Client-AutoMLSMBO(1)::d696b349-9dd2-11ec-9052-8591ea0dde6e] Configuration 515 not found\n",
      "[WARNING] [2022-03-06 20:56:02,388:Client-AutoMLSMBO(1)::d696b349-9dd2-11ec-9052-8591ea0dde6e] Configuration 357 not found\n",
      "[WARNING] [2022-03-06 20:56:02,390:Client-AutoMLSMBO(1)::d696b349-9dd2-11ec-9052-8591ea0dde6e] Configuration 40 not found\n",
      "[WARNING] [2022-03-06 20:56:02,391:Client-AutoMLSMBO(1)::d696b349-9dd2-11ec-9052-8591ea0dde6e] Configuration 622 not found\n",
      "[WARNING] [2022-03-06 20:56:02,391:Client-AutoMLSMBO(1)::d696b349-9dd2-11ec-9052-8591ea0dde6e] Configuration 676 not found\n",
      "[WARNING] [2022-03-06 20:56:02,391:Client-AutoMLSMBO(1)::d696b349-9dd2-11ec-9052-8591ea0dde6e] Configuration 53 not found\n",
      "[WARNING] [2022-03-06 20:56:02,391:Client-AutoMLSMBO(1)::d696b349-9dd2-11ec-9052-8591ea0dde6e] Configuration 131 not found\n",
      "[WARNING] [2022-03-06 20:56:02,391:Client-AutoMLSMBO(1)::d696b349-9dd2-11ec-9052-8591ea0dde6e] Configuration 640 not found\n",
      "[WARNING] [2022-03-06 20:56:02,391:Client-AutoMLSMBO(1)::d696b349-9dd2-11ec-9052-8591ea0dde6e] Configuration 422 not found\n",
      "[WARNING] [2022-03-06 20:56:02,392:Client-AutoMLSMBO(1)::d696b349-9dd2-11ec-9052-8591ea0dde6e] Configuration 536 not found\n",
      "[WARNING] [2022-03-06 20:56:02,392:Client-AutoMLSMBO(1)::d696b349-9dd2-11ec-9052-8591ea0dde6e] Configuration 232 not found\n",
      "[WARNING] [2022-03-06 20:56:02,392:Client-AutoMLSMBO(1)::d696b349-9dd2-11ec-9052-8591ea0dde6e] Configuration 114 not found\n",
      "[WARNING] [2022-03-06 20:56:02,392:Client-AutoMLSMBO(1)::d696b349-9dd2-11ec-9052-8591ea0dde6e] Configuration 293 not found\n",
      "[WARNING] [2022-03-06 20:56:02,392:Client-AutoMLSMBO(1)::d696b349-9dd2-11ec-9052-8591ea0dde6e] Configuration 382 not found\n",
      "[WARNING] [2022-03-06 20:56:02,392:Client-AutoMLSMBO(1)::d696b349-9dd2-11ec-9052-8591ea0dde6e] Configuration 687 not found\n",
      "[WARNING] [2022-03-06 20:56:02,392:Client-AutoMLSMBO(1)::d696b349-9dd2-11ec-9052-8591ea0dde6e] Configuration 270 not found\n",
      "[WARNING] [2022-03-06 20:56:02,392:Client-AutoMLSMBO(1)::d696b349-9dd2-11ec-9052-8591ea0dde6e] Configuration 154 not found\n",
      "[WARNING] [2022-03-06 20:56:02,392:Client-AutoMLSMBO(1)::d696b349-9dd2-11ec-9052-8591ea0dde6e] Configuration 313 not found\n",
      "[WARNING] [2022-03-06 20:56:02,392:Client-AutoMLSMBO(1)::d696b349-9dd2-11ec-9052-8591ea0dde6e] Configuration 635 not found\n",
      "[WARNING] [2022-03-06 20:56:02,393:Client-AutoMLSMBO(1)::d696b349-9dd2-11ec-9052-8591ea0dde6e] Configuration 172 not found\n",
      "[WARNING] [2022-03-06 20:56:02,393:Client-AutoMLSMBO(1)::d696b349-9dd2-11ec-9052-8591ea0dde6e] Configuration 538 not found\n",
      "[WARNING] [2022-03-06 20:56:02,393:Client-AutoMLSMBO(1)::d696b349-9dd2-11ec-9052-8591ea0dde6e] Configuration 214 not found\n",
      "[WARNING] [2022-03-06 20:56:02,393:Client-AutoMLSMBO(1)::d696b349-9dd2-11ec-9052-8591ea0dde6e] Configuration 302 not found\n",
      "[WARNING] [2022-03-06 20:56:02,393:Client-AutoMLSMBO(1)::d696b349-9dd2-11ec-9052-8591ea0dde6e] Configuration 388 not found\n",
      "[WARNING] [2022-03-06 20:56:02,393:Client-AutoMLSMBO(1)::d696b349-9dd2-11ec-9052-8591ea0dde6e] Configuration 524 not found\n",
      "[WARNING] [2022-03-06 20:56:02,393:Client-AutoMLSMBO(1)::d696b349-9dd2-11ec-9052-8591ea0dde6e] Configuration 322 not found\n",
      "[WARNING] [2022-03-06 20:56:02,393:Client-AutoMLSMBO(1)::d696b349-9dd2-11ec-9052-8591ea0dde6e] Configuration 165 not found\n",
      "[WARNING] [2022-03-06 20:56:02,393:Client-AutoMLSMBO(1)::d696b349-9dd2-11ec-9052-8591ea0dde6e] Configuration 419 not found\n",
      "[WARNING] [2022-03-06 20:56:02,393:Client-AutoMLSMBO(1)::d696b349-9dd2-11ec-9052-8591ea0dde6e] Configuration 461 not found\n",
      "[WARNING] [2022-03-06 20:56:02,393:Client-AutoMLSMBO(1)::d696b349-9dd2-11ec-9052-8591ea0dde6e] Configuration 291 not found\n",
      "[WARNING] [2022-03-06 20:56:02,393:Client-AutoMLSMBO(1)::d696b349-9dd2-11ec-9052-8591ea0dde6e] Configuration 58 not found\n",
      "[WARNING] [2022-03-06 20:56:02,393:Client-AutoMLSMBO(1)::d696b349-9dd2-11ec-9052-8591ea0dde6e] Configuration 25 not found\n",
      "[WARNING] [2022-03-06 20:56:02,394:Client-AutoMLSMBO(1)::d696b349-9dd2-11ec-9052-8591ea0dde6e] Configuration 452 not found\n",
      "[WARNING] [2022-03-06 20:56:02,394:Client-AutoMLSMBO(1)::d696b349-9dd2-11ec-9052-8591ea0dde6e] Configuration 120 not found\n",
      "[WARNING] [2022-03-06 20:56:02,394:Client-AutoMLSMBO(1)::d696b349-9dd2-11ec-9052-8591ea0dde6e] Configuration 499 not found\n",
      "[WARNING] [2022-03-06 20:56:02,394:Client-AutoMLSMBO(1)::d696b349-9dd2-11ec-9052-8591ea0dde6e] Configuration 363 not found\n",
      "[WARNING] [2022-03-06 20:56:02,394:Client-AutoMLSMBO(1)::d696b349-9dd2-11ec-9052-8591ea0dde6e] Configuration 548 not found\n",
      "[WARNING] [2022-03-06 20:56:02,394:Client-AutoMLSMBO(1)::d696b349-9dd2-11ec-9052-8591ea0dde6e] Configuration 375 not found\n",
      "[WARNING] [2022-03-06 20:56:02,395:Client-AutoMLSMBO(1)::d696b349-9dd2-11ec-9052-8591ea0dde6e] Configuration 317 not found\n",
      "[WARNING] [2022-03-06 20:56:02,395:Client-AutoMLSMBO(1)::d696b349-9dd2-11ec-9052-8591ea0dde6e] Configuration 304 not found\n",
      "[WARNING] [2022-03-06 20:56:02,413:Client-AutoMLSMBO(1)::d696b349-9dd2-11ec-9052-8591ea0dde6e] Configuration 643 not found\n",
      "[WARNING] [2022-03-06 20:56:02,415:Client-AutoMLSMBO(1)::d696b349-9dd2-11ec-9052-8591ea0dde6e] Configuration 86 not found\n",
      "[WARNING] [2022-03-06 20:56:02,416:Client-AutoMLSMBO(1)::d696b349-9dd2-11ec-9052-8591ea0dde6e] Configuration 275 not found\n"
     ]
    },
    {
     "data": {
      "text/plain": [
       "AutoSklearnClassifier(include={'feature_preprocessor': ['no_preprocessing']},\n",
       "                      n_jobs=-1, per_run_time_limit=24,\n",
       "                      time_left_for_this_task=60)"
      ]
     },
     "execution_count": 7,
     "metadata": {},
     "output_type": "execute_result"
    }
   ],
   "source": [
    "clf = AutoSklearnClassifier(time_left_for_this_task=60, n_jobs=-1, include={'feature_preprocessor': ['no_preprocessing']})\n",
    "clf.fit(x_train, y_train)"
   ]
  },
  {
   "cell_type": "code",
   "execution_count": 8,
   "metadata": {},
   "outputs": [
    {
     "name": "stdout",
     "output_type": "stream",
     "text": [
      "0.9953703703703703\n",
      "[3. 5. 2. ... 4. 5. 3.] [3. 5. 2. ... 4. 5. 3.]\n"
     ]
    }
   ],
   "source": [
    "y_pred = clf.predict(x_test)\n",
    "print(metrics.accuracy_score(y_test, y_pred))\n",
    "print(y_test, y_pred)"
   ]
  },
  {
   "cell_type": "markdown",
   "metadata": {},
   "source": [
    "1:10"
   ]
  },
  {
   "cell_type": "markdown",
   "metadata": {},
   "source": [
    "## How well does it perform on unseen data?"
   ]
  },
  {
   "cell_type": "code",
   "execution_count": 9,
   "metadata": {},
   "outputs": [],
   "source": [
    "unseen_data = modules.NT(\"../../../data/b100d100.csv\")"
   ]
  },
  {
   "cell_type": "code",
   "execution_count": 10,
   "metadata": {},
   "outputs": [
    {
     "name": "stdout",
     "output_type": "stream",
     "text": [
      "0.6692592592592592\n",
      "[4. 4. 4. ... 6. 6. 6.] [4. 4. 4. ... 4. 4. 4.]\n"
     ]
    }
   ],
   "source": [
    "y_pred_unseen = clf.predict(unseen_data.data)\n",
    "print(metrics.accuracy_score(unseen_data.target, y_pred_unseen))\n",
    "print(unseen_data.target, y_pred_unseen)\n",
    "#print(clf.leaderboard())"
   ]
  },
  {
   "cell_type": "markdown",
   "metadata": {},
   "source": [
    "1:05"
   ]
  }
 ],
 "metadata": {
  "interpreter": {
   "hash": "916dbcbb3f70747c44a77c7bcd40155683ae19c65e1c03b4aa3499c5328201f1"
  },
  "kernelspec": {
   "display_name": "Python 3.8.10 64-bit",
   "language": "python",
   "name": "python3"
  },
  "language_info": {
   "codemirror_mode": {
    "name": "ipython",
    "version": 3
   },
   "file_extension": ".py",
   "mimetype": "text/x-python",
   "name": "python",
   "nbconvert_exporter": "python",
   "pygments_lexer": "ipython3",
   "version": "3.8.10"
  },
  "orig_nbformat": 4
 },
 "nbformat": 4,
 "nbformat_minor": 2
}
